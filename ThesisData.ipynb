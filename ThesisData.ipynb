{
 "cells": [
  {
   "cell_type": "code",
   "execution_count": 1,
   "metadata": {},
   "outputs": [],
   "source": [
    "from sklearn.cluster import KMeans\n",
    "import matplotlib.pyplot as plt\n",
    "import numpy as np\n",
    "import pandas as pd\n",
    "import statistics\n",
    "\n",
    "'''CFRS is Cluster First Route Second'''\n",
    "\n",
    "'''n_clusters = the number of clusters that you want e.g n_clusters = 2\n",
    "cartposition = the current location of the carts e.g cartposition = [6, 1]\n",
    "pickup = pickup location e.g pickup = [5,1,7,5,4,3,4,5,1]\n",
    "delivery = delivery location e.g delivery = [2,3,6,8,3,6,2,7,8]\n",
    "volume = The lot of lots carried al through the whole cluster.\n",
    "'''\n",
    "\n",
    "def CFRSKMeans(n_clusters,cartposition,pickup,delivery,Volume):\n",
    "   \n",
    "    # Assigning different empty lists\n",
    "    \n",
    "    # Distances stores the distance in mm between any pickup and delivery picked.\n",
    "    # The distance between consecutive machines is 10mm.\n",
    "    \n",
    "    Distances = []\n",
    "    \n",
    "    # DistCart is used to append the sum total of distance travelled from  cartposition to \n",
    "    # pickup to delivery and back to the cartposition.\n",
    "    DistCart = []\n",
    "    \n",
    "    avgCartLoad = []\n",
    "    \n",
    "    #The number of requests\n",
    "    Request = [req for req in range(1,len(pickup)+1)]\n",
    "\n",
    "    # for loop to calculate the distance between any pickup and delivery.\n",
    "    # The distance between consecutive machines is 10mm\n",
    "    i = 0\n",
    "    for i in range(len(cartposition)): \n",
    "\n",
    "        j=0\n",
    "        while j < len(pickup):\n",
    "\n",
    "            # Calculating the distance between the position of the cart and the pickup\n",
    "            Distance1 =abs(np.array(pickup) - cartposition[i])*10\n",
    "\n",
    "            # Distance between Pickup and delievery\n",
    "            Distance2 = list(map(lambda x,y: abs(x-y)*10, pickup,delivery))\n",
    "\n",
    "            # Calculating the distance between the position of the cart and the pickup\n",
    "            Distance3 =abs(np.array(delivery) - cartposition[i])*10\n",
    "\n",
    "            ''' suming the distance from the cart to the pickup, pickup to the delivery \n",
    "            and delivery back to the position of the cart.\n",
    "            '''\n",
    "            Distance = Distance1[j] + Distance2[j] + Distance3[j]\n",
    "            \n",
    "        \n",
    "            # Appending the distances in Distance\n",
    "            \n",
    "            Distances.append(Distance)\n",
    "            \n",
    "            j+=1\n",
    "        pass\n",
    "        #print ( 'distance for cart', cartposition[i] ,'=',Distances)\n",
    "       \n",
    "        DistCart.append(Distances.copy())\n",
    "        Distances[:]= []\n",
    "    #print(DistCart)\n",
    "    b = 0\n",
    "    \n",
    "    # Value appends the distances in distCart by puting all arrays of Distcart into one array\n",
    "    # such that the value of same indexes are beside each other.\n",
    "    \n",
    "    value = []\n",
    "    \n",
    "    for c in range(len(pickup)):\n",
    "        for a in DistCart:\n",
    "            value.append(a[b])\n",
    "\n",
    "        b+=1\n",
    "    #print(value)\n",
    "    \n",
    "    # Value1 splites the array of value into smaller array of the lenght of the cluster.\n",
    "    \n",
    "    value1 = []\n",
    "    \n",
    "    for s in range(0,len(value),len(cartposition)): # (startvalue, stopvalue, stepvalue)\n",
    "        value1.append(value[s:s + len(cartposition)])\n",
    "        \n",
    "    #print( value1)\n",
    "    \n",
    "    # using KMeans as our clustering tool.\n",
    "    \n",
    "    X = np.asarray(value1)\n",
    "    kmeans = KMeans(n_clusters, random_state=0).fit(X)\n",
    "    \n",
    "    #print(kmeans.labels_)\n",
    "    #kMeans.cluster_centers_\n",
    "    \n",
    "\n",
    "    # This for loop splits the pickup and delivery into the respective clusters\n",
    "    \n",
    "    # Appends the pickups splited into clusters\n",
    "    Index1 = [] \n",
    "   \n",
    "    # Appends the delieveries splited into clusters\n",
    "    Index3 = []\n",
    "    \n",
    "    # Appends the volume splited into clusters\n",
    "    Index5 = []\n",
    "    \n",
    "    # Appends the request splited into clusters\n",
    "    Index7 = []\n",
    "    \n",
    "    for l in np.unique(kmeans.labels_):\n",
    "        \n",
    "        Index = [pickup[k] for k, x in enumerate(kmeans.labels_) if x == l]\n",
    "        Index1.append(Index)\n",
    "        Index2 = [delivery[k] for k, x in enumerate(kmeans.labels_) if x == l]\n",
    "        Index3.append(Index2)\n",
    "        Index4 = [Volume[k] for k, x in enumerate(kmeans.labels_) if x == l]\n",
    "        Index5.append(Index4)\n",
    "        Index6 = [Request[k] for k, x in enumerate(kmeans.labels_) if x == l]\n",
    "        Index7.append(Index6)\n",
    "        \n",
    "\n",
    "    #print (Index1)\n",
    "    #print (Index3)\n",
    "    #print (Index5)\n",
    "    #print (Index7)\n",
    "    \n",
    "\n",
    "    # This for loop assigns value to depot, pickup and delivery.\n",
    "    \n",
    "    for v in range(len(cartposition)):\n",
    "\n",
    "        depot = cartposition[v]\n",
    "        pickup = Index1[v]\n",
    "        delivery = Index3[v]\n",
    "        Volume = Index5[v]\n",
    "        Request = Index7[v]\n",
    "        #print (depot,pickup,delivery, volume)\n",
    "            \n",
    "        # Retains values before the iteration    \n",
    "        pickup1 = pickup.copy()\n",
    "        delivery1 = delivery.copy()\n",
    "\n",
    "\n",
    "        # Calculating the distance between the depot and the pickup\n",
    "        Distance1 =abs(np.array(pickup) - depot)*10\n",
    "\n",
    "        #Minimum distance of Distance1\n",
    "        minDistance1 =  min(Distance1)\n",
    "\n",
    "        # Putting the index of the minDistance into a list(This index could be more than one).\n",
    "        minDistanceIndex = [k for k, x in enumerate(Distance1) if x == minDistance1]\n",
    "\n",
    "        # looping through minDistanceIndex\n",
    "        for j in minDistanceIndex:\n",
    "\n",
    "            # Re-assigning the minimum in Distance1 for each index in minDistanceIndex\n",
    "            if(np.any(min(Distance1) == Distance1[j])):\n",
    "                minDistance1 = Distance1[j] \n",
    "\n",
    "                # Making sure that the pickup and delivery are the original pickup and delivery inputed by the user.\n",
    "                pickup = pickup1.copy()\n",
    "                delivery = delivery1.copy()\n",
    "\n",
    "\n",
    "                # Distance between Pickup and delievery\n",
    "                Distance2 = list(map(lambda x,y: abs(x-y)*10, pickup,delivery))\n",
    "\n",
    "\n",
    "                # Taking the minimum of the distance between the depot ,pickup and delivery\n",
    "                Distances = [minDistance1,Distance2.pop(j)]\n",
    "\n",
    "                '''Picking the index of the vector with the shortest distance \n",
    "                in pickup and delivery and putting them in an array that contains the depot already'''\n",
    "\n",
    "                route = [depot, pickup.pop(j),delivery.pop(j)]\n",
    "\n",
    "                # Looping through pickup till the list becomes empty \n",
    "                p=0\n",
    "                while p < len(pickup1)-1:\n",
    "\n",
    "                    # checking for the nearest pickup location close to the delivery location of the previous pickup\n",
    "                    Distance3 = list(map(lambda i:abs(i-route[-1])*10,pickup))\n",
    "\n",
    "                    # Minimum distance of Distance1\n",
    "                    minDistance3 = min(Distance3)\n",
    "\n",
    "                    # Putting the same elements index into a list\n",
    "                    minDistanceIndex1 = [s for s, t in enumerate(Distance3) if t == minDistance3]\n",
    "\n",
    "\n",
    "                    # Appending distance and route\n",
    "                    Distances.append(min(Distance3))\n",
    "                    Distances.append(Distance2.pop(np.argmin(Distance3)))\n",
    "                    route.append(pickup.pop(np.argmin(Distance3)))\n",
    "                    route.append(delivery.pop(np.argmin(Distance3)))\n",
    "                    p =p+1\n",
    "\n",
    "                pass\n",
    "                Distances.append(abs(route[-1]-depot)*10)\n",
    "                route.append(depot)\n",
    "\n",
    "            print(\"Distances =\", Distances,\"\\n\",\"Route =\", route,\"\\n\",\"Distance =\",sum(Distances),\"\\n\",\"time =\",\n",
    "                  sum(Distances)*1,\"secs\",\"\\n\",\" Request =\",Request,\"\\n\",\n",
    "                  \"Depot = \",depot,\"\\n\",\"Volume =\",Volume, sum(Volume),\"\\n\",\"AvgCartLoad =\", sum(Volume)/ len(Volume),\"\\n\")\n",
    "\n",
    "            avgCartLoad.append(sum(Volume)/ len(Volume))\n",
    "            plt.bar(Request,Volume)\n",
    "            plt.ylabel('volume')\n",
    "            plt.xlabel('Requests')\n",
    "            plt.show()\n",
    "        print('\\n')    \n",
    "    #print(avgCartLoad)    \n",
    "    print('Variance =', statistics.variance(avgCartLoad))\n",
    "\n",
    "\n",
    "\n"
   ]
  },
  {
   "cell_type": "code",
   "execution_count": 2,
   "metadata": {},
   "outputs": [],
   "source": [
    "from sklearn_extra.cluster import KMedoids\n",
    "import matplotlib.pyplot as plt\n",
    "import numpy as np\n",
    "import pandas as pd\n",
    "import statistics\n",
    "#import time\n",
    "'''CFRS is Cluster First Route Second'''\n",
    "\n",
    "'''n_clusters = the number of clusters that you want e.g n_clusters = 2\n",
    "cartposition = the current location of the cart e.g cartposition = [6, 1]\n",
    "pickup = pickup location e.g pickup = [5,1,7,5,4,3,4,5,1]\n",
    "delivery = delivery location e.g delivery = [2,3,6,8,3,6,2,7,8]\n",
    "'''\n",
    "#start = time.time()\n",
    "def CFRSKMedoids(n_clusters,cartposition,pickup,delivery,Volume):\n",
    "    \n",
    "    # Assigning different empty lists\n",
    "    \n",
    "    # Distances stores the distance in mm of between any pickup and delivery picked.\n",
    "    # The distance between consecutive machines is 10mm.\n",
    "    \n",
    "    Distances = []\n",
    "    \n",
    "    # DistCart is used to append the sum total of distance travelled from  cartposition to \n",
    "    # pickup to delivery and back to the cartposition.\n",
    "    DistCart = []\n",
    "    \n",
    "    # avgcartload stores average cart load\n",
    "    avgCartLoad = []\n",
    "    \n",
    "    #Requests\n",
    "    Request = [req for req in range(1,len(pickup)+1)]\n",
    "\n",
    "    # for loop for getting distance between any pickup and delivery picked.\n",
    "    # The distance between consecutive machines is 10mm\n",
    "    i = 0\n",
    "    for i in range(len(cartposition)): \n",
    "\n",
    "        j=0\n",
    "        while j < len(pickup):\n",
    "\n",
    "            # Calculating the distance between the position of the cart and the pickup\n",
    "            Distance1 =abs(np.array(pickup) - cartposition[i])*10\n",
    "\n",
    "            # Distance between Pickup and delievery\n",
    "            Distance2 = list(map(lambda x,y: abs(x-y)*10, pickup,delivery))\n",
    "\n",
    "            # Calculating the distance between the position of the cart and the pickup\n",
    "            Distance3 =abs(np.array(delivery) - cartposition[i])*10\n",
    "\n",
    "            ''' suming the distance from the cart to the pickup, pickup to the delivery \n",
    "            and delivery back to the position of the cart.\n",
    "            '''\n",
    "            Distance = Distance1[j] + Distance2[j] + Distance3[j]\n",
    "            \n",
    "        \n",
    "            # Appending the distances in Distance\n",
    "            \n",
    "            Distances.append(Distance)\n",
    "            \n",
    "            j+=1\n",
    "        pass\n",
    "        #print ( 'distance for cart', cartposition[i] ,'=',Distances)\n",
    "       \n",
    "        DistCart.append(Distances.copy())\n",
    "        Distances[:]= []\n",
    "    #print(DistCart)\n",
    "    b = 0\n",
    "    \n",
    "    # Value appends the distances in distCart by puting all arrays of Distcart into one array\n",
    "    # such that the value of same indexes are beside each other.\n",
    "    \n",
    "    value = []\n",
    "    \n",
    "    for c in range(len(pickup)):\n",
    "        for a in DistCart:\n",
    "            value.append(a[b])\n",
    "\n",
    "        b+=1\n",
    "    #print(value)\n",
    "    \n",
    "    # Value1 splites the array of value into smaller array of the lenght of the cluster.\n",
    "    \n",
    "    value1 = []\n",
    "    \n",
    "    for s in range(0,len(value),len(cartposition)): # (startvalue, stopvalue, stepvalue)\n",
    "        value1.append(value[s:s + len(cartposition)])\n",
    "        \n",
    "    #print( value1)\n",
    "    \n",
    "    # using KMedoids as our clustering tool.\n",
    "    \n",
    "    X = np.asarray(value1)\n",
    "    Kmedoids = KMedoids(n_clusters, random_state=0).fit(X)\n",
    "    \n",
    "    print(Kmedoids.labels_)\n",
    "    #Kmedoids.cluster_centers_\n",
    "    \n",
    "\n",
    "    # This for loop splits the pickup and delivery into the respective clusters\n",
    "    \n",
    "    # Appends the pickups splited into clusters\n",
    "    Index1 = [] \n",
    "   \n",
    "    # Appends the delieveries splited into clusters\n",
    "    Index3 = []\n",
    "    \n",
    "    # Appends the volume splited into clusters\n",
    "    Index5 = []\n",
    "    \n",
    "    # Appends the request splited into clusters\n",
    "    Index7 = []\n",
    "    \n",
    "    for l in np.unique(Kmedoids.labels_):\n",
    "        \n",
    "        Index = [pickup[k] for k, x in enumerate(Kmedoids.labels_) if x == l]\n",
    "        Index1.append(Index)\n",
    "        Index2 = [delivery[k] for k, x in enumerate(Kmedoids.labels_) if x == l]\n",
    "        Index3.append(Index2)\n",
    "        Index4 = [Volume[k] for k, x in enumerate(Kmedoids.labels_) if x == l]\n",
    "        Index5.append(Index4)\n",
    "        Index6 = [Request[k] for k, x in enumerate(Kmedoids.labels_) if x == l]\n",
    "        Index7.append(Index6)\n",
    "        \n",
    "\n",
    "    #print (Index1)\n",
    "    #print (Index3)\n",
    "    #print (Index5)\n",
    "    #print (Index7)\n",
    "    \n",
    "\n",
    "    # This for loop assigns value to depot, pickup and delivery.\n",
    "    \n",
    "    for v in range(len(cartposition)):\n",
    "\n",
    "        depot = cartposition[v]\n",
    "        pickup = Index1[v]\n",
    "        delivery = Index3[v]\n",
    "        Volume = Index5[v]\n",
    "        Request = Index7[v]\n",
    "        #print (depot,pickup,delivery, volume)\n",
    "            \n",
    "        # Retains values before the iteration    \n",
    "        pickup1 = pickup.copy()\n",
    "        delivery1 = delivery.copy()\n",
    "\n",
    "\n",
    "        # Calculating the distance between the depot and the pickup\n",
    "        Distance1 =abs(np.array(pickup) - depot)*10\n",
    "\n",
    "        #Minimum distance of Distance1\n",
    "        minDistance1 =  min(Distance1)\n",
    "\n",
    "        # Putting the index of the minDistance into a list(This index could be more than one).\n",
    "        minDistanceIndex = [k for k, x in enumerate(Distance1) if x == minDistance1]\n",
    "\n",
    "        # looping through minDistanceIndex\n",
    "        for j in minDistanceIndex:\n",
    "\n",
    "            # Re-assigning the minimum in Distance1 for each index in minDistanceIndex\n",
    "            if(np.any(min(Distance1) == Distance1[j])):\n",
    "                minDistance1 = Distance1[j] \n",
    "\n",
    "                # Making sure that the pickup and delivery are the original pickup and delivery inputed by the user.\n",
    "                pickup = pickup1.copy()\n",
    "                delivery = delivery1.copy()\n",
    "\n",
    "\n",
    "                # Distance between Pickup and delievery\n",
    "                Distance2 = list(map(lambda x,y: abs(x-y)*10, pickup,delivery))\n",
    "\n",
    "\n",
    "                # Taking the minimum of the distance between the depot ,pickup and delivery\n",
    "                Distances = [minDistance1,Distance2.pop(j)]\n",
    "\n",
    "                '''Picking the index of the vector with the shortest distance \n",
    "                in pickup and delivery and putting them in an array that contains the depot already'''\n",
    "\n",
    "                route = [depot, pickup.pop(j),delivery.pop(j)]\n",
    "\n",
    "                # Looping through pickup till the list becomes empty \n",
    "                p=0\n",
    "                while p < len(pickup1)-1:\n",
    "\n",
    "                    # checking for the nearest pickup location close to the delivery location of the previous pickup\n",
    "                    Distance3 = list(map(lambda i:abs(i-route[-1])*10,pickup))\n",
    "\n",
    "                    # Minimum distance of Distance1\n",
    "                    minDistance3 = min(Distance3)\n",
    "\n",
    "                    # Putting the same elements index into a list\n",
    "                    minDistanceIndex1 = [s for s, t in enumerate(Distance3) if t == minDistance3]\n",
    "\n",
    "\n",
    "                    # Appending distance and route\n",
    "                    Distances.append(min(Distance3))\n",
    "                    Distances.append(Distance2.pop(np.argmin(Distance3)))\n",
    "                    route.append(pickup.pop(np.argmin(Distance3)))\n",
    "                    route.append(delivery.pop(np.argmin(Distance3)))\n",
    "                    p =p+1\n",
    "\n",
    "                pass\n",
    "                Distances.append(abs(route[-1]-depot)*10)\n",
    "                route.append(depot)\n",
    "\n",
    "           \n",
    "        print(\"Distances =\", Distances,\"\\n\",\"Route =\" ,route,\"\\n\",\"Distance =\",sum(Distances),\"\\n\",\"time =\",\n",
    "              sum(Distances)*1,\"secs\", \"\\n\",\" Request =\",Request,\"\\n\",\n",
    "                  \"Depot = \",depot,\"\\n\",\"Volume =\",Volume, sum(Volume),\"\\n\",\"AvgCartLoad =\", sum(Volume)/ len(Volume),\"\\n\")\n",
    "\n",
    "        print(\"\\n\")\n",
    "        avgCartLoad.append(sum(Volume)/ len(Volume))\n",
    "        s=[]\n",
    "        som = 0\n",
    "        for num in Distances:\n",
    "            som = som+num\n",
    "            s.append(som)\n",
    "\n",
    "        time = [i/60 for i in s]\n",
    "        v=[]\n",
    "\n",
    "        for vol in Volume:\n",
    "            v.append(0)\n",
    "            v.append(vol)\n",
    "        v.insert(len(v), 0)\n",
    "        plt.bar(time,v)\n",
    "        plt.ylabel('Volume (lot)')\n",
    "        plt.xlabel('Time (Minute)')\n",
    "        plt.show()\n",
    "        print('\\n')\n",
    "    #print(avgCartLoad)    \n",
    "    print('Variance =', statistics.variance(avgCartLoad))\n",
    "    \n",
    "\n",
    "#end = time.time()\n",
    "\n",
    "# total time taken\n",
    "#print(f\"Runtime of the program is {end - start}\")\n",
    "\n",
    "\n"
   ]
  },
  {
   "cell_type": "code",
   "execution_count": 3,
   "metadata": {},
   "outputs": [],
   "source": [
    "from sklearn.cluster import KMeans\n",
    "import matplotlib.pyplot as plt\n",
    "import numpy as np\n",
    "import pandas as pd\n",
    "import statistics\n",
    "import time\n",
    "\n",
    "\n",
    "'''CFRS is Cluster First Route Second'''\n",
    "\n",
    "'''n_clusters = the number of clusters that you want e.g n_clusters = 2\n",
    "cartposition = the current location of the cart e.g cartposition = [6, 1]\n",
    "pickup = pickup location e.g pickup = [5,1,7,5,4,3,4,5,1]\n",
    "delivery = delivery location e.g delivery = [2,3,6,8,3,6,2,7,8]\n",
    "'''\n",
    "#start = time.time()\n",
    "def CFRSKMeans(n_clusters,cartposition,pickup,delivery,Volume):\n",
    "    \n",
    "    # Assigning different empty lists\n",
    "    \n",
    "    # Distances stores the distance in mm of between any pickup and delivery picked.\n",
    "    # The distance between consecutive machines is 10mm.\n",
    "    \n",
    "    Distances = []\n",
    "    \n",
    "    # DistCart is used to append the sum total of distance travelled from  cartposition to \n",
    "    # pickup to delivery and back to the cartposition.\n",
    "    DistCart = []\n",
    "    \n",
    "    avgCartLoad = []\n",
    "    \n",
    "    Request = [req for req in range(1,len(pickup)+1)]\n",
    "\n",
    "    # for loop for getting distance between any pickup and delivery picked.\n",
    "    # The distance between consecutive machines is 10mm\n",
    "    i = 0\n",
    "    for i in range(len(cartposition)): \n",
    "\n",
    "        j=0\n",
    "        while j < len(pickup):\n",
    "\n",
    "            # Calculating the distance between the position of the cart and the pickup\n",
    "            Distance1 =abs(np.array(pickup) - cartposition[i])*10\n",
    "\n",
    "            # Distance between Pickup and delievery\n",
    "            Distance2 = list(map(lambda x,y: abs(x-y)*10, pickup,delivery))\n",
    "\n",
    "            # Calculating the distance between the position of the cart and the pickup\n",
    "            Distance3 =abs(np.array(delivery) - cartposition[i])*10\n",
    "\n",
    "            ''' suming the distance from the cart to the pickup, pickup to the delivery \n",
    "            and delivery back to the position of the cart.\n",
    "            '''\n",
    "            Distance = Distance1[j] + Distance2[j] + Distance3[j]\n",
    "            \n",
    "        \n",
    "            # Appending the distances in Distance\n",
    "            \n",
    "            Distances.append(Distance)\n",
    "            \n",
    "            j+=1\n",
    "        pass\n",
    "        #print ( 'distance for cart', cartposition[i] ,'=',Distances)\n",
    "       \n",
    "        DistCart.append(Distances.copy())\n",
    "        Distances[:]= []\n",
    "    #print(DistCart)\n",
    "    b = 0\n",
    "    \n",
    "    # Value appends the distances in distCart by puting all arrays of Distcart into one array\n",
    "    # such that the value of same indexes are beside each other.\n",
    "    \n",
    "    value = []\n",
    "    \n",
    "    for c in range(len(pickup)):\n",
    "        for a in DistCart:\n",
    "            value.append(a[b])\n",
    "\n",
    "        b+=1\n",
    "    #print(value)\n",
    "    \n",
    "    # Value1 splites the array of value into smaller array of the lenght of the cluster.\n",
    "    \n",
    "    value1 = []\n",
    "    \n",
    "    for s in range(0,len(value),len(cartposition)): # (startvalue, stopvalue, stepvalue)\n",
    "        value1.append(value[s:s + len(cartposition)])\n",
    "        \n",
    "    #print( value1)\n",
    "    \n",
    "    # using KMeans as our clustering tool.\n",
    "    \n",
    "    X = np.asarray(value1)\n",
    "    kmeans = KMeans(n_clusters, random_state=0).fit(X)\n",
    "    \n",
    "    #print(kmeans.labels_)\n",
    "    #kMeans.cluster_centers_\n",
    "    \n",
    "\n",
    "    # This for loop splits the pickup and delivery into the respective clusters\n",
    "    \n",
    "    # Appends the pickups splited into clusters\n",
    "    Index1 = [] \n",
    "   \n",
    "    # Appends the delieveries splited into clusters\n",
    "    Index3 = []\n",
    "    \n",
    "    # Appends the volume splited into clusters\n",
    "    Index5 = []\n",
    "    \n",
    "    # Appends the request splited into clusters\n",
    "    Index7 = []\n",
    "    \n",
    "    for l in np.unique(kmeans.labels_):\n",
    "        \n",
    "        Index = [pickup[k] for k, x in enumerate(kmeans.labels_) if x == l]\n",
    "        Index1.append(Index)\n",
    "        Index2 = [delivery[k] for k, x in enumerate(kmeans.labels_) if x == l]\n",
    "        Index3.append(Index2)\n",
    "        Index4 = [Volume[k] for k, x in enumerate(kmeans.labels_) if x == l]\n",
    "        Index5.append(Index4)\n",
    "        Index6 = [Request[k] for k, x in enumerate(kmeans.labels_) if x == l]\n",
    "        Index7.append(Index6)\n",
    "        \n",
    "\n",
    "    #print (Index1)\n",
    "    #print (Index3)\n",
    "    #print (Index5)\n",
    "    #print (Index7)\n",
    "    \n",
    "\n",
    "    # This for loop assigns value to depot, pickup and delivery.\n",
    "    \n",
    "    for v in range(len(cartposition)):\n",
    "\n",
    "        depot = cartposition[v]\n",
    "        pickup = Index1[v]\n",
    "        delivery = Index3[v]\n",
    "        Volume = Index5[v]\n",
    "        Request = Index7[v]\n",
    "        #print (depot,pickup,delivery, volume)\n",
    "            \n",
    "        # Retains values before the iteration    \n",
    "        pickup1 = pickup.copy()\n",
    "        delivery1 = delivery.copy()\n",
    "\n",
    "\n",
    "        # Calculating the distance between the depot and the pickup\n",
    "        Distance1 =abs(np.array(pickup) - depot)*10\n",
    "\n",
    "        #Minimum distance of Distance1\n",
    "        minDistance1 =  min(Distance1)\n",
    "\n",
    "        # Putting the index of the minDistance into a list(This index could be more than one).\n",
    "        minDistanceIndex = [k for k, x in enumerate(Distance1) if x == minDistance1]\n",
    "\n",
    "        # looping through minDistanceIndex\n",
    "        for j in minDistanceIndex:\n",
    "\n",
    "            # Re-assigning the minimum in Distance1 for each index in minDistanceIndex\n",
    "            if(np.any(min(Distance1) == Distance1[j])):\n",
    "                minDistance1 = Distance1[j] \n",
    "\n",
    "                # Making sure that the pickup and delivery are the original pickup and delivery inputed by the user.\n",
    "                pickup = pickup1.copy()\n",
    "                delivery = delivery1.copy()\n",
    "\n",
    "\n",
    "                # Distance between Pickup and delievery\n",
    "                Distance2 = list(map(lambda x,y: abs(x-y)*10, pickup,delivery))\n",
    "\n",
    "\n",
    "                # Taking the minimum of the distance between the depot ,pickup and delivery\n",
    "                Distances = [minDistance1,Distance2.pop(j)]\n",
    "\n",
    "                '''Picking the index of the vector with the shortest distance \n",
    "                in pickup and delivery and putting them in an array that contains the depot already'''\n",
    "\n",
    "                route = [depot, pickup.pop(j),delivery.pop(j)]\n",
    "\n",
    "                # Looping through pickup till the list becomes empty \n",
    "                p=0\n",
    "                while p < len(pickup1)-1:\n",
    "\n",
    "                    # checking for the nearest pickup location close to the delivery location of the previous pickup\n",
    "                    Distance3 = list(map(lambda i:abs(i-route[-1])*10,pickup))\n",
    "\n",
    "                    # Minimum distance of Distance1\n",
    "                    minDistance3 = min(Distance3)\n",
    "\n",
    "                    # Putting the same elements index into a list\n",
    "                    minDistanceIndex1 = [s for s, t in enumerate(Distance3) if t == minDistance3]\n",
    "\n",
    "\n",
    "                    # Appending distance and route\n",
    "                    Distances.append(min(Distance3))\n",
    "                    Distances.append(Distance2.pop(np.argmin(Distance3)))\n",
    "                    route.append(pickup.pop(np.argmin(Distance3)))\n",
    "                    route.append(delivery.pop(np.argmin(Distance3)))\n",
    "                    p =p+1\n",
    "\n",
    "                pass\n",
    "                Distances.append(abs(route[-1]-depot)*10)\n",
    "                route.append(depot)\n",
    "\n",
    "            print(\"Distances =\", Distances,\"\\n\",\"Route =\", route,\"\\n\",\"Distance =\",sum(Distances),\"\\n\",\"time =\",\n",
    "                  sum(Distances)*1,\"secs\",\"\\n\",\" Request =\",Request,\"\\n\",\n",
    "                  \"Depot = \",depot,\"\\n\",\"Volume =\",Volume, sum(Volume),\"\\n\",\"AvgCartLoad =\", sum(Volume)/ len(Volume),\"\\n\")\n",
    "\n",
    "            avgCartLoad.append(sum(Volume)/ len(Volume))\n",
    "            s=[]\n",
    "            som = 0\n",
    "            for num in Distances:\n",
    "                som = som+num\n",
    "                s.append(som)\n",
    "            \n",
    "            time = [i/60 for i in s]\n",
    "            v=[]\n",
    "        \n",
    "            for vol in Volume:\n",
    "                v.append(0)\n",
    "                v.append(vol)\n",
    "            v.insert(len(v), 0)\n",
    "            plt.bar(time,v)\n",
    "            plt.ylabel('Volume (lot)')\n",
    "            plt.xlabel('Time (Minute)')\n",
    "            plt.show()\n",
    "        print('\\n')    \n",
    "    #print(avgCartLoad)    \n",
    "    print('Variance =', statistics.variance(avgCartLoad))\n",
    "    \n",
    "\n",
    "#end = time.time()\n",
    "\n",
    "#print(f\"Runtime of the program is {end - start}\")\n"
   ]
  },
  {
   "cell_type": "code",
   "execution_count": 12,
   "metadata": {},
   "outputs": [
    {
     "data": {
      "text/plain": [
       "[3, 3, 3, 3, 3, 3, 3, 3]"
      ]
     },
     "execution_count": 12,
     "metadata": {},
     "output_type": "execute_result"
    }
   ],
   "source": [
    "df1 =  pd.read_csv('Carts_LF.csv')\n",
    "\n",
    "df1.reset_index(level=0, inplace=True)\n",
    "df1.columns = ['CartPosition','CartCapacity']\n",
    "df1\n",
    "cartposition = df1['CartPosition'].to_list()\n",
    "cartposition\n"
   ]
  },
  {
   "cell_type": "code",
   "execution_count": 13,
   "metadata": {},
   "outputs": [
    {
     "data": {
      "text/html": [
       "<div>\n",
       "<style scoped>\n",
       "    .dataframe tbody tr th:only-of-type {\n",
       "        vertical-align: middle;\n",
       "    }\n",
       "\n",
       "    .dataframe tbody tr th {\n",
       "        vertical-align: top;\n",
       "    }\n",
       "\n",
       "    .dataframe thead th {\n",
       "        text-align: right;\n",
       "    }\n",
       "</style>\n",
       "<table border=\"1\" class=\"dataframe\">\n",
       "  <thead>\n",
       "    <tr style=\"text-align: right;\">\n",
       "      <th></th>\n",
       "      <th>Pickup</th>\n",
       "      <th>Delivery</th>\n",
       "      <th>Volume</th>\n",
       "    </tr>\n",
       "  </thead>\n",
       "  <tbody>\n",
       "    <tr>\n",
       "      <td>0</td>\n",
       "      <td>2</td>\n",
       "      <td>13</td>\n",
       "      <td>1</td>\n",
       "    </tr>\n",
       "    <tr>\n",
       "      <td>1</td>\n",
       "      <td>1</td>\n",
       "      <td>13</td>\n",
       "      <td>2</td>\n",
       "    </tr>\n",
       "    <tr>\n",
       "      <td>2</td>\n",
       "      <td>2</td>\n",
       "      <td>11</td>\n",
       "      <td>1</td>\n",
       "    </tr>\n",
       "    <tr>\n",
       "      <td>3</td>\n",
       "      <td>7</td>\n",
       "      <td>11</td>\n",
       "      <td>3</td>\n",
       "    </tr>\n",
       "    <tr>\n",
       "      <td>4</td>\n",
       "      <td>7</td>\n",
       "      <td>10</td>\n",
       "      <td>1</td>\n",
       "    </tr>\n",
       "    <tr>\n",
       "      <td>5</td>\n",
       "      <td>2</td>\n",
       "      <td>10</td>\n",
       "      <td>1</td>\n",
       "    </tr>\n",
       "    <tr>\n",
       "      <td>6</td>\n",
       "      <td>3</td>\n",
       "      <td>8</td>\n",
       "      <td>1</td>\n",
       "    </tr>\n",
       "    <tr>\n",
       "      <td>7</td>\n",
       "      <td>5</td>\n",
       "      <td>8</td>\n",
       "      <td>9</td>\n",
       "    </tr>\n",
       "    <tr>\n",
       "      <td>8</td>\n",
       "      <td>4</td>\n",
       "      <td>8</td>\n",
       "      <td>1</td>\n",
       "    </tr>\n",
       "    <tr>\n",
       "      <td>9</td>\n",
       "      <td>2</td>\n",
       "      <td>6</td>\n",
       "      <td>2</td>\n",
       "    </tr>\n",
       "    <tr>\n",
       "      <td>10</td>\n",
       "      <td>13</td>\n",
       "      <td>6</td>\n",
       "      <td>4</td>\n",
       "    </tr>\n",
       "    <tr>\n",
       "      <td>11</td>\n",
       "      <td>13</td>\n",
       "      <td>8</td>\n",
       "      <td>2</td>\n",
       "    </tr>\n",
       "    <tr>\n",
       "      <td>12</td>\n",
       "      <td>14</td>\n",
       "      <td>8</td>\n",
       "      <td>2</td>\n",
       "    </tr>\n",
       "    <tr>\n",
       "      <td>13</td>\n",
       "      <td>8</td>\n",
       "      <td>5</td>\n",
       "      <td>1</td>\n",
       "    </tr>\n",
       "    <tr>\n",
       "      <td>14</td>\n",
       "      <td>14</td>\n",
       "      <td>6</td>\n",
       "      <td>2</td>\n",
       "    </tr>\n",
       "    <tr>\n",
       "      <td>15</td>\n",
       "      <td>9</td>\n",
       "      <td>1</td>\n",
       "      <td>2</td>\n",
       "    </tr>\n",
       "    <tr>\n",
       "      <td>16</td>\n",
       "      <td>10</td>\n",
       "      <td>14</td>\n",
       "      <td>7</td>\n",
       "    </tr>\n",
       "    <tr>\n",
       "      <td>17</td>\n",
       "      <td>10</td>\n",
       "      <td>13</td>\n",
       "      <td>1</td>\n",
       "    </tr>\n",
       "    <tr>\n",
       "      <td>18</td>\n",
       "      <td>1</td>\n",
       "      <td>14</td>\n",
       "      <td>1</td>\n",
       "    </tr>\n",
       "    <tr>\n",
       "      <td>19</td>\n",
       "      <td>3</td>\n",
       "      <td>14</td>\n",
       "      <td>1</td>\n",
       "    </tr>\n",
       "    <tr>\n",
       "      <td>20</td>\n",
       "      <td>6</td>\n",
       "      <td>11</td>\n",
       "      <td>2</td>\n",
       "    </tr>\n",
       "    <tr>\n",
       "      <td>21</td>\n",
       "      <td>11</td>\n",
       "      <td>4</td>\n",
       "      <td>2</td>\n",
       "    </tr>\n",
       "    <tr>\n",
       "      <td>22</td>\n",
       "      <td>10</td>\n",
       "      <td>4</td>\n",
       "      <td>3</td>\n",
       "    </tr>\n",
       "    <tr>\n",
       "      <td>23</td>\n",
       "      <td>14</td>\n",
       "      <td>7</td>\n",
       "      <td>1</td>\n",
       "    </tr>\n",
       "    <tr>\n",
       "      <td>24</td>\n",
       "      <td>14</td>\n",
       "      <td>11</td>\n",
       "      <td>2</td>\n",
       "    </tr>\n",
       "    <tr>\n",
       "      <td>25</td>\n",
       "      <td>13</td>\n",
       "      <td>7</td>\n",
       "      <td>1</td>\n",
       "    </tr>\n",
       "    <tr>\n",
       "      <td>26</td>\n",
       "      <td>13</td>\n",
       "      <td>10</td>\n",
       "      <td>1</td>\n",
       "    </tr>\n",
       "    <tr>\n",
       "      <td>27</td>\n",
       "      <td>14</td>\n",
       "      <td>5</td>\n",
       "      <td>1</td>\n",
       "    </tr>\n",
       "    <tr>\n",
       "      <td>28</td>\n",
       "      <td>13</td>\n",
       "      <td>5</td>\n",
       "      <td>1</td>\n",
       "    </tr>\n",
       "  </tbody>\n",
       "</table>\n",
       "</div>"
      ],
      "text/plain": [
       "   Pickup Delivery  Volume\n",
       "0       2       13       1\n",
       "1       1       13       2\n",
       "2       2       11       1\n",
       "3       7       11       3\n",
       "4       7       10       1\n",
       "5       2       10       1\n",
       "6       3        8       1\n",
       "7       5        8       9\n",
       "8       4        8       1\n",
       "9       2        6       2\n",
       "10     13        6       4\n",
       "11     13        8       2\n",
       "12     14        8       2\n",
       "13      8        5       1\n",
       "14     14        6       2\n",
       "15      9        1       2\n",
       "16     10       14       7\n",
       "17     10       13       1\n",
       "18      1       14       1\n",
       "19      3       14       1\n",
       "20      6       11       2\n",
       "21     11        4       2\n",
       "22     10        4       3\n",
       "23     14        7       1\n",
       "24     14       11       2\n",
       "25     13        7       1\n",
       "26     13       10       1\n",
       "27     14        5       1\n",
       "28     13        5       1"
      ]
     },
     "execution_count": 13,
     "metadata": {},
     "output_type": "execute_result"
    }
   ],
   "source": [
    "import re as re\n",
    "df2 = pd.read_csv('Request_Lf_db0.csv')\n",
    "#df2 = df2.reset_index()\n",
    "df2.columns=['Pickup','Constant1','Delivery','Constant2','Volume']\n",
    "df2 = df2[['Pickup','Delivery','Volume']]\n",
    "\n",
    "df2['Pickup'] = df2['Pickup'].apply(lambda x: \" \".join(re.findall(r'[0-9]+',x)))\n",
    "df2['Delivery'] = df2['Delivery'].apply(lambda x: \" \".join(re.findall(r'[0-9]+',x)))\n",
    "\n",
    "Volume = df2['Volume'].to_list()\n",
    "pickup = df2['Pickup'].to_list()\n",
    "delivery = df2['Delivery'].to_list()\n",
    "\n",
    "pickup = [int(i) for i in pickup]\n",
    "delivery = [int(j) for j in delivery]\n",
    "\n",
    "df2\n",
    "#print(pickup,delivery,Volume)"
   ]
  },
  {
   "cell_type": "code",
   "execution_count": 14,
   "metadata": {},
   "outputs": [],
   "source": [
    "cartposition = [3,3,3,3,3]"
   ]
  },
  {
   "cell_type": "code",
   "execution_count": 15,
   "metadata": {
    "scrolled": false
   },
   "outputs": [
    {
     "name": "stdout",
     "output_type": "stream",
     "text": [
      "Distances = [70, 30, 0, 70, 70, 50, 50, 60, 60, 30, 30, 80, 20] \n",
      " Route = [3, 10, 13, 13, 6, 13, 8, 13, 7, 13, 10, 13, 5, 3] \n",
      " Distance = 620 \n",
      " time = 620 secs \n",
      "  Request = [11, 12, 18, 26, 27, 29] \n",
      " Depot =  3 \n",
      " Volume = [4, 2, 1, 1, 1, 1] 10 \n",
      " AvgCartLoad = 1.6666666666666667 \n",
      "\n"
     ]
    },
    {
     "data": {
      "image/png": "[encoded data removed]",
      "text/plain": [
       "<Figure size 432x288 with 1 Axes>"
      ]
     },
     "metadata": {
      "needs_background": "light"
     },
     "output_type": "display_data"
    },
    {
     "name": "stdout",
     "output_type": "stream",
     "text": [
      "\n",
      "\n",
      "Distances = [0, 50, 0, 30, 0, 30, 40, 40, 50] \n",
      " Route = [3, 3, 8, 8, 5, 5, 8, 4, 8, 3] \n",
      " Distance = 240 \n",
      " time = 240 secs \n",
      "  Request = [7, 8, 9, 14] \n",
      " Depot =  3 \n",
      " Volume = [1, 9, 1, 1] 12 \n",
      " AvgCartLoad = 3.0 \n",
      "\n"
     ]
    },
    {
     "data": {
      "image/png": "[encoded data removed]",
      "text/plain": [
       "<Figure size 432x288 with 1 Axes>"
      ]
     },
     "metadata": {
      "needs_background": "light"
     },
     "output_type": "display_data"
    },
    {
     "name": "stdout",
     "output_type": "stream",
     "text": [
      "\n",
      "\n",
      "Distances = [0, 110, 0, 60, 20, 40, 0, 80, 40, 110, 10, 70, 70, 30, 30, 90, 20] \n",
      " Route = [3, 3, 14, 14, 8, 10, 14, 14, 6, 2, 13, 14, 7, 14, 11, 14, 5, 3] \n",
      " Distance = 780 \n",
      " time = 780 secs \n",
      "  Request = [1, 13, 15, 17, 20, 24, 25, 28] \n",
      " Depot =  3 \n",
      " Volume = [1, 2, 2, 7, 1, 1, 2, 1] 17 \n",
      " AvgCartLoad = 2.125 \n",
      "\n"
     ]
    },
    {
     "data": {
      "image/png": "[encoded data removed]",
      "text/plain": [
       "<Figure size 432x288 with 1 Axes>"
      ]
     },
     "metadata": {
      "needs_background": "light"
     },
     "output_type": "display_data"
    },
    {
     "name": "stdout",
     "output_type": "stream",
     "text": [
      "\n",
      "\n",
      "Distances = [10, 80, 10, 80, 50, 50, 0, 70, 30, 40, 80] \n",
      " Route = [3, 2, 10, 9, 1, 6, 11, 11, 4, 7, 11, 3] \n",
      " Distance = 500 \n",
      " time = 500 secs \n",
      "  Request = [4, 6, 16, 21, 22] \n",
      " Depot =  3 \n",
      " Volume = [3, 1, 2, 2, 2] 10 \n",
      " AvgCartLoad = 2.0 \n",
      "\n"
     ]
    },
    {
     "data": {
      "image/png": "[encoded data removed]",
      "text/plain": [
       "<Figure size 432x288 with 1 Axes>"
      ]
     },
     "metadata": {
      "needs_background": "light"
     },
     "output_type": "display_data"
    },
    {
     "name": "stdout",
     "output_type": "stream",
     "text": [
      "\n",
      "\n",
      "Distances = [20, 120, 120, 130, 110] \n",
      " Route = [3, 1, 13, 1, 14, 3] \n",
      " Distance = 500 \n",
      " time = 500 secs \n",
      "  Request = [2, 19] \n",
      " Depot =  3 \n",
      " Volume = [2, 1] 3 \n",
      " AvgCartLoad = 1.5 \n",
      "\n"
     ]
    },
    {
     "data": {
      "image/png": "[encoded data removed]",
      "text/plain": [
       "<Figure size 432x288 with 1 Axes>"
      ]
     },
     "metadata": {
      "needs_background": "light"
     },
     "output_type": "display_data"
    },
    {
     "name": "stdout",
     "output_type": "stream",
     "text": [
      "Distances = [20, 130, 130, 120, 100] \n",
      " Route = [3, 1, 14, 1, 13, 3] \n",
      " Distance = 500 \n",
      " time = 500 secs \n",
      "  Request = [2, 19] \n",
      " Depot =  3 \n",
      " Volume = [2, 1] 3 \n",
      " AvgCartLoad = 1.5 \n",
      "\n"
     ]
    },
    {
     "data": {
      "image/png": "[encoded data removed]",
      "text/plain": [
       "<Figure size 432x288 with 1 Axes>"
      ]
     },
     "metadata": {
      "needs_background": "light"
     },
     "output_type": "display_data"
    },
    {
     "name": "stdout",
     "output_type": "stream",
     "text": [
      "\n",
      "\n",
      "Variance = 0.323900462962963\n"
     ]
    }
   ],
   "source": [
    "CFRSKMeans(8,cartposition,pickup,delivery,Volume)\n"
   ]
  },
  {
   "cell_type": "code",
   "execution_count": 16,
   "metadata": {
    "scrolled": true
   },
   "outputs": [
    {
     "name": "stderr",
     "output_type": "stream",
     "text": [
      "C:\\Users\\peace\\Anaconda3\\lib\\site-packages\\sklearn_extra\\cluster\\_k_medoids.py:279: UserWarning: Cluster 1 is empty! self.labels_[self.medoid_indices_[1]] may not be labeled with its corresponding cluster (1).\n",
      "  \"its corresponding cluster ({k}).\".format(k=k)\n",
      "C:\\Users\\peace\\Anaconda3\\lib\\site-packages\\sklearn_extra\\cluster\\_k_medoids.py:279: UserWarning: Cluster 2 is empty! self.labels_[self.medoid_indices_[2]] may not be labeled with its corresponding cluster (2).\n",
      "  \"its corresponding cluster ({k}).\".format(k=k)\n",
      "C:\\Users\\peace\\Anaconda3\\lib\\site-packages\\sklearn_extra\\cluster\\_k_medoids.py:279: UserWarning: Cluster 3 is empty! self.labels_[self.medoid_indices_[3]] may not be labeled with its corresponding cluster (3).\n",
      "  \"its corresponding cluster ({k}).\".format(k=k)\n",
      "C:\\Users\\peace\\Anaconda3\\lib\\site-packages\\sklearn_extra\\cluster\\_k_medoids.py:279: UserWarning: Cluster 4 is empty! self.labels_[self.medoid_indices_[4]] may not be labeled with its corresponding cluster (4).\n",
      "  \"its corresponding cluster ({k}).\".format(k=k)\n",
      "C:\\Users\\peace\\Anaconda3\\lib\\site-packages\\sklearn_extra\\cluster\\_k_medoids.py:279: UserWarning: Cluster 5 is empty! self.labels_[self.medoid_indices_[5]] may not be labeled with its corresponding cluster (5).\n",
      "  \"its corresponding cluster ({k}).\".format(k=k)\n"
     ]
    },
    {
     "name": "stdout",
     "output_type": "stream",
     "text": [
      "[0 0 1 6 6 6 7 7 7 7 1 1 0 7 0 6 0 1 0 0 6 6 6 0 0 1 1 0 1]\n",
      "Distances = [0, 110, 0, 60, 20, 40, 0, 80, 40, 110, 10, 70, 60, 120, 10, 30, 30, 90, 40, 130, 110] \n",
      " Route = [3, 3, 14, 14, 8, 10, 14, 14, 6, 2, 13, 14, 7, 1, 13, 14, 11, 14, 5, 1, 14, 3] \n",
      " Distance = 1160 \n",
      " time = 1160 secs \n",
      "  Request = [1, 2, 13, 15, 17, 19, 20, 24, 25, 28] \n",
      " Depot =  3 \n",
      " Volume = [1, 2, 2, 2, 7, 1, 1, 1, 2, 1] 20 \n",
      " AvgCartLoad = 2.0 \n",
      "\n",
      "\n",
      "\n"
     ]
    },
    {
     "data": {
      "image/png": "[encoded data removed]",
      "text/plain": [
       "<Figure size 432x288 with 1 Axes>"
      ]
     },
     "metadata": {
      "needs_background": "light"
     },
     "output_type": "display_data"
    },
    {
     "name": "stdout",
     "output_type": "stream",
     "text": [
      "\n",
      "\n",
      "Distances = [10, 90, 10, 30, 0, 70, 70, 50, 50, 60, 60, 30, 30, 80, 20] \n",
      " Route = [3, 2, 11, 10, 13, 13, 6, 13, 8, 13, 7, 13, 10, 13, 5, 3] \n",
      " Distance = 660 \n",
      " time = 660 secs \n",
      "  Request = [3, 11, 12, 18, 26, 27, 29] \n",
      " Depot =  3 \n",
      " Volume = [1, 4, 2, 1, 1, 1, 1] 11 \n",
      " AvgCartLoad = 1.5714285714285714 \n",
      "\n",
      "\n",
      "\n"
     ]
    },
    {
     "data": {
      "image/png": "[encoded data removed]",
      "text/plain": [
       "<Figure size 432x288 with 1 Axes>"
      ]
     },
     "metadata": {
      "needs_background": "light"
     },
     "output_type": "display_data"
    },
    {
     "name": "stdout",
     "output_type": "stream",
     "text": [
      "\n",
      "\n",
      "Distances = [10, 80, 0, 60, 20, 50, 0, 70, 30, 40, 20, 80, 60, 30, 70] \n",
      " Route = [3, 2, 10, 10, 4, 6, 11, 11, 4, 7, 11, 9, 1, 7, 10, 3] \n",
      " Distance = 620 \n",
      " time = 620 secs \n",
      "  Request = [4, 5, 6, 16, 21, 22, 23] \n",
      " Depot =  3 \n",
      " Volume = [3, 1, 1, 2, 2, 2, 3] 14 \n",
      " AvgCartLoad = 2.0 \n",
      "\n",
      "\n",
      "\n"
     ]
    },
    {
     "data": {
      "image/png": "[encoded data removed]",
      "text/plain": [
       "<Figure size 432x288 with 1 Axes>"
      ]
     },
     "metadata": {
      "needs_background": "light"
     },
     "output_type": "display_data"
    },
    {
     "name": "stdout",
     "output_type": "stream",
     "text": [
      "\n",
      "\n",
      "Distances = [0, 50, 0, 30, 0, 30, 40, 40, 60, 40, 30] \n",
      " Route = [3, 3, 8, 8, 5, 5, 8, 4, 8, 2, 6, 3] \n",
      " Distance = 320 \n",
      " time = 320 secs \n",
      "  Request = [7, 8, 9, 10, 14] \n",
      " Depot =  3 \n",
      " Volume = [1, 9, 1, 2, 1] 14 \n",
      " AvgCartLoad = 2.8 \n",
      "\n",
      "\n",
      "\n"
     ]
    },
    {
     "data": {
      "image/png": "[encoded data removed]",
      "text/plain": [
       "<Figure size 432x288 with 1 Axes>"
      ]
     },
     "metadata": {
      "needs_background": "light"
     },
     "output_type": "display_data"
    },
    {
     "name": "stdout",
     "output_type": "stream",
     "text": [
      "\n",
      "\n"
     ]
    },
    {
     "ename": "IndexError",
     "evalue": "list index out of range",
     "output_type": "error",
     "traceback": [
      "\u001b[1;31m---------------------------------------------------------------------------\u001b[0m",
      "\u001b[1;31mIndexError\u001b[0m                                Traceback (most recent call last)",
      "\u001b[1;32m<ipython-input-16-75a2837680f7>\u001b[0m in \u001b[0;36m<module>\u001b[1;34m\u001b[0m\n\u001b[1;32m----> 1\u001b[1;33m \u001b[0mCFRSKMedoids\u001b[0m\u001b[1;33m(\u001b[0m\u001b[1;36m8\u001b[0m\u001b[1;33m,\u001b[0m\u001b[0mcartposition\u001b[0m\u001b[1;33m,\u001b[0m\u001b[0mpickup\u001b[0m\u001b[1;33m,\u001b[0m\u001b[0mdelivery\u001b[0m\u001b[1;33m,\u001b[0m\u001b[0mVolume\u001b[0m\u001b[1;33m)\u001b[0m\u001b[1;33m\u001b[0m\u001b[1;33m\u001b[0m\u001b[0m\n\u001b[0m",
      "\u001b[1;32m<ipython-input-2-79114fbe7b64>\u001b[0m in \u001b[0;36mCFRSKMedoids\u001b[1;34m(n_clusters, cartposition, pickup, delivery, Volume)\u001b[0m\n\u001b[0;32m    135\u001b[0m \u001b[1;33m\u001b[0m\u001b[0m\n\u001b[0;32m    136\u001b[0m         \u001b[0mdepot\u001b[0m \u001b[1;33m=\u001b[0m \u001b[0mcartposition\u001b[0m\u001b[1;33m[\u001b[0m\u001b[0mv\u001b[0m\u001b[1;33m]\u001b[0m\u001b[1;33m\u001b[0m\u001b[1;33m\u001b[0m\u001b[0m\n\u001b[1;32m--> 137\u001b[1;33m         \u001b[0mpickup\u001b[0m \u001b[1;33m=\u001b[0m \u001b[0mIndex1\u001b[0m\u001b[1;33m[\u001b[0m\u001b[0mv\u001b[0m\u001b[1;33m]\u001b[0m\u001b[1;33m\u001b[0m\u001b[1;33m\u001b[0m\u001b[0m\n\u001b[0m\u001b[0;32m    138\u001b[0m         \u001b[0mdelivery\u001b[0m \u001b[1;33m=\u001b[0m \u001b[0mIndex3\u001b[0m\u001b[1;33m[\u001b[0m\u001b[0mv\u001b[0m\u001b[1;33m]\u001b[0m\u001b[1;33m\u001b[0m\u001b[1;33m\u001b[0m\u001b[0m\n\u001b[0;32m    139\u001b[0m         \u001b[0mVolume\u001b[0m \u001b[1;33m=\u001b[0m \u001b[0mIndex5\u001b[0m\u001b[1;33m[\u001b[0m\u001b[0mv\u001b[0m\u001b[1;33m]\u001b[0m\u001b[1;33m\u001b[0m\u001b[1;33m\u001b[0m\u001b[0m\n",
      "\u001b[1;31mIndexError\u001b[0m: list index out of range"
     ]
    }
   ],
   "source": [
    "CFRSKMedoids(8,cartposition,pickup,delivery,Volume)"
   ]
  },
  {
   "cell_type": "code",
   "execution_count": 17,
   "metadata": {
    "scrolled": true
   },
   "outputs": [
    {
     "data": {
      "text/plain": [
       "0.26306124931972913"
      ]
     },
     "execution_count": 17,
     "metadata": {},
     "output_type": "execute_result"
    }
   ],
   "source": [
    "statistics.variance([2,1.5714285,2,2.8])"
   ]
  },
  {
   "cell_type": "code",
   "execution_count": 18,
   "metadata": {},
   "outputs": [],
   "source": [
    "import re as re\n",
    "df3 = pd.read_csv('Request_Lf_db1.csv')\n",
    "df3 = df3.reset_index()\n",
    "df3.columns=['Pickup', 'Constant1','Delivery','Constant2','Volume']\n",
    "df3 = df3[['Pickup','Delivery','Volume']]\n",
    "\n",
    "df3['Pickup'] = df3['Pickup'].apply(lambda x: \" \".join(re.findall(r'[0-9]+',x)))\n",
    "df3['Delivery'] = df3['Delivery'].apply(lambda x: \" \".join(re.findall(r'[0-9]+',x)))\n",
    "\n",
    "Volume = df3['Volume'].to_list()\n",
    "pickup = df3['Pickup'].to_list()\n",
    "delivery = df3['Delivery'].to_list()\n",
    "pickup = [int(i) for i in pickup]\n",
    "delivery = [int(j) for j in delivery]\n",
    "#df3\n",
    "#print(pickup,delivery,Volume)"
   ]
  },
  {
   "cell_type": "code",
   "execution_count": 19,
   "metadata": {},
   "outputs": [
    {
     "name": "stdout",
     "output_type": "stream",
     "text": [
      "Distances = [0, 50, 0, 30, 0, 30, 40, 40, 50] \n",
      " Route = [3, 3, 8, 8, 5, 5, 8, 4, 8, 3] \n",
      " Distance = 240 \n",
      " time = 240 secs \n",
      "  Request = [7, 8, 9, 13] \n",
      " Depot =  3 \n",
      " Volume = [1, 9, 1, 1] 12 \n",
      " AvgCartLoad = 3.0 \n",
      "\n"
     ]
    },
    {
     "data": {
      "image/png": "[encoded data removed]",
      "text/plain": [
       "<Figure size 432x288 with 1 Axes>"
      ]
     },
     "metadata": {
      "needs_background": "light"
     },
     "output_type": "display_data"
    },
    {
     "name": "stdout",
     "output_type": "stream",
     "text": [
      "\n",
      "\n",
      "Distances = [70, 30, 0, 70, 70, 50, 50, 60, 60, 30, 30, 80, 20] \n",
      " Route = [3, 10, 13, 13, 6, 13, 8, 13, 7, 13, 10, 13, 5, 3] \n",
      " Distance = 620 \n",
      " time = 620 secs \n",
      "  Request = [10, 11, 16, 25, 26, 28] \n",
      " Depot =  3 \n",
      " Volume = [4, 2, 3, 1, 1, 1] 12 \n",
      " AvgCartLoad = 2.0 \n",
      "\n"
     ]
    },
    {
     "data": {
      "image/png": "[encoded data removed]",
      "text/plain": [
       "<Figure size 432x288 with 1 Axes>"
      ]
     },
     "metadata": {
      "needs_background": "light"
     },
     "output_type": "display_data"
    },
    {
     "name": "stdout",
     "output_type": "stream",
     "text": [
      "\n",
      "\n",
      "Distances = [40, 30, 0, 60, 10] \n",
      " Route = [3, 7, 10, 10, 4, 3] \n",
      " Distance = 140 \n",
      " time = 140 secs \n",
      "  Request = [6, 22] \n",
      " Depot =  3 \n",
      " Volume = [1, 1] 2 \n",
      " AvgCartLoad = 1.0 \n",
      "\n"
     ]
    },
    {
     "data": {
      "image/png": "[encoded data removed]",
      "text/plain": [
       "<Figure size 432x288 with 1 Axes>"
      ]
     },
     "metadata": {
      "needs_background": "light"
     },
     "output_type": "display_data"
    },
    {
     "name": "stdout",
     "output_type": "stream",
     "text": [
      "\n",
      "\n",
      "Distances = [0, 110, 0, 60, 20, 40, 0, 80, 40, 110, 10, 70, 70, 30, 30, 90, 20] \n",
      " Route = [3, 3, 14, 14, 8, 10, 14, 14, 6, 2, 13, 14, 7, 14, 11, 14, 5, 3] \n",
      " Distance = 780 \n",
      " time = 780 secs \n",
      "  Request = [1, 12, 14, 17, 19, 23, 24, 27] \n",
      " Depot =  3 \n",
      " Volume = [1, 2, 2, 5, 1, 1, 2, 1] 15 \n",
      " AvgCartLoad = 1.875 \n",
      "\n"
     ]
    },
    {
     "data": {
      "image/png": "[encoded data removed]",
      "text/plain": [
       "<Figure size 432x288 with 1 Axes>"
      ]
     },
     "metadata": {
      "needs_background": "light"
     },
     "output_type": "display_data"
    },
    {
     "name": "stdout",
     "output_type": "stream",
     "text": [
      "\n",
      "\n",
      "Distances = [0, 80, 0, 70, 20, 50, 20, 80, 60, 40, 80] \n",
      " Route = [3, 3, 11, 11, 4, 6, 11, 9, 1, 7, 11, 3] \n",
      " Distance = 500 \n",
      " time = 500 secs \n",
      "  Request = [3, 5, 15, 20, 21] \n",
      " Depot =  3 \n",
      " Volume = [1, 3, 1, 2, 2] 9 \n",
      " AvgCartLoad = 1.8 \n",
      "\n"
     ]
    },
    {
     "data": {
      "image/png": "[encoded data removed]",
      "text/plain": [
       "<Figure size 432x288 with 1 Axes>"
      ]
     },
     "metadata": {
      "needs_background": "light"
     },
     "output_type": "display_data"
    },
    {
     "name": "stdout",
     "output_type": "stream",
     "text": [
      "\n",
      "\n",
      "Variance = 0.508625\n"
     ]
    }
   ],
   "source": [
    "CFRSKMeans(8,cartposition,pickup,delivery,Volume)"
   ]
  },
  {
   "cell_type": "code",
   "execution_count": 20,
   "metadata": {
    "scrolled": true
   },
   "outputs": [
    {
     "name": "stderr",
     "output_type": "stream",
     "text": [
      "C:\\Users\\peace\\Anaconda3\\lib\\site-packages\\sklearn_extra\\cluster\\_k_medoids.py:279: UserWarning: Cluster 1 is empty! self.labels_[self.medoid_indices_[1]] may not be labeled with its corresponding cluster (1).\n",
      "  \"its corresponding cluster ({k}).\".format(k=k)\n",
      "C:\\Users\\peace\\Anaconda3\\lib\\site-packages\\sklearn_extra\\cluster\\_k_medoids.py:279: UserWarning: Cluster 2 is empty! self.labels_[self.medoid_indices_[2]] may not be labeled with its corresponding cluster (2).\n",
      "  \"its corresponding cluster ({k}).\".format(k=k)\n",
      "C:\\Users\\peace\\Anaconda3\\lib\\site-packages\\sklearn_extra\\cluster\\_k_medoids.py:279: UserWarning: Cluster 3 is empty! self.labels_[self.medoid_indices_[3]] may not be labeled with its corresponding cluster (3).\n",
      "  \"its corresponding cluster ({k}).\".format(k=k)\n",
      "C:\\Users\\peace\\Anaconda3\\lib\\site-packages\\sklearn_extra\\cluster\\_k_medoids.py:279: UserWarning: Cluster 4 is empty! self.labels_[self.medoid_indices_[4]] may not be labeled with its corresponding cluster (4).\n",
      "  \"its corresponding cluster ({k}).\".format(k=k)\n",
      "C:\\Users\\peace\\Anaconda3\\lib\\site-packages\\sklearn_extra\\cluster\\_k_medoids.py:279: UserWarning: Cluster 5 is empty! self.labels_[self.medoid_indices_[5]] may not be labeled with its corresponding cluster (5).\n",
      "  \"its corresponding cluster ({k}).\".format(k=k)\n"
     ]
    },
    {
     "name": "stdout",
     "output_type": "stream",
     "text": [
      "[7 7 6 0 6 6 6 6 6 0 0 7 6 7 6 0 7 7 7 6 6 6 7 7 0 0 7 0]\n",
      "Distances = [10, 90, 10, 30, 0, 70, 70, 50, 50, 60, 60, 30, 30, 80, 20] \n",
      " Route = [3, 2, 11, 10, 13, 13, 6, 13, 8, 13, 7, 13, 10, 13, 5, 3] \n",
      " Distance = 660 \n",
      " time = 660 secs \n",
      "  Request = [4, 10, 11, 16, 25, 26, 28] \n",
      " Depot =  3 \n",
      " Volume = [1, 4, 2, 3, 1, 1, 1] 13 \n",
      " AvgCartLoad = 1.8571428571428572 \n",
      "\n",
      "\n",
      "\n"
     ]
    },
    {
     "data": {
      "image/png": "[encoded data removed]",
      "text/plain": [
       "<Figure size 432x288 with 1 Axes>"
      ]
     },
     "metadata": {
      "needs_background": "light"
     },
     "output_type": "display_data"
    },
    {
     "name": "stdout",
     "output_type": "stream",
     "text": [
      "\n",
      "\n",
      "Distances = [0, 50, 0, 30, 0, 30, 10, 40, 0, 70, 0, 40, 10, 30, 0, 60, 10, 80, 20, 80, 50, 50, 80] \n",
      " Route = [3, 3, 8, 8, 5, 5, 8, 7, 11, 11, 4, 4, 8, 7, 10, 10, 4, 3, 11, 9, 1, 6, 11, 3] \n",
      " Distance = 740 \n",
      " time = 740 secs \n",
      "  Request = [3, 5, 6, 7, 8, 9, 13, 15, 20, 21, 22] \n",
      " Depot =  3 \n",
      " Volume = [1, 3, 1, 1, 9, 1, 1, 1, 2, 2, 1] 23 \n",
      " AvgCartLoad = 2.090909090909091 \n",
      "\n",
      "\n",
      "\n"
     ]
    },
    {
     "data": {
      "image/png": "[encoded data removed]",
      "text/plain": [
       "<Figure size 432x288 with 1 Axes>"
      ]
     },
     "metadata": {
      "needs_background": "light"
     },
     "output_type": "display_data"
    },
    {
     "name": "stdout",
     "output_type": "stream",
     "text": [
      "\n",
      "\n",
      "Distances = [0, 110, 0, 60, 20, 40, 0, 80, 40, 110, 10, 70, 60, 120, 10, 30, 30, 90, 40, 130, 110] \n",
      " Route = [3, 3, 14, 14, 8, 10, 14, 14, 6, 2, 13, 14, 7, 1, 13, 14, 11, 14, 5, 1, 14, 3] \n",
      " Distance = 1160 \n",
      " time = 1160 secs \n",
      "  Request = [1, 2, 12, 14, 17, 18, 19, 23, 24, 27] \n",
      " Depot =  3 \n",
      " Volume = [1, 2, 2, 2, 5, 1, 1, 1, 2, 1] 18 \n",
      " AvgCartLoad = 1.8 \n",
      "\n",
      "\n",
      "\n"
     ]
    },
    {
     "data": {
      "image/png": "[encoded data removed]",
      "text/plain": [
       "<Figure size 432x288 with 1 Axes>"
      ]
     },
     "metadata": {
      "needs_background": "light"
     },
     "output_type": "display_data"
    },
    {
     "name": "stdout",
     "output_type": "stream",
     "text": [
      "\n",
      "\n"
     ]
    },
    {
     "ename": "IndexError",
     "evalue": "list index out of range",
     "output_type": "error",
     "traceback": [
      "\u001b[1;31m---------------------------------------------------------------------------\u001b[0m",
      "\u001b[1;31mIndexError\u001b[0m                                Traceback (most recent call last)",
      "\u001b[1;32m<ipython-input-20-75a2837680f7>\u001b[0m in \u001b[0;36m<module>\u001b[1;34m\u001b[0m\n\u001b[1;32m----> 1\u001b[1;33m \u001b[0mCFRSKMedoids\u001b[0m\u001b[1;33m(\u001b[0m\u001b[1;36m8\u001b[0m\u001b[1;33m,\u001b[0m\u001b[0mcartposition\u001b[0m\u001b[1;33m,\u001b[0m\u001b[0mpickup\u001b[0m\u001b[1;33m,\u001b[0m\u001b[0mdelivery\u001b[0m\u001b[1;33m,\u001b[0m\u001b[0mVolume\u001b[0m\u001b[1;33m)\u001b[0m\u001b[1;33m\u001b[0m\u001b[1;33m\u001b[0m\u001b[0m\n\u001b[0m",
      "\u001b[1;32m<ipython-input-2-79114fbe7b64>\u001b[0m in \u001b[0;36mCFRSKMedoids\u001b[1;34m(n_clusters, cartposition, pickup, delivery, Volume)\u001b[0m\n\u001b[0;32m    135\u001b[0m \u001b[1;33m\u001b[0m\u001b[0m\n\u001b[0;32m    136\u001b[0m         \u001b[0mdepot\u001b[0m \u001b[1;33m=\u001b[0m \u001b[0mcartposition\u001b[0m\u001b[1;33m[\u001b[0m\u001b[0mv\u001b[0m\u001b[1;33m]\u001b[0m\u001b[1;33m\u001b[0m\u001b[1;33m\u001b[0m\u001b[0m\n\u001b[1;32m--> 137\u001b[1;33m         \u001b[0mpickup\u001b[0m \u001b[1;33m=\u001b[0m \u001b[0mIndex1\u001b[0m\u001b[1;33m[\u001b[0m\u001b[0mv\u001b[0m\u001b[1;33m]\u001b[0m\u001b[1;33m\u001b[0m\u001b[1;33m\u001b[0m\u001b[0m\n\u001b[0m\u001b[0;32m    138\u001b[0m         \u001b[0mdelivery\u001b[0m \u001b[1;33m=\u001b[0m \u001b[0mIndex3\u001b[0m\u001b[1;33m[\u001b[0m\u001b[0mv\u001b[0m\u001b[1;33m]\u001b[0m\u001b[1;33m\u001b[0m\u001b[1;33m\u001b[0m\u001b[0m\n\u001b[0;32m    139\u001b[0m         \u001b[0mVolume\u001b[0m \u001b[1;33m=\u001b[0m \u001b[0mIndex5\u001b[0m\u001b[1;33m[\u001b[0m\u001b[0mv\u001b[0m\u001b[1;33m]\u001b[0m\u001b[1;33m\u001b[0m\u001b[1;33m\u001b[0m\u001b[0m\n",
      "\u001b[1;31mIndexError\u001b[0m: list index out of range"
     ]
    }
   ],
   "source": [
    "CFRSKMedoids(8,cartposition,pickup,delivery,Volume)"
   ]
  },
  {
   "cell_type": "code",
   "execution_count": 21,
   "metadata": {},
   "outputs": [
    {
     "data": {
      "text/plain": [
       "0.023756675290943365"
      ]
     },
     "execution_count": 21,
     "metadata": {},
     "output_type": "execute_result"
    }
   ],
   "source": [
    "statistics.variance([1.8571429,2.0909091,1.8000000])"
   ]
  },
  {
   "cell_type": "code",
   "execution_count": 22,
   "metadata": {},
   "outputs": [
    {
     "name": "stdout",
     "output_type": "stream",
     "text": [
      "[7, 7, 5, 3, 1, 13, 14, 14, 8, 9, 12, 10, 10, 6, 11, 12, 14, 14, 14, 13, 14, 12] [11, 10, 8, 6, 5, 8, 8, 6, 5, 1, 1, 14, 13, 11, 4, 4, 4, 11, 7, 7, 10, 5] [3, 1, 10, 1, 1, 2, 1, 2, 1, 1, 1, 6, 1, 3, 3, 2, 1, 12, 1, 2, 1, 1]\n"
     ]
    }
   ],
   "source": [
    "import re as re\n",
    "df4 = pd.read_csv('Request_Lf_db10.csv')\n",
    "df4 = df4.reset_index()\n",
    "df4.columns=['Pickup', 'Constant1','Delivery','Constant2','Volume']\n",
    "df4 = df4[['Pickup','Delivery','Volume']]\n",
    "\n",
    "df4['Pickup'] = df4['Pickup'].apply(lambda x: \" \".join(re.findall(r'[0-9]+',x)))\n",
    "df4['Delivery'] = df4['Delivery'].apply(lambda x: \" \".join(re.findall(r'[0-9]+',x)))\n",
    "\n",
    "Volume = df4['Volume'].to_list()\n",
    "pickup = df4['Pickup'].to_list()\n",
    "delivery = df4['Delivery'].to_list()\n",
    "pickup = [int(i) for i in pickup]\n",
    "delivery = [int(j) for j in delivery]\n",
    "\n",
    "print(pickup,delivery,Volume)"
   ]
  },
  {
   "cell_type": "code",
   "execution_count": 23,
   "metadata": {},
   "outputs": [
    {
     "name": "stdout",
     "output_type": "stream",
     "text": [
      "Distances = [70, 30, 0, 50, 50, 60, 40] \n",
      " Route = [3, 10, 13, 13, 8, 13, 7, 3] \n",
      " Distance = 300 \n",
      " time = 300 secs \n",
      "  Request = [6, 13, 20] \n",
      " Depot =  3 \n",
      " Volume = [2, 1, 2] 5 \n",
      " AvgCartLoad = 1.6666666666666667 \n",
      "\n"
     ]
    },
    {
     "data": {
      "image/png": "[encoded data removed]",
      "text/plain": [
       "<Figure size 432x288 with 1 Axes>"
      ]
     },
     "metadata": {
      "needs_background": "light"
     },
     "output_type": "display_data"
    },
    {
     "name": "stdout",
     "output_type": "stream",
     "text": [
      "\n",
      "\n",
      "Distances = [20, 30, 0, 30, 20] \n",
      " Route = [3, 5, 8, 8, 5, 3] \n",
      " Distance = 100 \n",
      " time = 100 secs \n",
      "  Request = [3, 9] \n",
      " Depot =  3 \n",
      " Volume = [10, 1] 11 \n",
      " AvgCartLoad = 5.5 \n",
      "\n"
     ]
    },
    {
     "data": {
      "image/png": "[encoded data removed]",
      "text/plain": [
       "<Figure size 432x288 with 1 Axes>"
      ]
     },
     "metadata": {
      "needs_background": "light"
     },
     "output_type": "display_data"
    },
    {
     "name": "stdout",
     "output_type": "stream",
     "text": [
      "\n",
      "\n",
      "Distances = [30, 50, 0, 70, 30, 40, 20, 80, 20] \n",
      " Route = [3, 6, 11, 11, 4, 7, 11, 9, 1, 3] \n",
      " Distance = 340 \n",
      " time = 340 secs \n",
      "  Request = [1, 10, 14, 15] \n",
      " Depot =  3 \n",
      " Volume = [3, 1, 3, 3] 10 \n",
      " AvgCartLoad = 2.5 \n",
      "\n"
     ]
    },
    {
     "data": {
      "image/png": "[encoded data removed]",
      "text/plain": [
       "<Figure size 432x288 with 1 Axes>"
      ]
     },
     "metadata": {
      "needs_background": "light"
     },
     "output_type": "display_data"
    },
    {
     "name": "stdout",
     "output_type": "stream",
     "text": [
      "\n",
      "\n",
      "Distances = [70, 40, 0, 60, 40, 110, 130, 80, 80, 100, 100, 30, 30, 70, 70, 40, 70] \n",
      " Route = [3, 10, 14, 14, 8, 12, 1, 14, 6, 14, 4, 14, 11, 14, 7, 14, 10, 3] \n",
      " Distance = 1120 \n",
      " time = 1120 secs \n",
      "  Request = [7, 8, 11, 12, 17, 18, 19, 21] \n",
      " Depot =  3 \n",
      " Volume = [1, 2, 1, 6, 1, 12, 1, 1] 25 \n",
      " AvgCartLoad = 3.125 \n",
      "\n"
     ]
    },
    {
     "data": {
      "image/png": "[encoded data removed]",
      "text/plain": [
       "<Figure size 432x288 with 1 Axes>"
      ]
     },
     "metadata": {
      "needs_background": "light"
     },
     "output_type": "display_data"
    },
    {
     "name": "stdout",
     "output_type": "stream",
     "text": [
      "\n",
      "\n",
      "Distances = [0, 30, 30] \n",
      " Route = [3, 3, 6, 3] \n",
      " Distance = 60 \n",
      " time = 60 secs \n",
      "  Request = [4] \n",
      " Depot =  3 \n",
      " Volume = [1] 1 \n",
      " AvgCartLoad = 1.0 \n",
      "\n"
     ]
    },
    {
     "data": {
      "image/png": "[encoded data removed]",
      "text/plain": [
       "<Figure size 432x288 with 1 Axes>"
      ]
     },
     "metadata": {
      "needs_background": "light"
     },
     "output_type": "display_data"
    },
    {
     "name": "stdout",
     "output_type": "stream",
     "text": [
      "\n",
      "\n",
      "Variance = 3.000347222222222\n"
     ]
    }
   ],
   "source": [
    "CFRSKMeans(8,cartposition,pickup,delivery,Volume)"
   ]
  },
  {
   "cell_type": "code",
   "execution_count": 24,
   "metadata": {},
   "outputs": [
    {
     "name": "stderr",
     "output_type": "stream",
     "text": [
      "C:\\Users\\peace\\Anaconda3\\lib\\site-packages\\sklearn_extra\\cluster\\_k_medoids.py:279: UserWarning: Cluster 1 is empty! self.labels_[self.medoid_indices_[1]] may not be labeled with its corresponding cluster (1).\n",
      "  \"its corresponding cluster ({k}).\".format(k=k)\n",
      "C:\\Users\\peace\\Anaconda3\\lib\\site-packages\\sklearn_extra\\cluster\\_k_medoids.py:279: UserWarning: Cluster 3 is empty! self.labels_[self.medoid_indices_[3]] may not be labeled with its corresponding cluster (3).\n",
      "  \"its corresponding cluster ({k}).\".format(k=k)\n",
      "C:\\Users\\peace\\Anaconda3\\lib\\site-packages\\sklearn_extra\\cluster\\_k_medoids.py:279: UserWarning: Cluster 4 is empty! self.labels_[self.medoid_indices_[4]] may not be labeled with its corresponding cluster (4).\n",
      "  \"its corresponding cluster ({k}).\".format(k=k)\n",
      "C:\\Users\\peace\\Anaconda3\\lib\\site-packages\\sklearn_extra\\cluster\\_k_medoids.py:279: UserWarning: Cluster 6 is empty! self.labels_[self.medoid_indices_[6]] may not be labeled with its corresponding cluster (6).\n",
      "  \"its corresponding cluster ({k}).\".format(k=k)\n",
      "C:\\Users\\peace\\Anaconda3\\lib\\site-packages\\sklearn_extra\\cluster\\_k_medoids.py:279: UserWarning: Cluster 7 is empty! self.labels_[self.medoid_indices_[7]] may not be labeled with its corresponding cluster (7).\n",
      "  \"its corresponding cluster ({k}).\".format(k=k)\n"
     ]
    },
    {
     "name": "stdout",
     "output_type": "stream",
     "text": [
      "[6 6 5 5 5 3 2 2 5 6 2 2 3 6 6 0 2 2 2 3 2 0]\n",
      "Distances = [90, 70, 70, 80, 10] \n",
      " Route = [3, 12, 5, 12, 4, 3] \n",
      " Distance = 320 \n",
      " time = 320 secs \n",
      "  Request = [16, 22] \n",
      " Depot =  3 \n",
      " Volume = [2, 1] 3 \n",
      " AvgCartLoad = 1.5 \n",
      "\n",
      "\n",
      "\n"
     ]
    },
    {
     "data": {
      "image/png": "[encoded data removed]",
      "text/plain": [
       "<Figure size 432x288 with 1 Axes>"
      ]
     },
     "metadata": {
      "needs_background": "light"
     },
     "output_type": "display_data"
    },
    {
     "name": "stdout",
     "output_type": "stream",
     "text": [
      "\n",
      "\n",
      "Distances = [70, 40, 0, 60, 40, 110, 130, 80, 80, 100, 100, 30, 30, 70, 70, 40, 70] \n",
      " Route = [3, 10, 14, 14, 8, 12, 1, 14, 6, 14, 4, 14, 11, 14, 7, 14, 10, 3] \n",
      " Distance = 1120 \n",
      " time = 1120 secs \n",
      "  Request = [7, 8, 11, 12, 17, 18, 19, 21] \n",
      " Depot =  3 \n",
      " Volume = [1, 2, 1, 6, 1, 12, 1, 1] 25 \n",
      " AvgCartLoad = 3.125 \n",
      "\n",
      "\n",
      "\n"
     ]
    },
    {
     "data": {
      "image/png": "[encoded data removed]",
      "text/plain": [
       "<Figure size 432x288 with 1 Axes>"
      ]
     },
     "metadata": {
      "needs_background": "light"
     },
     "output_type": "display_data"
    },
    {
     "name": "stdout",
     "output_type": "stream",
     "text": [
      "\n",
      "\n",
      "Distances = [70, 30, 0, 50, 50, 60, 40] \n",
      " Route = [3, 10, 13, 13, 8, 13, 7, 3] \n",
      " Distance = 300 \n",
      " time = 300 secs \n",
      "  Request = [6, 13, 20] \n",
      " Depot =  3 \n",
      " Volume = [2, 1, 2] 5 \n",
      " AvgCartLoad = 1.6666666666666667 \n",
      "\n",
      "\n",
      "\n"
     ]
    },
    {
     "data": {
      "image/png": "[encoded data removed]",
      "text/plain": [
       "<Figure size 432x288 with 1 Axes>"
      ]
     },
     "metadata": {
      "needs_background": "light"
     },
     "output_type": "display_data"
    },
    {
     "name": "stdout",
     "output_type": "stream",
     "text": [
      "\n",
      "\n",
      "Distances = [0, 30, 10, 30, 0, 30, 40, 40, 20] \n",
      " Route = [3, 3, 6, 5, 8, 8, 5, 1, 5, 3] \n",
      " Distance = 200 \n",
      " time = 200 secs \n",
      "  Request = [3, 4, 5, 9] \n",
      " Depot =  3 \n",
      " Volume = [10, 1, 1, 1] 13 \n",
      " AvgCartLoad = 3.25 \n",
      "\n",
      "\n",
      "\n"
     ]
    },
    {
     "data": {
      "image/png": "[encoded data removed]",
      "text/plain": [
       "<Figure size 432x288 with 1 Axes>"
      ]
     },
     "metadata": {
      "needs_background": "light"
     },
     "output_type": "display_data"
    },
    {
     "name": "stdout",
     "output_type": "stream",
     "text": [
      "\n",
      "\n",
      "Distances = [30, 50, 0, 70, 30, 40, 20, 80, 60, 30, 70] \n",
      " Route = [3, 6, 11, 11, 4, 7, 11, 9, 1, 7, 10, 3] \n",
      " Distance = 480 \n",
      " time = 480 secs \n",
      "  Request = [1, 2, 10, 14, 15] \n",
      " Depot =  3 \n",
      " Volume = [3, 1, 1, 3, 3] 11 \n",
      " AvgCartLoad = 2.2 \n",
      "\n",
      "\n",
      "\n"
     ]
    },
    {
     "data": {
      "image/png": "[encoded data removed]",
      "text/plain": [
       "<Figure size 432x288 with 1 Axes>"
      ]
     },
     "metadata": {
      "needs_background": "light"
     },
     "output_type": "display_data"
    },
    {
     "name": "stdout",
     "output_type": "stream",
     "text": [
      "\n",
      "\n",
      "Variance = 0.6556388888888889\n"
     ]
    }
   ],
   "source": [
    "CFRSKMedoids(8,cartposition,pickup,delivery,Volume)"
   ]
  },
  {
   "cell_type": "code",
   "execution_count": 25,
   "metadata": {},
   "outputs": [
    {
     "data": {
      "text/plain": [
       "0.6138599504629634"
      ]
     },
     "execution_count": 25,
     "metadata": {},
     "output_type": "execute_result"
    }
   ],
   "source": [
    "statistics.variance([3.125,1.5,1.6666667,2.6666667])"
   ]
  },
  {
   "cell_type": "code",
   "execution_count": 26,
   "metadata": {},
   "outputs": [
    {
     "name": "stdout",
     "output_type": "stream",
     "text": [
      "[7, 7, 1, 5, 3, 13, 14, 14, 8, 9, 12, 10, 10, 6, 11, 12, 13, 14, 14, 13, 14, 12] [11, 10, 7, 8, 6, 8, 8, 6, 5, 1, 1, 14, 13, 11, 4, 4, 4, 11, 7, 7, 10, 5] [3, 1, 1, 10, 2, 2, 1, 2, 1, 1, 1, 6, 1, 3, 3, 2, 1, 11, 2, 1, 1, 1]\n"
     ]
    }
   ],
   "source": [
    "import re as re\n",
    "df5 = pd.read_csv('Request_Lf_db11.csv')\n",
    "df5 = df5.reset_index()\n",
    "df5.columns=['Pickup', 'Constant1','Delivery','Constant2','Volume']\n",
    "df5 = df5[['Pickup','Delivery','Volume']]\n",
    "\n",
    "df5['Pickup'] = df5['Pickup'].apply(lambda x: \" \".join(re.findall(r'[0-9]+',x)))\n",
    "df5['Delivery'] = df5['Delivery'].apply(lambda x: \" \".join(re.findall(r'[0-9]+',x)))\n",
    "\n",
    "Volume = df5['Volume'].to_list()\n",
    "pickup = df5['Pickup'].to_list()\n",
    "delivery = df5['Delivery'].to_list()\n",
    "pickup = [int(i) for i in pickup]\n",
    "delivery = [int(j) for j in delivery]\n",
    "\n",
    "print(pickup,delivery,Volume)"
   ]
  },
  {
   "cell_type": "code",
   "execution_count": 27,
   "metadata": {},
   "outputs": [
    {
     "name": "stdout",
     "output_type": "stream",
     "text": [
      "Distances = [70, 30, 0, 50, 50, 90, 90, 60, 40] \n",
      " Route = [3, 10, 13, 13, 8, 13, 4, 13, 7, 3] \n",
      " Distance = 480 \n",
      " time = 480 secs \n",
      "  Request = [6, 13, 17, 20] \n",
      " Depot =  3 \n",
      " Volume = [2, 1, 1, 1] 5 \n",
      " AvgCartLoad = 1.25 \n",
      "\n"
     ]
    },
    {
     "data": {
      "image/png": "[encoded data removed]",
      "text/plain": [
       "<Figure size 432x288 with 1 Axes>"
      ]
     },
     "metadata": {
      "needs_background": "light"
     },
     "output_type": "display_data"
    },
    {
     "name": "stdout",
     "output_type": "stream",
     "text": [
      "\n",
      "\n",
      "Distances = [20, 30, 0, 30, 20] \n",
      " Route = [3, 5, 8, 8, 5, 3] \n",
      " Distance = 100 \n",
      " time = 100 secs \n",
      "  Request = [4, 9] \n",
      " Depot =  3 \n",
      " Volume = [10, 1] 11 \n",
      " AvgCartLoad = 5.5 \n",
      "\n"
     ]
    },
    {
     "data": {
      "image/png": "[encoded data removed]",
      "text/plain": [
       "<Figure size 432x288 with 1 Axes>"
      ]
     },
     "metadata": {
      "needs_background": "light"
     },
     "output_type": "display_data"
    },
    {
     "name": "stdout",
     "output_type": "stream",
     "text": [
      "\n",
      "\n",
      "Distances = [30, 50, 0, 70, 30, 40, 20, 80, 20] \n",
      " Route = [3, 6, 11, 11, 4, 7, 11, 9, 1, 3] \n",
      " Distance = 340 \n",
      " time = 340 secs \n",
      "  Request = [1, 10, 14, 15] \n",
      " Depot =  3 \n",
      " Volume = [3, 1, 3, 3] 10 \n",
      " AvgCartLoad = 2.5 \n",
      "\n"
     ]
    },
    {
     "data": {
      "image/png": "[encoded data removed]",
      "text/plain": [
       "<Figure size 432x288 with 1 Axes>"
      ]
     },
     "metadata": {
      "needs_background": "light"
     },
     "output_type": "display_data"
    },
    {
     "name": "stdout",
     "output_type": "stream",
     "text": [
      "\n",
      "\n",
      "Distances = [70, 40, 0, 60, 40, 110, 130, 80, 80, 30, 30, 70, 70, 40, 70] \n",
      " Route = [3, 10, 14, 14, 8, 12, 1, 14, 6, 14, 11, 14, 7, 14, 10, 3] \n",
      " Distance = 920 \n",
      " time = 920 secs \n",
      "  Request = [7, 8, 11, 12, 18, 19, 21] \n",
      " Depot =  3 \n",
      " Volume = [1, 2, 1, 6, 11, 2, 1] 24 \n",
      " AvgCartLoad = 3.4285714285714284 \n",
      "\n"
     ]
    },
    {
     "data": {
      "image/png": "[encoded data removed]",
      "text/plain": [
       "<Figure size 432x288 with 1 Axes>"
      ]
     },
     "metadata": {
      "needs_background": "light"
     },
     "output_type": "display_data"
    },
    {
     "name": "stdout",
     "output_type": "stream",
     "text": [
      "\n",
      "\n",
      "Distances = [0, 30, 30] \n",
      " Route = [3, 3, 6, 3] \n",
      " Distance = 60 \n",
      " time = 60 secs \n",
      "  Request = [5] \n",
      " Depot =  3 \n",
      " Volume = [2] 2 \n",
      " AvgCartLoad = 2.0 \n",
      "\n"
     ]
    },
    {
     "data": {
      "image/png": "[encoded data removed]",
      "text/plain": [
       "<Figure size 432x288 with 1 Axes>"
      ]
     },
     "metadata": {
      "needs_background": "light"
     },
     "output_type": "display_data"
    },
    {
     "name": "stdout",
     "output_type": "stream",
     "text": [
      "\n",
      "\n",
      "Variance = 2.6813775510204083\n"
     ]
    }
   ],
   "source": [
    "CFRSKMeans(8,cartposition,pickup,delivery,Volume)"
   ]
  },
  {
   "cell_type": "code",
   "execution_count": 28,
   "metadata": {},
   "outputs": [
    {
     "name": "stderr",
     "output_type": "stream",
     "text": [
      "C:\\Users\\peace\\Anaconda3\\lib\\site-packages\\sklearn_extra\\cluster\\_k_medoids.py:279: UserWarning: Cluster 2 is empty! self.labels_[self.medoid_indices_[2]] may not be labeled with its corresponding cluster (2).\n",
      "  \"its corresponding cluster ({k}).\".format(k=k)\n",
      "C:\\Users\\peace\\Anaconda3\\lib\\site-packages\\sklearn_extra\\cluster\\_k_medoids.py:279: UserWarning: Cluster 3 is empty! self.labels_[self.medoid_indices_[3]] may not be labeled with its corresponding cluster (3).\n",
      "  \"its corresponding cluster ({k}).\".format(k=k)\n",
      "C:\\Users\\peace\\Anaconda3\\lib\\site-packages\\sklearn_extra\\cluster\\_k_medoids.py:279: UserWarning: Cluster 4 is empty! self.labels_[self.medoid_indices_[4]] may not be labeled with its corresponding cluster (4).\n",
      "  \"its corresponding cluster ({k}).\".format(k=k)\n",
      "C:\\Users\\peace\\Anaconda3\\lib\\site-packages\\sklearn_extra\\cluster\\_k_medoids.py:279: UserWarning: Cluster 5 is empty! self.labels_[self.medoid_indices_[5]] may not be labeled with its corresponding cluster (5).\n",
      "  \"its corresponding cluster ({k}).\".format(k=k)\n",
      "C:\\Users\\peace\\Anaconda3\\lib\\site-packages\\sklearn_extra\\cluster\\_k_medoids.py:279: UserWarning: Cluster 7 is empty! self.labels_[self.medoid_indices_[7]] may not be labeled with its corresponding cluster (7).\n",
      "  \"its corresponding cluster ({k}).\".format(k=k)\n"
     ]
    },
    {
     "name": "stdout",
     "output_type": "stream",
     "text": [
      "[7 7 6 6 6 2 1 1 6 7 1 1 2 7 7 0 2 1 1 2 1 0]\n",
      "Distances = [90, 70, 70, 80, 10] \n",
      " Route = [3, 12, 5, 12, 4, 3] \n",
      " Distance = 320 \n",
      " time = 320 secs \n",
      "  Request = [16, 22] \n",
      " Depot =  3 \n",
      " Volume = [2, 1] 3 \n",
      " AvgCartLoad = 1.5 \n",
      "\n",
      "\n",
      "\n"
     ]
    },
    {
     "data": {
      "image/png": "[encoded data removed]",
      "text/plain": [
       "<Figure size 432x288 with 1 Axes>"
      ]
     },
     "metadata": {
      "needs_background": "light"
     },
     "output_type": "display_data"
    },
    {
     "name": "stdout",
     "output_type": "stream",
     "text": [
      "\n",
      "\n",
      "Distances = [70, 40, 0, 60, 40, 110, 130, 80, 80, 30, 30, 70, 70, 40, 70] \n",
      " Route = [3, 10, 14, 14, 8, 12, 1, 14, 6, 14, 11, 14, 7, 14, 10, 3] \n",
      " Distance = 920 \n",
      " time = 920 secs \n",
      "  Request = [7, 8, 11, 12, 18, 19, 21] \n",
      " Depot =  3 \n",
      " Volume = [1, 2, 1, 6, 11, 2, 1] 24 \n",
      " AvgCartLoad = 3.4285714285714284 \n",
      "\n",
      "\n",
      "\n"
     ]
    },
    {
     "data": {
      "image/png": "[encoded data removed]",
      "text/plain": [
       "<Figure size 432x288 with 1 Axes>"
      ]
     },
     "metadata": {
      "needs_background": "light"
     },
     "output_type": "display_data"
    },
    {
     "name": "stdout",
     "output_type": "stream",
     "text": [
      "\n",
      "\n",
      "Distances = [70, 30, 0, 50, 50, 90, 90, 60, 40] \n",
      " Route = [3, 10, 13, 13, 8, 13, 4, 13, 7, 3] \n",
      " Distance = 480 \n",
      " time = 480 secs \n",
      "  Request = [6, 13, 17, 20] \n",
      " Depot =  3 \n",
      " Volume = [2, 1, 1, 1] 5 \n",
      " AvgCartLoad = 1.25 \n",
      "\n",
      "\n",
      "\n"
     ]
    },
    {
     "data": {
      "image/png": "[encoded data removed]",
      "text/plain": [
       "<Figure size 432x288 with 1 Axes>"
      ]
     },
     "metadata": {
      "needs_background": "light"
     },
     "output_type": "display_data"
    },
    {
     "name": "stdout",
     "output_type": "stream",
     "text": [
      "\n",
      "\n",
      "Distances = [0, 30, 10, 30, 0, 30, 40, 60, 40] \n",
      " Route = [3, 3, 6, 5, 8, 8, 5, 1, 7, 3] \n",
      " Distance = 240 \n",
      " time = 240 secs \n",
      "  Request = [3, 4, 5, 9] \n",
      " Depot =  3 \n",
      " Volume = [1, 10, 2, 1] 14 \n",
      " AvgCartLoad = 3.5 \n",
      "\n",
      "\n",
      "\n"
     ]
    },
    {
     "data": {
      "image/png": "[encoded data removed]",
      "text/plain": [
       "<Figure size 432x288 with 1 Axes>"
      ]
     },
     "metadata": {
      "needs_background": "light"
     },
     "output_type": "display_data"
    },
    {
     "name": "stdout",
     "output_type": "stream",
     "text": [
      "\n",
      "\n",
      "Distances = [30, 50, 0, 70, 30, 40, 20, 80, 60, 30, 70] \n",
      " Route = [3, 6, 11, 11, 4, 7, 11, 9, 1, 7, 10, 3] \n",
      " Distance = 480 \n",
      " time = 480 secs \n",
      "  Request = [1, 2, 10, 14, 15] \n",
      " Depot =  3 \n",
      " Volume = [3, 1, 1, 3, 3] 11 \n",
      " AvgCartLoad = 2.2 \n",
      "\n",
      "\n",
      "\n"
     ]
    },
    {
     "data": {
      "image/png": "[encoded data removed]",
      "text/plain": [
       "<Figure size 432x288 with 1 Axes>"
      ]
     },
     "metadata": {
      "needs_background": "light"
     },
     "output_type": "display_data"
    },
    {
     "name": "stdout",
     "output_type": "stream",
     "text": [
      "\n",
      "\n",
      "Variance = 1.109377551020408\n"
     ]
    }
   ],
   "source": [
    "CFRSKMedoids(8,cartposition,pickup,delivery,Volume)"
   ]
  },
  {
   "cell_type": "code",
   "execution_count": 184,
   "metadata": {},
   "outputs": [
    {
     "data": {
      "text/plain": [
       "1.0765065957611566"
      ]
     },
     "execution_count": 184,
     "metadata": {},
     "output_type": "execute_result"
    }
   ],
   "source": [
    "statistics.variance([2.7777,3.4285714,1.25,1.5])"
   ]
  },
  {
   "cell_type": "code",
   "execution_count": 29,
   "metadata": {},
   "outputs": [
    {
     "name": "stdout",
     "output_type": "stream",
     "text": [
      "[7, 7, 1, 5, 3, 13, 14, 14, 8, 9, 12, 10, 10, 6, 11, 13, 12, 14, 13, 14, 13, 14, 12] [11, 10, 7, 8, 6, 8, 8, 6, 5, 1, 1, 14, 13, 11, 4, 4, 4, 11, 1, 7, 7, 10, 5] [3, 1, 1, 10, 1, 2, 1, 2, 1, 1, 1, 6, 1, 3, 3, 1, 1, 11, 1, 2, 1, 1, 1]\n"
     ]
    }
   ],
   "source": [
    "import re as re\n",
    "df6 = pd.read_csv('Request_Lf_db12.csv')\n",
    "df6 = df6.reset_index()\n",
    "df6.columns=['Pickup', 'Constant1','Delivery','Constant2','Volume']\n",
    "df6 = df6[['Pickup','Delivery','Volume']]\n",
    "\n",
    "df6['Pickup'] = df6['Pickup'].apply(lambda x: \" \".join(re.findall(r'[0-9]+',x)))\n",
    "df6['Delivery'] = df6['Delivery'].apply(lambda x: \" \".join(re.findall(r'[0-9]+',x)))\n",
    "\n",
    "Volume = df6['Volume'].to_list()\n",
    "pickup = df6['Pickup'].to_list()\n",
    "delivery = df6['Delivery'].to_list()\n",
    "pickup = [int(i) for i in pickup]\n",
    "delivery = [int(j) for j in delivery]\n",
    "\n",
    "print(pickup,delivery,Volume)"
   ]
  },
  {
   "cell_type": "code",
   "execution_count": 30,
   "metadata": {},
   "outputs": [
    {
     "name": "stdout",
     "output_type": "stream",
     "text": [
      "Distances = [100, 120, 20] \n",
      " Route = [3, 13, 1, 3] \n",
      " Distance = 240 \n",
      " time = 240 secs \n",
      "  Request = [19] \n",
      " Depot =  3 \n",
      " Volume = [1] 1 \n",
      " AvgCartLoad = 1.0 \n",
      "\n"
     ]
    },
    {
     "data": {
      "image/png": "[encoded data removed]",
      "text/plain": [
       "<Figure size 432x288 with 1 Axes>"
      ]
     },
     "metadata": {
      "needs_background": "light"
     },
     "output_type": "display_data"
    },
    {
     "name": "stdout",
     "output_type": "stream",
     "text": [
      "\n",
      "\n",
      "Distances = [20, 60, 0, 30, 70] \n",
      " Route = [3, 1, 7, 7, 10, 3] \n",
      " Distance = 180 \n",
      " time = 180 secs \n",
      "  Request = [2, 3] \n",
      " Depot =  3 \n",
      " Volume = [1, 1] 2 \n",
      " AvgCartLoad = 1.0 \n",
      "\n"
     ]
    },
    {
     "data": {
      "image/png": "[encoded data removed]",
      "text/plain": [
       "<Figure size 432x288 with 1 Axes>"
      ]
     },
     "metadata": {
      "needs_background": "light"
     },
     "output_type": "display_data"
    },
    {
     "name": "stdout",
     "output_type": "stream",
     "text": [
      "\n",
      "\n",
      "Distances = [70, 30, 0, 50, 50, 90, 90, 60, 40] \n",
      " Route = [3, 10, 13, 13, 8, 13, 4, 13, 7, 3] \n",
      " Distance = 480 \n",
      " time = 480 secs \n",
      "  Request = [6, 13, 16, 21] \n",
      " Depot =  3 \n",
      " Volume = [2, 1, 1, 1] 5 \n",
      " AvgCartLoad = 1.25 \n",
      "\n"
     ]
    },
    {
     "data": {
      "image/png": "[encoded data removed]",
      "text/plain": [
       "<Figure size 432x288 with 1 Axes>"
      ]
     },
     "metadata": {
      "needs_background": "light"
     },
     "output_type": "display_data"
    },
    {
     "name": "stdout",
     "output_type": "stream",
     "text": [
      "\n",
      "\n",
      "Distances = [0, 30, 30] \n",
      " Route = [3, 3, 6, 3] \n",
      " Distance = 60 \n",
      " time = 60 secs \n",
      "  Request = [5] \n",
      " Depot =  3 \n",
      " Volume = [1] 1 \n",
      " AvgCartLoad = 1.0 \n",
      "\n"
     ]
    },
    {
     "data": {
      "image/png": "[encoded data removed]",
      "text/plain": [
       "<Figure size 432x288 with 1 Axes>"
      ]
     },
     "metadata": {
      "needs_background": "light"
     },
     "output_type": "display_data"
    },
    {
     "name": "stdout",
     "output_type": "stream",
     "text": [
      "\n",
      "\n",
      "Distances = [20, 30, 0, 30, 20] \n",
      " Route = [3, 5, 8, 8, 5, 3] \n",
      " Distance = 100 \n",
      " time = 100 secs \n",
      "  Request = [4, 9] \n",
      " Depot =  3 \n",
      " Volume = [10, 1] 11 \n",
      " AvgCartLoad = 5.5 \n",
      "\n"
     ]
    },
    {
     "data": {
      "image/png": "[encoded data removed]",
      "text/plain": [
       "<Figure size 432x288 with 1 Axes>"
      ]
     },
     "metadata": {
      "needs_background": "light"
     },
     "output_type": "display_data"
    },
    {
     "name": "stdout",
     "output_type": "stream",
     "text": [
      "\n",
      "\n",
      "Variance = 3.9499999999999997\n"
     ]
    }
   ],
   "source": [
    "CFRSKMeans(8,cartposition,pickup,delivery,Volume)"
   ]
  },
  {
   "cell_type": "code",
   "execution_count": 31,
   "metadata": {
    "scrolled": false
   },
   "outputs": [
    {
     "name": "stderr",
     "output_type": "stream",
     "text": [
      "C:\\Users\\peace\\Anaconda3\\lib\\site-packages\\sklearn_extra\\cluster\\_k_medoids.py:279: UserWarning: Cluster 1 is empty! self.labels_[self.medoid_indices_[1]] may not be labeled with its corresponding cluster (1).\n",
      "  \"its corresponding cluster ({k}).\".format(k=k)\n",
      "C:\\Users\\peace\\Anaconda3\\lib\\site-packages\\sklearn_extra\\cluster\\_k_medoids.py:279: UserWarning: Cluster 2 is empty! self.labels_[self.medoid_indices_[2]] may not be labeled with its corresponding cluster (2).\n",
      "  \"its corresponding cluster ({k}).\".format(k=k)\n",
      "C:\\Users\\peace\\Anaconda3\\lib\\site-packages\\sklearn_extra\\cluster\\_k_medoids.py:279: UserWarning: Cluster 3 is empty! self.labels_[self.medoid_indices_[3]] may not be labeled with its corresponding cluster (3).\n",
      "  \"its corresponding cluster ({k}).\".format(k=k)\n",
      "C:\\Users\\peace\\Anaconda3\\lib\\site-packages\\sklearn_extra\\cluster\\_k_medoids.py:279: UserWarning: Cluster 5 is empty! self.labels_[self.medoid_indices_[5]] may not be labeled with its corresponding cluster (5).\n",
      "  \"its corresponding cluster ({k}).\".format(k=k)\n",
      "C:\\Users\\peace\\Anaconda3\\lib\\site-packages\\sklearn_extra\\cluster\\_k_medoids.py:279: UserWarning: Cluster 7 is empty! self.labels_[self.medoid_indices_[7]] may not be labeled with its corresponding cluster (7).\n",
      "  \"its corresponding cluster ({k}).\".format(k=k)\n"
     ]
    },
    {
     "name": "stdout",
     "output_type": "stream",
     "text": [
      "[7 7 6 6 6 1 0 0 6 7 0 0 1 7 7 1 4 0 0 0 1 0 4]\n",
      "Distances = [70, 40, 0, 60, 40, 110, 120, 120, 130, 80, 80, 30, 30, 70, 70, 40, 70] \n",
      " Route = [3, 10, 14, 14, 8, 12, 1, 13, 1, 14, 6, 14, 11, 14, 7, 14, 10, 3] \n",
      " Distance = 1160 \n",
      " time = 1160 secs \n",
      "  Request = [7, 8, 11, 12, 18, 19, 20, 22] \n",
      " Depot =  3 \n",
      " Volume = [1, 2, 1, 6, 11, 1, 2, 1] 25 \n",
      " AvgCartLoad = 3.125 \n",
      "\n",
      "\n",
      "\n"
     ]
    },
    {
     "data": {
      "image/png": "[encoded data removed]",
      "text/plain": [
       "<Figure size 432x288 with 1 Axes>"
      ]
     },
     "metadata": {
      "needs_background": "light"
     },
     "output_type": "display_data"
    },
    {
     "name": "stdout",
     "output_type": "stream",
     "text": [
      "\n",
      "\n",
      "Distances = [70, 30, 0, 50, 50, 90, 90, 60, 40] \n",
      " Route = [3, 10, 13, 13, 8, 13, 4, 13, 7, 3] \n",
      " Distance = 480 \n",
      " time = 480 secs \n",
      "  Request = [6, 13, 16, 21] \n",
      " Depot =  3 \n",
      " Volume = [2, 1, 1, 1] 5 \n",
      " AvgCartLoad = 1.25 \n",
      "\n",
      "\n",
      "\n"
     ]
    },
    {
     "data": {
      "image/png": "[encoded data removed]",
      "text/plain": [
       "<Figure size 432x288 with 1 Axes>"
      ]
     },
     "metadata": {
      "needs_background": "light"
     },
     "output_type": "display_data"
    },
    {
     "name": "stdout",
     "output_type": "stream",
     "text": [
      "\n",
      "\n",
      "Distances = [90, 70, 70, 80, 10] \n",
      " Route = [3, 12, 5, 12, 4, 3] \n",
      " Distance = 320 \n",
      " time = 320 secs \n",
      "  Request = [17, 23] \n",
      " Depot =  3 \n",
      " Volume = [1, 1] 2 \n",
      " AvgCartLoad = 1.0 \n",
      "\n",
      "\n",
      "\n"
     ]
    },
    {
     "data": {
      "image/png": "[encoded data removed]",
      "text/plain": [
       "<Figure size 432x288 with 1 Axes>"
      ]
     },
     "metadata": {
      "needs_background": "light"
     },
     "output_type": "display_data"
    },
    {
     "name": "stdout",
     "output_type": "stream",
     "text": [
      "\n",
      "\n",
      "Distances = [0, 30, 10, 30, 0, 30, 40, 60, 40] \n",
      " Route = [3, 3, 6, 5, 8, 8, 5, 1, 7, 3] \n",
      " Distance = 240 \n",
      " time = 240 secs \n",
      "  Request = [3, 4, 5, 9] \n",
      " Depot =  3 \n",
      " Volume = [1, 10, 1, 1] 13 \n",
      " AvgCartLoad = 3.25 \n",
      "\n",
      "\n",
      "\n"
     ]
    },
    {
     "data": {
      "image/png": "[encoded data removed]",
      "text/plain": [
       "<Figure size 432x288 with 1 Axes>"
      ]
     },
     "metadata": {
      "needs_background": "light"
     },
     "output_type": "display_data"
    },
    {
     "name": "stdout",
     "output_type": "stream",
     "text": [
      "\n",
      "\n",
      "Distances = [30, 50, 0, 70, 30, 40, 20, 80, 60, 30, 70] \n",
      " Route = [3, 6, 11, 11, 4, 7, 11, 9, 1, 7, 10, 3] \n",
      " Distance = 480 \n",
      " time = 480 secs \n",
      "  Request = [1, 2, 10, 14, 15] \n",
      " Depot =  3 \n",
      " Volume = [3, 1, 1, 3, 3] 11 \n",
      " AvgCartLoad = 2.2 \n",
      "\n",
      "\n",
      "\n"
     ]
    },
    {
     "data": {
      "image/png": "[encoded data removed]",
      "text/plain": [
       "<Figure size 432x288 with 1 Axes>"
      ]
     },
     "metadata": {
      "needs_background": "light"
     },
     "output_type": "display_data"
    },
    {
     "name": "stdout",
     "output_type": "stream",
     "text": [
      "\n",
      "\n",
      "Variance = 1.073625\n"
     ]
    }
   ],
   "source": [
    "CFRSKMedoids(8,cartposition,pickup,delivery,Volume)"
   ]
  },
  {
   "cell_type": "code",
   "execution_count": 75,
   "metadata": {},
   "outputs": [
    {
     "data": {
      "text/plain": [
       "1.0491897879629632"
      ]
     },
     "execution_count": 75,
     "metadata": {},
     "output_type": "execute_result"
    }
   ],
   "source": [
    "statistics.variance([3.125,1.1666667,2.6666667])"
   ]
  },
  {
   "cell_type": "code",
   "execution_count": 32,
   "metadata": {},
   "outputs": [
    {
     "name": "stdout",
     "output_type": "stream",
     "text": [
      "[7, 7, 1, 5, 13, 14, 14, 8, 9, 10, 10, 2, 6, 11, 14, 14, 13, 13, 14, 12, 13] [11, 10, 7, 8, 8, 8, 6, 5, 1, 14, 13, 13, 11, 4, 11, 1, 7, 10, 10, 5, 6] [3, 1, 1, 10, 2, 1, 1, 1, 1, 5, 2, 1, 1, 2, 12, 1, 3, 2, 1, 1, 1]\n"
     ]
    }
   ],
   "source": [
    "import re as re\n",
    "df7 = pd.read_csv('Request_Lf_db13.csv')\n",
    "df7 = df7.reset_index()\n",
    "df7.columns=['Pickup', 'Constant1','Delivery','Constant2','Volume']\n",
    "df7 = df7[['Pickup','Delivery','Volume']]\n",
    "\n",
    "df7['Pickup'] = df7['Pickup'].apply(lambda x: \" \".join(re.findall(r'[0-9]+',x)))\n",
    "df7['Delivery'] = df7['Delivery'].apply(lambda x: \" \".join(re.findall(r'[0-9]+',x)))\n",
    "\n",
    "Volume = df7['Volume'].to_list()\n",
    "pickup = df7['Pickup'].to_list()\n",
    "delivery = df7['Delivery'].to_list()\n",
    "pickup = [int(i) for i in pickup]\n",
    "delivery = [int(j) for j in delivery]\n",
    "\n",
    "print(pickup,delivery,Volume)"
   ]
  },
  {
   "cell_type": "code",
   "execution_count": 33,
   "metadata": {},
   "outputs": [
    {
     "name": "stdout",
     "output_type": "stream",
     "text": [
      "Distances = [30, 50, 0, 70, 30, 40, 20, 80, 20] \n",
      " Route = [3, 6, 11, 11, 4, 7, 11, 9, 1, 3] \n",
      " Distance = 340 \n",
      " time = 340 secs \n",
      "  Request = [1, 9, 13, 14] \n",
      " Depot =  3 \n",
      " Volume = [3, 1, 1, 2] 7 \n",
      " AvgCartLoad = 1.75 \n",
      "\n"
     ]
    },
    {
     "data": {
      "image/png": "[encoded data removed]",
      "text/plain": [
       "<Figure size 432x288 with 1 Axes>"
      ]
     },
     "metadata": {
      "needs_background": "light"
     },
     "output_type": "display_data"
    },
    {
     "name": "stdout",
     "output_type": "stream",
     "text": [
      "\n",
      "\n",
      "Distances = [10, 110, 10, 60, 20, 40, 0, 80, 80, 30, 30, 40, 70] \n",
      " Route = [3, 2, 13, 14, 8, 10, 14, 14, 6, 14, 11, 14, 10, 3] \n",
      " Distance = 580 \n",
      " time = 580 secs \n",
      "  Request = [6, 7, 10, 12, 15, 19] \n",
      " Depot =  3 \n",
      " Volume = [1, 1, 5, 1, 12, 1] 21 \n",
      " AvgCartLoad = 3.5 \n",
      "\n"
     ]
    },
    {
     "data": {
      "image/png": "[encoded data removed]",
      "text/plain": [
       "<Figure size 432x288 with 1 Axes>"
      ]
     },
     "metadata": {
      "needs_background": "light"
     },
     "output_type": "display_data"
    },
    {
     "name": "stdout",
     "output_type": "stream",
     "text": [
      "\n",
      "\n",
      "Distances = [20, 30, 0, 30, 20] \n",
      " Route = [3, 5, 8, 8, 5, 3] \n",
      " Distance = 100 \n",
      " time = 100 secs \n",
      "  Request = [4, 8] \n",
      " Depot =  3 \n",
      " Volume = [10, 1] 11 \n",
      " AvgCartLoad = 5.5 \n",
      "\n"
     ]
    },
    {
     "data": {
      "image/png": "[encoded data removed]",
      "text/plain": [
       "<Figure size 432x288 with 1 Axes>"
      ]
     },
     "metadata": {
      "needs_background": "light"
     },
     "output_type": "display_data"
    },
    {
     "name": "stdout",
     "output_type": "stream",
     "text": [
      "\n",
      "\n",
      "Distances = [70, 30, 0, 50, 50, 60, 60, 30, 30, 70, 30] \n",
      " Route = [3, 10, 13, 13, 8, 13, 7, 13, 10, 13, 6, 3] \n",
      " Distance = 480 \n",
      " time = 480 secs \n",
      "  Request = [5, 11, 17, 18, 21] \n",
      " Depot =  3 \n",
      " Volume = [2, 2, 3, 2, 1] 10 \n",
      " AvgCartLoad = 2.0 \n",
      "\n"
     ]
    },
    {
     "data": {
      "image/png": "[encoded data removed]",
      "text/plain": [
       "<Figure size 432x288 with 1 Axes>"
      ]
     },
     "metadata": {
      "needs_background": "light"
     },
     "output_type": "display_data"
    },
    {
     "name": "stdout",
     "output_type": "stream",
     "text": [
      "\n",
      "\n",
      "Distances = [110, 130, 20] \n",
      " Route = [3, 14, 1, 3] \n",
      " Distance = 260 \n",
      " time = 260 secs \n",
      "  Request = [16] \n",
      " Depot =  3 \n",
      " Volume = [1] 1 \n",
      " AvgCartLoad = 1.0 \n",
      "\n"
     ]
    },
    {
     "data": {
      "image/png": "[encoded data removed]",
      "text/plain": [
       "<Figure size 432x288 with 1 Axes>"
      ]
     },
     "metadata": {
      "needs_background": "light"
     },
     "output_type": "display_data"
    },
    {
     "name": "stdout",
     "output_type": "stream",
     "text": [
      "\n",
      "\n",
      "Variance = 3.1875\n"
     ]
    }
   ],
   "source": [
    "CFRSKMeans(8,cartposition,pickup,delivery,Volume)"
   ]
  },
  {
   "cell_type": "code",
   "execution_count": 34,
   "metadata": {},
   "outputs": [
    {
     "name": "stderr",
     "output_type": "stream",
     "text": [
      "C:\\Users\\peace\\Anaconda3\\lib\\site-packages\\sklearn_extra\\cluster\\_k_medoids.py:279: UserWarning: Cluster 1 is empty! self.labels_[self.medoid_indices_[1]] may not be labeled with its corresponding cluster (1).\n",
      "  \"its corresponding cluster ({k}).\".format(k=k)\n",
      "C:\\Users\\peace\\Anaconda3\\lib\\site-packages\\sklearn_extra\\cluster\\_k_medoids.py:279: UserWarning: Cluster 2 is empty! self.labels_[self.medoid_indices_[2]] may not be labeled with its corresponding cluster (2).\n",
      "  \"its corresponding cluster ({k}).\".format(k=k)\n",
      "C:\\Users\\peace\\Anaconda3\\lib\\site-packages\\sklearn_extra\\cluster\\_k_medoids.py:279: UserWarning: Cluster 3 is empty! self.labels_[self.medoid_indices_[3]] may not be labeled with its corresponding cluster (3).\n",
      "  \"its corresponding cluster ({k}).\".format(k=k)\n",
      "C:\\Users\\peace\\Anaconda3\\lib\\site-packages\\sklearn_extra\\cluster\\_k_medoids.py:279: UserWarning: Cluster 4 is empty! self.labels_[self.medoid_indices_[4]] may not be labeled with its corresponding cluster (4).\n",
      "  \"its corresponding cluster ({k}).\".format(k=k)\n",
      "C:\\Users\\peace\\Anaconda3\\lib\\site-packages\\sklearn_extra\\cluster\\_k_medoids.py:279: UserWarning: Cluster 7 is empty! self.labels_[self.medoid_indices_[7]] may not be labeled with its corresponding cluster (7).\n",
      "  \"its corresponding cluster ({k}).\".format(k=k)\n"
     ]
    },
    {
     "name": "stdout",
     "output_type": "stream",
     "text": [
      "[5 5 5 5 0 6 6 5 5 6 0 6 5 5 6 6 0 0 6 0 0]\n",
      "Distances = [70, 30, 0, 50, 40, 70, 80, 60, 60, 30, 30, 70, 30] \n",
      " Route = [3, 10, 13, 13, 8, 12, 5, 13, 7, 13, 10, 13, 6, 3] \n",
      " Distance = 620 \n",
      " time = 620 secs \n",
      "  Request = [5, 11, 17, 18, 20, 21] \n",
      " Depot =  3 \n",
      " Volume = [2, 2, 3, 2, 1, 1] 11 \n",
      " AvgCartLoad = 1.8333333333333333 \n",
      "\n",
      "\n",
      "\n"
     ]
    },
    {
     "data": {
      "image/png": "[encoded data removed]",
      "text/plain": [
       "<Figure size 432x288 with 1 Axes>"
      ]
     },
     "metadata": {
      "needs_background": "light"
     },
     "output_type": "display_data"
    },
    {
     "name": "stdout",
     "output_type": "stream",
     "text": [
      "\n",
      "\n",
      "Distances = [20, 30, 0, 30, 10, 50, 0, 70, 30, 40, 20, 80, 0, 60, 0, 30, 70] \n",
      " Route = [3, 5, 8, 8, 5, 6, 11, 11, 4, 7, 11, 9, 1, 1, 7, 7, 10, 3] \n",
      " Distance = 540 \n",
      " time = 540 secs \n",
      "  Request = [1, 2, 3, 4, 8, 9, 13, 14] \n",
      " Depot =  3 \n",
      " Volume = [3, 1, 1, 10, 1, 1, 1, 2] 20 \n",
      " AvgCartLoad = 2.5 \n",
      "\n",
      "\n",
      "\n"
     ]
    },
    {
     "data": {
      "image/png": "[encoded data removed]",
      "text/plain": [
       "<Figure size 432x288 with 1 Axes>"
      ]
     },
     "metadata": {
      "needs_background": "light"
     },
     "output_type": "display_data"
    },
    {
     "name": "stdout",
     "output_type": "stream",
     "text": [
      "\n",
      "\n",
      "Distances = [10, 110, 10, 60, 20, 40, 0, 80, 80, 30, 30, 130, 130, 40, 70] \n",
      " Route = [3, 2, 13, 14, 8, 10, 14, 14, 6, 14, 11, 14, 1, 14, 10, 3] \n",
      " Distance = 840 \n",
      " time = 840 secs \n",
      "  Request = [6, 7, 10, 12, 15, 16, 19] \n",
      " Depot =  3 \n",
      " Volume = [1, 1, 5, 1, 12, 1, 1] 22 \n",
      " AvgCartLoad = 3.142857142857143 \n",
      "\n",
      "\n",
      "\n"
     ]
    },
    {
     "data": {
      "image/png": "[encoded data removed]",
      "text/plain": [
       "<Figure size 432x288 with 1 Axes>"
      ]
     },
     "metadata": {
      "needs_background": "light"
     },
     "output_type": "display_data"
    },
    {
     "name": "stdout",
     "output_type": "stream",
     "text": [
      "\n",
      "\n"
     ]
    },
    {
     "ename": "IndexError",
     "evalue": "list index out of range",
     "output_type": "error",
     "traceback": [
      "\u001b[1;31m---------------------------------------------------------------------------\u001b[0m",
      "\u001b[1;31mIndexError\u001b[0m                                Traceback (most recent call last)",
      "\u001b[1;32m<ipython-input-34-75a2837680f7>\u001b[0m in \u001b[0;36m<module>\u001b[1;34m\u001b[0m\n\u001b[1;32m----> 1\u001b[1;33m \u001b[0mCFRSKMedoids\u001b[0m\u001b[1;33m(\u001b[0m\u001b[1;36m8\u001b[0m\u001b[1;33m,\u001b[0m\u001b[0mcartposition\u001b[0m\u001b[1;33m,\u001b[0m\u001b[0mpickup\u001b[0m\u001b[1;33m,\u001b[0m\u001b[0mdelivery\u001b[0m\u001b[1;33m,\u001b[0m\u001b[0mVolume\u001b[0m\u001b[1;33m)\u001b[0m\u001b[1;33m\u001b[0m\u001b[1;33m\u001b[0m\u001b[0m\n\u001b[0m",
      "\u001b[1;32m<ipython-input-2-79114fbe7b64>\u001b[0m in \u001b[0;36mCFRSKMedoids\u001b[1;34m(n_clusters, cartposition, pickup, delivery, Volume)\u001b[0m\n\u001b[0;32m    135\u001b[0m \u001b[1;33m\u001b[0m\u001b[0m\n\u001b[0;32m    136\u001b[0m         \u001b[0mdepot\u001b[0m \u001b[1;33m=\u001b[0m \u001b[0mcartposition\u001b[0m\u001b[1;33m[\u001b[0m\u001b[0mv\u001b[0m\u001b[1;33m]\u001b[0m\u001b[1;33m\u001b[0m\u001b[1;33m\u001b[0m\u001b[0m\n\u001b[1;32m--> 137\u001b[1;33m         \u001b[0mpickup\u001b[0m \u001b[1;33m=\u001b[0m \u001b[0mIndex1\u001b[0m\u001b[1;33m[\u001b[0m\u001b[0mv\u001b[0m\u001b[1;33m]\u001b[0m\u001b[1;33m\u001b[0m\u001b[1;33m\u001b[0m\u001b[0m\n\u001b[0m\u001b[0;32m    138\u001b[0m         \u001b[0mdelivery\u001b[0m \u001b[1;33m=\u001b[0m \u001b[0mIndex3\u001b[0m\u001b[1;33m[\u001b[0m\u001b[0mv\u001b[0m\u001b[1;33m]\u001b[0m\u001b[1;33m\u001b[0m\u001b[1;33m\u001b[0m\u001b[0m\n\u001b[0;32m    139\u001b[0m         \u001b[0mVolume\u001b[0m \u001b[1;33m=\u001b[0m \u001b[0mIndex5\u001b[0m\u001b[1;33m[\u001b[0m\u001b[0mv\u001b[0m\u001b[1;33m]\u001b[0m\u001b[1;33m\u001b[0m\u001b[1;33m\u001b[0m\u001b[0m\n",
      "\u001b[1;31mIndexError\u001b[0m: list index out of range"
     ]
    }
   ],
   "source": [
    "CFRSKMedoids(8,cartposition,pickup,delivery,Volume)"
   ]
  },
  {
   "cell_type": "code",
   "execution_count": 79,
   "metadata": {},
   "outputs": [
    {
     "data": {
      "text/plain": [
       "0.4287603871126233"
      ]
     },
     "execution_count": 79,
     "metadata": {},
     "output_type": "execute_result"
    }
   ],
   "source": [
    "statistics.variance([1.8333333,2.5,3.1428571])"
   ]
  },
  {
   "cell_type": "code",
   "execution_count": 35,
   "metadata": {},
   "outputs": [
    {
     "name": "stdout",
     "output_type": "stream",
     "text": [
      "[7, 7, 1, 5, 13, 14, 14, 8, 9, 12, 10, 10, 2, 6, 11, 13, 14, 14, 13, 13, 14, 12, 13] [11, 10, 7, 8, 8, 8, 6, 5, 1, 1, 14, 13, 13, 11, 4, 4, 11, 1, 7, 10, 10, 5, 6] [3, 1, 1, 10, 3, 1, 1, 1, 1, 1, 5, 2, 1, 1, 2, 1, 12, 1, 3, 2, 1, 1, 1]\n"
     ]
    }
   ],
   "source": [
    "import re as re\n",
    "df8 = pd.read_csv('Request_Lf_db14.csv')\n",
    "df8 = df8.reset_index()\n",
    "df8.columns=['Pickup', 'Constant1','Delivery','Constant2','Volume']\n",
    "df8 = df8[['Pickup','Delivery','Volume']]\n",
    "\n",
    "df8['Pickup'] = df8['Pickup'].apply(lambda x: \" \".join(re.findall(r'[0-9]+',x)))\n",
    "df8['Delivery'] = df8['Delivery'].apply(lambda x: \" \".join(re.findall(r'[0-9]+',x)))\n",
    "\n",
    "Volume = df8['Volume'].to_list()\n",
    "pickup = df8['Pickup'].to_list()\n",
    "delivery = df8['Delivery'].to_list()\n",
    "pickup = [int(i) for i in pickup]\n",
    "delivery = [int(j) for j in delivery]\n",
    "\n",
    "print(pickup,delivery,Volume)"
   ]
  },
  {
   "cell_type": "code",
   "execution_count": 36,
   "metadata": {},
   "outputs": [
    {
     "name": "stdout",
     "output_type": "stream",
     "text": [
      "Distances = [10, 110, 10, 60, 20, 40, 0, 80, 60, 110, 130, 30, 30, 40, 70] \n",
      " Route = [3, 2, 13, 14, 8, 10, 14, 14, 6, 12, 1, 14, 11, 14, 10, 3] \n",
      " Distance = 800 \n",
      " time = 800 secs \n",
      "  Request = [6, 7, 10, 11, 13, 17, 21] \n",
      " Depot =  3 \n",
      " Volume = [1, 1, 1, 5, 1, 12, 1] 22 \n",
      " AvgCartLoad = 3.142857142857143 \n",
      "\n"
     ]
    },
    {
     "data": {
      "image/png": "[encoded data removed]",
      "text/plain": [
       "<Figure size 432x288 with 1 Axes>"
      ]
     },
     "metadata": {
      "needs_background": "light"
     },
     "output_type": "display_data"
    },
    {
     "name": "stdout",
     "output_type": "stream",
     "text": [
      "\n",
      "\n",
      "Distances = [30, 50, 0, 70, 30, 40, 20, 80, 20] \n",
      " Route = [3, 6, 11, 11, 4, 7, 11, 9, 1, 3] \n",
      " Distance = 340 \n",
      " time = 340 secs \n",
      "  Request = [1, 9, 14, 15] \n",
      " Depot =  3 \n",
      " Volume = [3, 1, 1, 2] 7 \n",
      " AvgCartLoad = 1.75 \n",
      "\n"
     ]
    },
    {
     "data": {
      "image/png": "[encoded data removed]",
      "text/plain": [
       "<Figure size 432x288 with 1 Axes>"
      ]
     },
     "metadata": {
      "needs_background": "light"
     },
     "output_type": "display_data"
    },
    {
     "name": "stdout",
     "output_type": "stream",
     "text": [
      "\n",
      "\n",
      "Distances = [20, 30, 0, 30, 20] \n",
      " Route = [3, 5, 8, 8, 5, 3] \n",
      " Distance = 100 \n",
      " time = 100 secs \n",
      "  Request = [4, 8] \n",
      " Depot =  3 \n",
      " Volume = [10, 1] 11 \n",
      " AvgCartLoad = 5.5 \n",
      "\n"
     ]
    },
    {
     "data": {
      "image/png": "[encoded data removed]",
      "text/plain": [
       "<Figure size 432x288 with 1 Axes>"
      ]
     },
     "metadata": {
      "needs_background": "light"
     },
     "output_type": "display_data"
    },
    {
     "name": "stdout",
     "output_type": "stream",
     "text": [
      "\n",
      "\n",
      "Distances = [70, 30, 0, 50, 50, 90, 90, 60, 60, 30, 30, 70, 30] \n",
      " Route = [3, 10, 13, 13, 8, 13, 4, 13, 7, 13, 10, 13, 6, 3] \n",
      " Distance = 660 \n",
      " time = 660 secs \n",
      "  Request = [5, 12, 16, 19, 20, 23] \n",
      " Depot =  3 \n",
      " Volume = [3, 2, 1, 3, 2, 1] 12 \n",
      " AvgCartLoad = 2.0 \n",
      "\n"
     ]
    },
    {
     "data": {
      "image/png": "[encoded data removed]",
      "text/plain": [
       "<Figure size 432x288 with 1 Axes>"
      ]
     },
     "metadata": {
      "needs_background": "light"
     },
     "output_type": "display_data"
    },
    {
     "name": "stdout",
     "output_type": "stream",
     "text": [
      "\n",
      "\n",
      "Distances = [110, 130, 20] \n",
      " Route = [3, 14, 1, 3] \n",
      " Distance = 260 \n",
      " time = 260 secs \n",
      "  Request = [18] \n",
      " Depot =  3 \n",
      " Volume = [1] 1 \n",
      " AvgCartLoad = 1.0 \n",
      "\n"
     ]
    },
    {
     "data": {
      "image/png": "[encoded data removed]",
      "text/plain": [
       "<Figure size 432x288 with 1 Axes>"
      ]
     },
     "metadata": {
      "needs_background": "light"
     },
     "output_type": "display_data"
    },
    {
     "name": "stdout",
     "output_type": "stream",
     "text": [
      "\n",
      "\n",
      "Variance = 3.079081632653061\n"
     ]
    }
   ],
   "source": [
    "CFRSKMeans(8,cartposition,pickup,delivery,Volume)"
   ]
  },
  {
   "cell_type": "code",
   "execution_count": 37,
   "metadata": {},
   "outputs": [
    {
     "name": "stderr",
     "output_type": "stream",
     "text": [
      "C:\\Users\\peace\\Anaconda3\\lib\\site-packages\\sklearn_extra\\cluster\\_k_medoids.py:279: UserWarning: Cluster 1 is empty! self.labels_[self.medoid_indices_[1]] may not be labeled with its corresponding cluster (1).\n",
      "  \"its corresponding cluster ({k}).\".format(k=k)\n",
      "C:\\Users\\peace\\Anaconda3\\lib\\site-packages\\sklearn_extra\\cluster\\_k_medoids.py:279: UserWarning: Cluster 2 is empty! self.labels_[self.medoid_indices_[2]] may not be labeled with its corresponding cluster (2).\n",
      "  \"its corresponding cluster ({k}).\".format(k=k)\n",
      "C:\\Users\\peace\\Anaconda3\\lib\\site-packages\\sklearn_extra\\cluster\\_k_medoids.py:279: UserWarning: Cluster 3 is empty! self.labels_[self.medoid_indices_[3]] may not be labeled with its corresponding cluster (3).\n",
      "  \"its corresponding cluster ({k}).\".format(k=k)\n",
      "C:\\Users\\peace\\Anaconda3\\lib\\site-packages\\sklearn_extra\\cluster\\_k_medoids.py:279: UserWarning: Cluster 4 is empty! self.labels_[self.medoid_indices_[4]] may not be labeled with its corresponding cluster (4).\n",
      "  \"its corresponding cluster ({k}).\".format(k=k)\n",
      "C:\\Users\\peace\\Anaconda3\\lib\\site-packages\\sklearn_extra\\cluster\\_k_medoids.py:279: UserWarning: Cluster 6 is empty! self.labels_[self.medoid_indices_[6]] may not be labeled with its corresponding cluster (6).\n",
      "  \"its corresponding cluster ({k}).\".format(k=k)\n"
     ]
    },
    {
     "name": "stdout",
     "output_type": "stream",
     "text": [
      "[5 5 5 5 0 7 7 5 5 7 7 0 7 5 5 0 7 7 0 0 7 0 0]\n",
      "Distances = [70, 30, 0, 50, 40, 70, 80, 90, 90, 60, 60, 30, 30, 70, 30] \n",
      " Route = [3, 10, 13, 13, 8, 12, 5, 13, 4, 13, 7, 13, 10, 13, 6, 3] \n",
      " Distance = 800 \n",
      " time = 800 secs \n",
      "  Request = [5, 12, 16, 19, 20, 22, 23] \n",
      " Depot =  3 \n",
      " Volume = [3, 2, 1, 3, 2, 1, 1] 13 \n",
      " AvgCartLoad = 1.8571428571428572 \n",
      "\n",
      "\n",
      "\n"
     ]
    },
    {
     "data": {
      "image/png": "[encoded data removed]",
      "text/plain": [
       "<Figure size 432x288 with 1 Axes>"
      ]
     },
     "metadata": {
      "needs_background": "light"
     },
     "output_type": "display_data"
    },
    {
     "name": "stdout",
     "output_type": "stream",
     "text": [
      "\n",
      "\n",
      "Distances = [20, 30, 0, 30, 10, 50, 0, 70, 30, 40, 20, 80, 0, 60, 0, 30, 70] \n",
      " Route = [3, 5, 8, 8, 5, 6, 11, 11, 4, 7, 11, 9, 1, 1, 7, 7, 10, 3] \n",
      " Distance = 540 \n",
      " time = 540 secs \n",
      "  Request = [1, 2, 3, 4, 8, 9, 14, 15] \n",
      " Depot =  3 \n",
      " Volume = [3, 1, 1, 10, 1, 1, 1, 2] 20 \n",
      " AvgCartLoad = 2.5 \n",
      "\n",
      "\n",
      "\n"
     ]
    },
    {
     "data": {
      "image/png": "[encoded data removed]",
      "text/plain": [
       "<Figure size 432x288 with 1 Axes>"
      ]
     },
     "metadata": {
      "needs_background": "light"
     },
     "output_type": "display_data"
    },
    {
     "name": "stdout",
     "output_type": "stream",
     "text": [
      "\n",
      "\n",
      "Distances = [10, 110, 10, 60, 20, 40, 0, 80, 60, 110, 130, 30, 30, 130, 130, 40, 70] \n",
      " Route = [3, 2, 13, 14, 8, 10, 14, 14, 6, 12, 1, 14, 11, 14, 1, 14, 10, 3] \n",
      " Distance = 1060 \n",
      " time = 1060 secs \n",
      "  Request = [6, 7, 10, 11, 13, 17, 18, 21] \n",
      " Depot =  3 \n",
      " Volume = [1, 1, 1, 5, 1, 12, 1, 1] 23 \n",
      " AvgCartLoad = 2.875 \n",
      "\n",
      "\n",
      "\n"
     ]
    },
    {
     "data": {
      "image/png": "[encoded data removed]",
      "text/plain": [
       "<Figure size 432x288 with 1 Axes>"
      ]
     },
     "metadata": {
      "needs_background": "light"
     },
     "output_type": "display_data"
    },
    {
     "name": "stdout",
     "output_type": "stream",
     "text": [
      "\n",
      "\n"
     ]
    },
    {
     "ename": "IndexError",
     "evalue": "list index out of range",
     "output_type": "error",
     "traceback": [
      "\u001b[1;31m---------------------------------------------------------------------------\u001b[0m",
      "\u001b[1;31mIndexError\u001b[0m                                Traceback (most recent call last)",
      "\u001b[1;32m<ipython-input-37-75a2837680f7>\u001b[0m in \u001b[0;36m<module>\u001b[1;34m\u001b[0m\n\u001b[1;32m----> 1\u001b[1;33m \u001b[0mCFRSKMedoids\u001b[0m\u001b[1;33m(\u001b[0m\u001b[1;36m8\u001b[0m\u001b[1;33m,\u001b[0m\u001b[0mcartposition\u001b[0m\u001b[1;33m,\u001b[0m\u001b[0mpickup\u001b[0m\u001b[1;33m,\u001b[0m\u001b[0mdelivery\u001b[0m\u001b[1;33m,\u001b[0m\u001b[0mVolume\u001b[0m\u001b[1;33m)\u001b[0m\u001b[1;33m\u001b[0m\u001b[1;33m\u001b[0m\u001b[0m\n\u001b[0m",
      "\u001b[1;32m<ipython-input-2-79114fbe7b64>\u001b[0m in \u001b[0;36mCFRSKMedoids\u001b[1;34m(n_clusters, cartposition, pickup, delivery, Volume)\u001b[0m\n\u001b[0;32m    135\u001b[0m \u001b[1;33m\u001b[0m\u001b[0m\n\u001b[0;32m    136\u001b[0m         \u001b[0mdepot\u001b[0m \u001b[1;33m=\u001b[0m \u001b[0mcartposition\u001b[0m\u001b[1;33m[\u001b[0m\u001b[0mv\u001b[0m\u001b[1;33m]\u001b[0m\u001b[1;33m\u001b[0m\u001b[1;33m\u001b[0m\u001b[0m\n\u001b[1;32m--> 137\u001b[1;33m         \u001b[0mpickup\u001b[0m \u001b[1;33m=\u001b[0m \u001b[0mIndex1\u001b[0m\u001b[1;33m[\u001b[0m\u001b[0mv\u001b[0m\u001b[1;33m]\u001b[0m\u001b[1;33m\u001b[0m\u001b[1;33m\u001b[0m\u001b[0m\n\u001b[0m\u001b[0;32m    138\u001b[0m         \u001b[0mdelivery\u001b[0m \u001b[1;33m=\u001b[0m \u001b[0mIndex3\u001b[0m\u001b[1;33m[\u001b[0m\u001b[0mv\u001b[0m\u001b[1;33m]\u001b[0m\u001b[1;33m\u001b[0m\u001b[1;33m\u001b[0m\u001b[0m\n\u001b[0;32m    139\u001b[0m         \u001b[0mVolume\u001b[0m \u001b[1;33m=\u001b[0m \u001b[0mIndex5\u001b[0m\u001b[1;33m[\u001b[0m\u001b[0mv\u001b[0m\u001b[1;33m]\u001b[0m\u001b[1;33m\u001b[0m\u001b[1;33m\u001b[0m\u001b[0m\n",
      "\u001b[1;31mIndexError\u001b[0m: list index out of range"
     ]
    }
   ],
   "source": [
    "CFRSKMedoids(8,cartposition,pickup,delivery,Volume)"
   ]
  },
  {
   "cell_type": "code",
   "execution_count": 83,
   "metadata": {},
   "outputs": [
    {
     "data": {
      "text/plain": [
       "0.26498722117347007"
      ]
     },
     "execution_count": 83,
     "metadata": {},
     "output_type": "execute_result"
    }
   ],
   "source": [
    "statistics.variance([1.8571429,2.5,2.875])"
   ]
  },
  {
   "cell_type": "code",
   "execution_count": 38,
   "metadata": {},
   "outputs": [
    {
     "name": "stdout",
     "output_type": "stream",
     "text": [
      "[7, 7, 1, 5, 13, 14, 14, 8, 9, 10, 10, 2, 6, 14, 13, 14, 13, 14, 12] [11, 10, 7, 8, 8, 8, 6, 5, 14, 14, 13, 13, 11, 11, 7, 7, 10, 5, 6] [3, 1, 1, 10, 3, 1, 1, 1, 1, 5, 2, 1, 1, 12, 2, 1, 2, 1, 1]\n"
     ]
    }
   ],
   "source": [
    "import re as re\n",
    "df9 = pd.read_csv('Request_Lf_db15.csv')\n",
    "df9 = df9.reset_index()\n",
    "df9.columns=['Pickup', 'Constant1','Delivery','Constant2','Volume']\n",
    "df9 = df9[['Pickup','Delivery','Volume']]\n",
    "\n",
    "df9['Pickup'] = df9['Pickup'].apply(lambda x: \" \".join(re.findall(r'[0-9]+',x)))\n",
    "df9['Delivery'] = df9['Delivery'].apply(lambda x: \" \".join(re.findall(r'[0-9]+',x)))\n",
    "\n",
    "Volume = df9['Volume'].to_list()\n",
    "pickup = df9['Pickup'].to_list()\n",
    "delivery = df9['Delivery'].to_list()\n",
    "pickup = [int(i) for i in pickup]\n",
    "delivery = [int(j) for j in delivery]\n",
    "\n",
    "print(pickup,delivery,Volume)"
   ]
  },
  {
   "cell_type": "code",
   "execution_count": 39,
   "metadata": {},
   "outputs": [
    {
     "name": "stdout",
     "output_type": "stream",
     "text": [
      "Distances = [30, 50, 40, 40, 80] \n",
      " Route = [3, 6, 11, 7, 11, 3] \n",
      " Distance = 240 \n",
      " time = 240 secs \n",
      "  Request = [1, 13] \n",
      " Depot =  3 \n",
      " Volume = [3, 1] 4 \n",
      " AvgCartLoad = 2.0 \n",
      "\n"
     ]
    },
    {
     "name": "stderr",
     "output_type": "stream",
     "text": [
      "C:\\Users\\peace\\Anaconda3\\lib\\site-packages\\ipykernel_launcher.py:94: ConvergenceWarning: Number of distinct clusters (7) found smaller than n_clusters (8). Possibly due to duplicate points in X.\n"
     ]
    },
    {
     "data": {
      "image/png": "[encoded data removed]",
      "text/plain": [
       "<Figure size 432x288 with 1 Axes>"
      ]
     },
     "metadata": {
      "needs_background": "light"
     },
     "output_type": "display_data"
    },
    {
     "name": "stdout",
     "output_type": "stream",
     "text": [
      "\n",
      "\n",
      "Distances = [10, 110, 10, 60, 10, 50, 0, 80, 40, 40, 0, 30, 30, 70, 70, 90, 20] \n",
      " Route = [3, 2, 13, 14, 8, 9, 14, 14, 6, 10, 14, 14, 11, 14, 7, 14, 5, 3] \n",
      " Distance = 720 \n",
      " time = 720 secs \n",
      "  Request = [6, 7, 9, 10, 12, 14, 16, 18] \n",
      " Depot =  3 \n",
      " Volume = [1, 1, 1, 5, 1, 12, 1, 1] 23 \n",
      " AvgCartLoad = 2.875 \n",
      "\n"
     ]
    },
    {
     "data": {
      "image/png": "[encoded data removed]",
      "text/plain": [
       "<Figure size 432x288 with 1 Axes>"
      ]
     },
     "metadata": {
      "needs_background": "light"
     },
     "output_type": "display_data"
    },
    {
     "name": "stdout",
     "output_type": "stream",
     "text": [
      "\n",
      "\n",
      "Distances = [20, 30, 0, 30, 20] \n",
      " Route = [3, 5, 8, 8, 5, 3] \n",
      " Distance = 100 \n",
      " time = 100 secs \n",
      "  Request = [4, 8] \n",
      " Depot =  3 \n",
      " Volume = [10, 1] 11 \n",
      " AvgCartLoad = 5.5 \n",
      "\n"
     ]
    },
    {
     "data": {
      "image/png": "[encoded data removed]",
      "text/plain": [
       "<Figure size 432x288 with 1 Axes>"
      ]
     },
     "metadata": {
      "needs_background": "light"
     },
     "output_type": "display_data"
    },
    {
     "name": "stdout",
     "output_type": "stream",
     "text": [
      "\n",
      "\n",
      "Distances = [70, 30, 0, 50, 50, 60, 60, 30, 70] \n",
      " Route = [3, 10, 13, 13, 8, 13, 7, 13, 10, 3] \n",
      " Distance = 420 \n",
      " time = 420 secs \n",
      "  Request = [5, 11, 15, 17] \n",
      " Depot =  3 \n",
      " Volume = [3, 2, 2, 2] 9 \n",
      " AvgCartLoad = 2.25 \n",
      "\n"
     ]
    },
    {
     "data": {
      "image/png": "[encoded data removed]",
      "text/plain": [
       "<Figure size 432x288 with 1 Axes>"
      ]
     },
     "metadata": {
      "needs_background": "light"
     },
     "output_type": "display_data"
    },
    {
     "name": "stdout",
     "output_type": "stream",
     "text": [
      "\n",
      "\n",
      "Distances = [20, 60, 40] \n",
      " Route = [3, 1, 7, 3] \n",
      " Distance = 120 \n",
      " time = 120 secs \n",
      "  Request = [3] \n",
      " Depot =  3 \n",
      " Volume = [1] 1 \n",
      " AvgCartLoad = 1.0 \n",
      "\n"
     ]
    },
    {
     "data": {
      "image/png": "[encoded data removed]",
      "text/plain": [
       "<Figure size 432x288 with 1 Axes>"
      ]
     },
     "metadata": {
      "needs_background": "light"
     },
     "output_type": "display_data"
    },
    {
     "name": "stdout",
     "output_type": "stream",
     "text": [
      "\n",
      "\n",
      "Variance = 2.8625000000000003\n"
     ]
    }
   ],
   "source": [
    "CFRSKMeans(8,cartposition,pickup,delivery,Volume)"
   ]
  },
  {
   "cell_type": "code",
   "execution_count": 123,
   "metadata": {},
   "outputs": [
    {
     "data": {
      "text/plain": [
       "2.6168154761904763"
      ]
     },
     "execution_count": 123,
     "metadata": {},
     "output_type": "execute_result"
    }
   ],
   "source": [
    "statistics.variance([1,1,2.25,1,5.5,2.875,2])"
   ]
  },
  {
   "cell_type": "code",
   "execution_count": 40,
   "metadata": {
    "scrolled": false
   },
   "outputs": [
    {
     "name": "stderr",
     "output_type": "stream",
     "text": [
      "C:\\Users\\peace\\Anaconda3\\lib\\site-packages\\sklearn_extra\\cluster\\_k_medoids.py:279: UserWarning: Cluster 1 is empty! self.labels_[self.medoid_indices_[1]] may not be labeled with its corresponding cluster (1).\n",
      "  \"its corresponding cluster ({k}).\".format(k=k)\n",
      "C:\\Users\\peace\\Anaconda3\\lib\\site-packages\\sklearn_extra\\cluster\\_k_medoids.py:279: UserWarning: Cluster 3 is empty! self.labels_[self.medoid_indices_[3]] may not be labeled with its corresponding cluster (3).\n",
      "  \"its corresponding cluster ({k}).\".format(k=k)\n",
      "C:\\Users\\peace\\Anaconda3\\lib\\site-packages\\sklearn_extra\\cluster\\_k_medoids.py:279: UserWarning: Cluster 4 is empty! self.labels_[self.medoid_indices_[4]] may not be labeled with its corresponding cluster (4).\n",
      "  \"its corresponding cluster ({k}).\".format(k=k)\n",
      "C:\\Users\\peace\\Anaconda3\\lib\\site-packages\\sklearn_extra\\cluster\\_k_medoids.py:279: UserWarning: Cluster 5 is empty! self.labels_[self.medoid_indices_[5]] may not be labeled with its corresponding cluster (5).\n",
      "  \"its corresponding cluster ({k}).\".format(k=k)\n",
      "C:\\Users\\peace\\Anaconda3\\lib\\site-packages\\sklearn_extra\\cluster\\_k_medoids.py:279: UserWarning: Cluster 6 is empty! self.labels_[self.medoid_indices_[6]] may not be labeled with its corresponding cluster (6).\n",
      "  \"its corresponding cluster ({k}).\".format(k=k)\n",
      "C:\\Users\\peace\\Anaconda3\\lib\\site-packages\\sklearn_extra\\cluster\\_k_medoids.py:279: UserWarning: Cluster 7 is empty! self.labels_[self.medoid_indices_[7]] may not be labeled with its corresponding cluster (7).\n",
      "  \"its corresponding cluster ({k}).\".format(k=k)\n"
     ]
    },
    {
     "name": "stdout",
     "output_type": "stream",
     "text": [
      "[2 2 2 2 3 0 0 2 0 0 3 0 2 0 3 0 3 0 3]\n",
      "Distances = [10, 110, 10, 60, 10, 50, 0, 80, 40, 40, 0, 30, 30, 70, 70, 90, 20] \n",
      " Route = [3, 2, 13, 14, 8, 9, 14, 14, 6, 10, 14, 14, 11, 14, 7, 14, 5, 3] \n",
      " Distance = 720 \n",
      " time = 720 secs \n",
      "  Request = [6, 7, 9, 10, 12, 14, 16, 18] \n",
      " Depot =  3 \n",
      " Volume = [1, 1, 1, 5, 1, 12, 1, 1] 23 \n",
      " AvgCartLoad = 2.875 \n",
      "\n",
      "\n",
      "\n"
     ]
    },
    {
     "data": {
      "image/png": "[encoded data removed]",
      "text/plain": [
       "<Figure size 432x288 with 1 Axes>"
      ]
     },
     "metadata": {
      "needs_background": "light"
     },
     "output_type": "display_data"
    },
    {
     "name": "stdout",
     "output_type": "stream",
     "text": [
      "\n",
      "\n",
      "Distances = [20, 30, 0, 30, 10, 50, 40, 40, 40, 30, 90, 60, 40] \n",
      " Route = [3, 5, 8, 8, 5, 6, 11, 7, 11, 7, 10, 1, 7, 3] \n",
      " Distance = 480 \n",
      " time = 480 secs \n",
      "  Request = [1, 2, 3, 4, 8, 13] \n",
      " Depot =  3 \n",
      " Volume = [3, 1, 1, 10, 1, 1] 17 \n",
      " AvgCartLoad = 2.8333333333333335 \n",
      "\n",
      "\n",
      "\n"
     ]
    },
    {
     "data": {
      "image/png": "[encoded data removed]",
      "text/plain": [
       "<Figure size 432x288 with 1 Axes>"
      ]
     },
     "metadata": {
      "needs_background": "light"
     },
     "output_type": "display_data"
    },
    {
     "name": "stdout",
     "output_type": "stream",
     "text": [
      "\n",
      "\n",
      "Distances = [70, 30, 0, 50, 40, 60, 70, 60, 60, 30, 70] \n",
      " Route = [3, 10, 13, 13, 8, 12, 6, 13, 7, 13, 10, 3] \n",
      " Distance = 540 \n",
      " time = 540 secs \n",
      "  Request = [5, 11, 15, 17, 19] \n",
      " Depot =  3 \n",
      " Volume = [3, 2, 2, 2, 1] 10 \n",
      " AvgCartLoad = 2.0 \n",
      "\n",
      "\n",
      "\n"
     ]
    },
    {
     "data": {
      "image/png": "[encoded data removed]",
      "text/plain": [
       "<Figure size 432x288 with 1 Axes>"
      ]
     },
     "metadata": {
      "needs_background": "light"
     },
     "output_type": "display_data"
    },
    {
     "name": "stdout",
     "output_type": "stream",
     "text": [
      "\n",
      "\n"
     ]
    },
    {
     "ename": "IndexError",
     "evalue": "list index out of range",
     "output_type": "error",
     "traceback": [
      "\u001b[1;31m---------------------------------------------------------------------------\u001b[0m",
      "\u001b[1;31mIndexError\u001b[0m                                Traceback (most recent call last)",
      "\u001b[1;32m<ipython-input-40-75a2837680f7>\u001b[0m in \u001b[0;36m<module>\u001b[1;34m\u001b[0m\n\u001b[1;32m----> 1\u001b[1;33m \u001b[0mCFRSKMedoids\u001b[0m\u001b[1;33m(\u001b[0m\u001b[1;36m8\u001b[0m\u001b[1;33m,\u001b[0m\u001b[0mcartposition\u001b[0m\u001b[1;33m,\u001b[0m\u001b[0mpickup\u001b[0m\u001b[1;33m,\u001b[0m\u001b[0mdelivery\u001b[0m\u001b[1;33m,\u001b[0m\u001b[0mVolume\u001b[0m\u001b[1;33m)\u001b[0m\u001b[1;33m\u001b[0m\u001b[1;33m\u001b[0m\u001b[0m\n\u001b[0m",
      "\u001b[1;32m<ipython-input-2-79114fbe7b64>\u001b[0m in \u001b[0;36mCFRSKMedoids\u001b[1;34m(n_clusters, cartposition, pickup, delivery, Volume)\u001b[0m\n\u001b[0;32m    135\u001b[0m \u001b[1;33m\u001b[0m\u001b[0m\n\u001b[0;32m    136\u001b[0m         \u001b[0mdepot\u001b[0m \u001b[1;33m=\u001b[0m \u001b[0mcartposition\u001b[0m\u001b[1;33m[\u001b[0m\u001b[0mv\u001b[0m\u001b[1;33m]\u001b[0m\u001b[1;33m\u001b[0m\u001b[1;33m\u001b[0m\u001b[0m\n\u001b[1;32m--> 137\u001b[1;33m         \u001b[0mpickup\u001b[0m \u001b[1;33m=\u001b[0m \u001b[0mIndex1\u001b[0m\u001b[1;33m[\u001b[0m\u001b[0mv\u001b[0m\u001b[1;33m]\u001b[0m\u001b[1;33m\u001b[0m\u001b[1;33m\u001b[0m\u001b[0m\n\u001b[0m\u001b[0;32m    138\u001b[0m         \u001b[0mdelivery\u001b[0m \u001b[1;33m=\u001b[0m \u001b[0mIndex3\u001b[0m\u001b[1;33m[\u001b[0m\u001b[0mv\u001b[0m\u001b[1;33m]\u001b[0m\u001b[1;33m\u001b[0m\u001b[1;33m\u001b[0m\u001b[0m\n\u001b[0;32m    139\u001b[0m         \u001b[0mVolume\u001b[0m \u001b[1;33m=\u001b[0m \u001b[0mIndex5\u001b[0m\u001b[1;33m[\u001b[0m\u001b[0mv\u001b[0m\u001b[1;33m]\u001b[0m\u001b[1;33m\u001b[0m\u001b[1;33m\u001b[0m\u001b[0m\n",
      "\u001b[1;31mIndexError\u001b[0m: list index out of range"
     ]
    }
   ],
   "source": [
    "CFRSKMedoids(8,cartposition,pickup,delivery,Volume)"
   ]
  },
  {
   "cell_type": "code",
   "execution_count": 88,
   "metadata": {},
   "outputs": [
    {
     "data": {
      "text/plain": [
       "0.24363425046296336"
      ]
     },
     "execution_count": 88,
     "metadata": {},
     "output_type": "execute_result"
    }
   ],
   "source": [
    "statistics.variance([2.8333333,2.0,2.875])"
   ]
  },
  {
   "cell_type": "code",
   "execution_count": 41,
   "metadata": {},
   "outputs": [
    {
     "name": "stdout",
     "output_type": "stream",
     "text": [
      "[7, 7, 1, 5, 13, 14, 14, 8, 9, 10, 10, 2, 6, 14, 13, 14, 13, 14, 12] [11, 10, 7, 8, 8, 8, 6, 5, 14, 14, 13, 13, 11, 11, 7, 7, 10, 5, 6] [3, 1, 1, 10, 3, 1, 1, 1, 1, 5, 2, 1, 1, 12, 2, 1, 2, 1, 1]\n"
     ]
    }
   ],
   "source": [
    "import re as re\n",
    "df10 = pd.read_csv('Request_Lf_db16.csv')\n",
    "df10 = df10.reset_index()\n",
    "df10.columns=['Pickup', 'Constant1','Delivery','Constant2','Volume']\n",
    "df10 = df10[['Pickup','Delivery','Volume']]\n",
    "\n",
    "df10['Pickup'] = df10['Pickup'].apply(lambda x: \" \".join(re.findall(r'[0-9]+',x)))\n",
    "df10['Delivery'] = df10['Delivery'].apply(lambda x: \" \".join(re.findall(r'[0-9]+',x)))\n",
    "\n",
    "Volume = df10['Volume'].to_list()\n",
    "pickup = df10['Pickup'].to_list()\n",
    "delivery = df10['Delivery'].to_list()\n",
    "pickup = [int(i) for i in pickup]\n",
    "delivery = [int(j) for j in delivery]\n",
    "\n",
    "print(pickup,delivery,Volume)"
   ]
  },
  {
   "cell_type": "code",
   "execution_count": 42,
   "metadata": {},
   "outputs": [
    {
     "name": "stdout",
     "output_type": "stream",
     "text": [
      "Distances = [30, 50, 40, 40, 80] \n",
      " Route = [3, 6, 11, 7, 11, 3] \n",
      " Distance = 240 \n",
      " time = 240 secs \n",
      "  Request = [1, 13] \n",
      " Depot =  3 \n",
      " Volume = [3, 1] 4 \n",
      " AvgCartLoad = 2.0 \n",
      "\n"
     ]
    },
    {
     "name": "stderr",
     "output_type": "stream",
     "text": [
      "C:\\Users\\peace\\Anaconda3\\lib\\site-packages\\ipykernel_launcher.py:94: ConvergenceWarning: Number of distinct clusters (7) found smaller than n_clusters (8). Possibly due to duplicate points in X.\n"
     ]
    },
    {
     "data": {
      "image/png": "[encoded data removed]",
      "text/plain": [
       "<Figure size 432x288 with 1 Axes>"
      ]
     },
     "metadata": {
      "needs_background": "light"
     },
     "output_type": "display_data"
    },
    {
     "name": "stdout",
     "output_type": "stream",
     "text": [
      "\n",
      "\n",
      "Distances = [10, 110, 10, 60, 10, 50, 0, 80, 40, 40, 0, 30, 30, 70, 70, 90, 20] \n",
      " Route = [3, 2, 13, 14, 8, 9, 14, 14, 6, 10, 14, 14, 11, 14, 7, 14, 5, 3] \n",
      " Distance = 720 \n",
      " time = 720 secs \n",
      "  Request = [6, 7, 9, 10, 12, 14, 16, 18] \n",
      " Depot =  3 \n",
      " Volume = [1, 1, 1, 5, 1, 12, 1, 1] 23 \n",
      " AvgCartLoad = 2.875 \n",
      "\n"
     ]
    },
    {
     "data": {
      "image/png": "[encoded data removed]",
      "text/plain": [
       "<Figure size 432x288 with 1 Axes>"
      ]
     },
     "metadata": {
      "needs_background": "light"
     },
     "output_type": "display_data"
    },
    {
     "name": "stdout",
     "output_type": "stream",
     "text": [
      "\n",
      "\n",
      "Distances = [20, 30, 0, 30, 20] \n",
      " Route = [3, 5, 8, 8, 5, 3] \n",
      " Distance = 100 \n",
      " time = 100 secs \n",
      "  Request = [4, 8] \n",
      " Depot =  3 \n",
      " Volume = [10, 1] 11 \n",
      " AvgCartLoad = 5.5 \n",
      "\n"
     ]
    },
    {
     "data": {
      "image/png": "[encoded data removed]",
      "text/plain": [
       "<Figure size 432x288 with 1 Axes>"
      ]
     },
     "metadata": {
      "needs_background": "light"
     },
     "output_type": "display_data"
    },
    {
     "name": "stdout",
     "output_type": "stream",
     "text": [
      "\n",
      "\n",
      "Distances = [70, 30, 0, 50, 50, 60, 60, 30, 70] \n",
      " Route = [3, 10, 13, 13, 8, 13, 7, 13, 10, 3] \n",
      " Distance = 420 \n",
      " time = 420 secs \n",
      "  Request = [5, 11, 15, 17] \n",
      " Depot =  3 \n",
      " Volume = [3, 2, 2, 2] 9 \n",
      " AvgCartLoad = 2.25 \n",
      "\n"
     ]
    },
    {
     "data": {
      "image/png": "[encoded data removed]",
      "text/plain": [
       "<Figure size 432x288 with 1 Axes>"
      ]
     },
     "metadata": {
      "needs_background": "light"
     },
     "output_type": "display_data"
    },
    {
     "name": "stdout",
     "output_type": "stream",
     "text": [
      "\n",
      "\n",
      "Distances = [20, 60, 40] \n",
      " Route = [3, 1, 7, 3] \n",
      " Distance = 120 \n",
      " time = 120 secs \n",
      "  Request = [3] \n",
      " Depot =  3 \n",
      " Volume = [1] 1 \n",
      " AvgCartLoad = 1.0 \n",
      "\n"
     ]
    },
    {
     "data": {
      "image/png": "[encoded data removed]",
      "text/plain": [
       "<Figure size 432x288 with 1 Axes>"
      ]
     },
     "metadata": {
      "needs_background": "light"
     },
     "output_type": "display_data"
    },
    {
     "name": "stdout",
     "output_type": "stream",
     "text": [
      "\n",
      "\n",
      "Variance = 2.8625000000000003\n"
     ]
    }
   ],
   "source": [
    "CFRSKMeans(8,cartposition,pickup,delivery,Volume)"
   ]
  },
  {
   "cell_type": "code",
   "execution_count": 127,
   "metadata": {},
   "outputs": [
    {
     "data": {
      "text/plain": [
       "2.6168154761904763"
      ]
     },
     "execution_count": 127,
     "metadata": {},
     "output_type": "execute_result"
    }
   ],
   "source": [
    "statistics.variance([1,1,1,2.25,5.5,2.875,2])"
   ]
  },
  {
   "cell_type": "code",
   "execution_count": 43,
   "metadata": {
    "scrolled": false
   },
   "outputs": [
    {
     "name": "stderr",
     "output_type": "stream",
     "text": [
      "C:\\Users\\peace\\Anaconda3\\lib\\site-packages\\sklearn_extra\\cluster\\_k_medoids.py:279: UserWarning: Cluster 1 is empty! self.labels_[self.medoid_indices_[1]] may not be labeled with its corresponding cluster (1).\n",
      "  \"its corresponding cluster ({k}).\".format(k=k)\n",
      "C:\\Users\\peace\\Anaconda3\\lib\\site-packages\\sklearn_extra\\cluster\\_k_medoids.py:279: UserWarning: Cluster 3 is empty! self.labels_[self.medoid_indices_[3]] may not be labeled with its corresponding cluster (3).\n",
      "  \"its corresponding cluster ({k}).\".format(k=k)\n",
      "C:\\Users\\peace\\Anaconda3\\lib\\site-packages\\sklearn_extra\\cluster\\_k_medoids.py:279: UserWarning: Cluster 4 is empty! self.labels_[self.medoid_indices_[4]] may not be labeled with its corresponding cluster (4).\n",
      "  \"its corresponding cluster ({k}).\".format(k=k)\n",
      "C:\\Users\\peace\\Anaconda3\\lib\\site-packages\\sklearn_extra\\cluster\\_k_medoids.py:279: UserWarning: Cluster 5 is empty! self.labels_[self.medoid_indices_[5]] may not be labeled with its corresponding cluster (5).\n",
      "  \"its corresponding cluster ({k}).\".format(k=k)\n",
      "C:\\Users\\peace\\Anaconda3\\lib\\site-packages\\sklearn_extra\\cluster\\_k_medoids.py:279: UserWarning: Cluster 6 is empty! self.labels_[self.medoid_indices_[6]] may not be labeled with its corresponding cluster (6).\n",
      "  \"its corresponding cluster ({k}).\".format(k=k)\n",
      "C:\\Users\\peace\\Anaconda3\\lib\\site-packages\\sklearn_extra\\cluster\\_k_medoids.py:279: UserWarning: Cluster 7 is empty! self.labels_[self.medoid_indices_[7]] may not be labeled with its corresponding cluster (7).\n",
      "  \"its corresponding cluster ({k}).\".format(k=k)\n"
     ]
    },
    {
     "name": "stdout",
     "output_type": "stream",
     "text": [
      "[2 2 2 2 3 0 0 2 0 0 3 0 2 0 3 0 3 0 3]\n",
      "Distances = [10, 110, 10, 60, 10, 50, 0, 80, 40, 40, 0, 30, 30, 70, 70, 90, 20] \n",
      " Route = [3, 2, 13, 14, 8, 9, 14, 14, 6, 10, 14, 14, 11, 14, 7, 14, 5, 3] \n",
      " Distance = 720 \n",
      " time = 720 secs \n",
      "  Request = [6, 7, 9, 10, 12, 14, 16, 18] \n",
      " Depot =  3 \n",
      " Volume = [1, 1, 1, 5, 1, 12, 1, 1] 23 \n",
      " AvgCartLoad = 2.875 \n",
      "\n",
      "\n",
      "\n"
     ]
    },
    {
     "data": {
      "image/png": "[encoded data removed]",
      "text/plain": [
       "<Figure size 432x288 with 1 Axes>"
      ]
     },
     "metadata": {
      "needs_background": "light"
     },
     "output_type": "display_data"
    },
    {
     "name": "stdout",
     "output_type": "stream",
     "text": [
      "\n",
      "\n",
      "Distances = [20, 30, 0, 30, 10, 50, 40, 40, 40, 30, 90, 60, 40] \n",
      " Route = [3, 5, 8, 8, 5, 6, 11, 7, 11, 7, 10, 1, 7, 3] \n",
      " Distance = 480 \n",
      " time = 480 secs \n",
      "  Request = [1, 2, 3, 4, 8, 13] \n",
      " Depot =  3 \n",
      " Volume = [3, 1, 1, 10, 1, 1] 17 \n",
      " AvgCartLoad = 2.8333333333333335 \n",
      "\n",
      "\n",
      "\n"
     ]
    },
    {
     "data": {
      "image/png": "[encoded data removed]",
      "text/plain": [
       "<Figure size 432x288 with 1 Axes>"
      ]
     },
     "metadata": {
      "needs_background": "light"
     },
     "output_type": "display_data"
    },
    {
     "name": "stdout",
     "output_type": "stream",
     "text": [
      "\n",
      "\n",
      "Distances = [70, 30, 0, 50, 40, 60, 70, 60, 60, 30, 70] \n",
      " Route = [3, 10, 13, 13, 8, 12, 6, 13, 7, 13, 10, 3] \n",
      " Distance = 540 \n",
      " time = 540 secs \n",
      "  Request = [5, 11, 15, 17, 19] \n",
      " Depot =  3 \n",
      " Volume = [3, 2, 2, 2, 1] 10 \n",
      " AvgCartLoad = 2.0 \n",
      "\n",
      "\n",
      "\n"
     ]
    },
    {
     "data": {
      "image/png": "[encoded data removed]",
      "text/plain": [
       "<Figure size 432x288 with 1 Axes>"
      ]
     },
     "metadata": {
      "needs_background": "light"
     },
     "output_type": "display_data"
    },
    {
     "name": "stdout",
     "output_type": "stream",
     "text": [
      "\n",
      "\n"
     ]
    },
    {
     "ename": "IndexError",
     "evalue": "list index out of range",
     "output_type": "error",
     "traceback": [
      "\u001b[1;31m---------------------------------------------------------------------------\u001b[0m",
      "\u001b[1;31mIndexError\u001b[0m                                Traceback (most recent call last)",
      "\u001b[1;32m<ipython-input-43-75a2837680f7>\u001b[0m in \u001b[0;36m<module>\u001b[1;34m\u001b[0m\n\u001b[1;32m----> 1\u001b[1;33m \u001b[0mCFRSKMedoids\u001b[0m\u001b[1;33m(\u001b[0m\u001b[1;36m8\u001b[0m\u001b[1;33m,\u001b[0m\u001b[0mcartposition\u001b[0m\u001b[1;33m,\u001b[0m\u001b[0mpickup\u001b[0m\u001b[1;33m,\u001b[0m\u001b[0mdelivery\u001b[0m\u001b[1;33m,\u001b[0m\u001b[0mVolume\u001b[0m\u001b[1;33m)\u001b[0m\u001b[1;33m\u001b[0m\u001b[1;33m\u001b[0m\u001b[0m\n\u001b[0m",
      "\u001b[1;32m<ipython-input-2-79114fbe7b64>\u001b[0m in \u001b[0;36mCFRSKMedoids\u001b[1;34m(n_clusters, cartposition, pickup, delivery, Volume)\u001b[0m\n\u001b[0;32m    135\u001b[0m \u001b[1;33m\u001b[0m\u001b[0m\n\u001b[0;32m    136\u001b[0m         \u001b[0mdepot\u001b[0m \u001b[1;33m=\u001b[0m \u001b[0mcartposition\u001b[0m\u001b[1;33m[\u001b[0m\u001b[0mv\u001b[0m\u001b[1;33m]\u001b[0m\u001b[1;33m\u001b[0m\u001b[1;33m\u001b[0m\u001b[0m\n\u001b[1;32m--> 137\u001b[1;33m         \u001b[0mpickup\u001b[0m \u001b[1;33m=\u001b[0m \u001b[0mIndex1\u001b[0m\u001b[1;33m[\u001b[0m\u001b[0mv\u001b[0m\u001b[1;33m]\u001b[0m\u001b[1;33m\u001b[0m\u001b[1;33m\u001b[0m\u001b[0m\n\u001b[0m\u001b[0;32m    138\u001b[0m         \u001b[0mdelivery\u001b[0m \u001b[1;33m=\u001b[0m \u001b[0mIndex3\u001b[0m\u001b[1;33m[\u001b[0m\u001b[0mv\u001b[0m\u001b[1;33m]\u001b[0m\u001b[1;33m\u001b[0m\u001b[1;33m\u001b[0m\u001b[0m\n\u001b[0;32m    139\u001b[0m         \u001b[0mVolume\u001b[0m \u001b[1;33m=\u001b[0m \u001b[0mIndex5\u001b[0m\u001b[1;33m[\u001b[0m\u001b[0mv\u001b[0m\u001b[1;33m]\u001b[0m\u001b[1;33m\u001b[0m\u001b[1;33m\u001b[0m\u001b[0m\n",
      "\u001b[1;31mIndexError\u001b[0m: list index out of range"
     ]
    }
   ],
   "source": [
    "CFRSKMedoids(8,cartposition,pickup,delivery,Volume)"
   ]
  },
  {
   "cell_type": "code",
   "execution_count": 93,
   "metadata": {},
   "outputs": [
    {
     "data": {
      "text/plain": [
       "0.24363425046296336"
      ]
     },
     "execution_count": 93,
     "metadata": {},
     "output_type": "execute_result"
    }
   ],
   "source": [
    "statistics.variance([2.8333333,2.875,2.0])"
   ]
  },
  {
   "cell_type": "code",
   "execution_count": 44,
   "metadata": {},
   "outputs": [
    {
     "name": "stdout",
     "output_type": "stream",
     "text": [
      "[7, 7, 1, 5, 2, 13, 14, 14, 8, 9, 10, 2, 10, 13, 14, 13, 14, 13, 13, 13, 14, 13, 13] [11, 10, 7, 8, 8, 8, 8, 6, 5, 14, 13, 13, 14, 4, 11, 1, 7, 7, 9, 10, 10, 5, 6] [1, 1, 1, 10, 1, 5, 1, 1, 1, 1, 5, 1, 2, 2, 12, 1, 1, 1, 1, 1, 1, 1, 1]\n"
     ]
    }
   ],
   "source": [
    "import re as re\n",
    "df11 = pd.read_csv('Request_Lf_db17.csv')\n",
    "df11 = df11.reset_index()\n",
    "df11.columns=['Pickup', 'Constant1','Delivery','Constant2','Volume']\n",
    "df11 = df11[['Pickup','Delivery','Volume']]\n",
    "\n",
    "df11['Pickup'] = df11['Pickup'].apply(lambda x: \" \".join(re.findall(r'[0-9]+',x)))\n",
    "df11['Delivery'] = df11['Delivery'].apply(lambda x: \" \".join(re.findall(r'[0-9]+',x)))\n",
    "\n",
    "Volume = df11['Volume'].to_list()\n",
    "pickup = df11['Pickup'].to_list()\n",
    "delivery = df11['Delivery'].to_list()\n",
    "pickup = [int(i) for i in pickup]\n",
    "delivery = [int(j) for j in delivery]\n",
    "\n",
    "print(pickup,delivery,Volume)"
   ]
  },
  {
   "cell_type": "code",
   "execution_count": 46,
   "metadata": {},
   "outputs": [
    {
     "name": "stdout",
     "output_type": "stream",
     "text": [
      "Distances = [10, 110, 10, 60, 10, 50, 0, 80, 40, 40, 0, 30, 30, 70, 70, 40, 70] \n",
      " Route = [3, 2, 13, 14, 8, 9, 14, 14, 6, 10, 14, 14, 11, 14, 7, 14, 10, 3] \n",
      " Distance = 720 \n",
      " time = 720 secs \n",
      "  Request = [7, 8, 10, 12, 13, 15, 17, 21] \n",
      " Depot =  3 \n",
      " Volume = [1, 1, 1, 1, 2, 12, 1, 1] 20 \n",
      " AvgCartLoad = 2.5 \n",
      "\n"
     ]
    },
    {
     "name": "stderr",
     "output_type": "stream",
     "text": [
      "C:\\Users\\peace\\Anaconda3\\lib\\site-packages\\ipykernel_launcher.py:94: ConvergenceWarning: Number of distinct clusters (7) found smaller than n_clusters (8). Possibly due to duplicate points in X.\n"
     ]
    },
    {
     "data": {
      "image/png": "[encoded data removed]",
      "text/plain": [
       "<Figure size 432x288 with 1 Axes>"
      ]
     },
     "metadata": {
      "needs_background": "light"
     },
     "output_type": "display_data"
    },
    {
     "name": "stdout",
     "output_type": "stream",
     "text": [
      "\n",
      "\n",
      "Distances = [10, 60, 70, 60, 40] \n",
      " Route = [3, 2, 8, 1, 7, 3] \n",
      " Distance = 240 \n",
      " time = 240 secs \n",
      "  Request = [3, 5] \n",
      " Depot =  3 \n",
      " Volume = [1, 1] 2 \n",
      " AvgCartLoad = 1.0 \n",
      "\n"
     ]
    },
    {
     "data": {
      "image/png": "[encoded data removed]",
      "text/plain": [
       "<Figure size 432x288 with 1 Axes>"
      ]
     },
     "metadata": {
      "needs_background": "light"
     },
     "output_type": "display_data"
    },
    {
     "name": "stdout",
     "output_type": "stream",
     "text": [
      "\n",
      "\n",
      "Distances = [70, 30, 0, 50, 50, 90, 90, 60, 60, 40, 40, 30, 30, 80, 80, 70, 30] \n",
      " Route = [3, 10, 13, 13, 8, 13, 4, 13, 7, 13, 9, 13, 10, 13, 5, 13, 6, 3] \n",
      " Distance = 900 \n",
      " time = 900 secs \n",
      "  Request = [6, 11, 14, 18, 19, 20, 22, 23] \n",
      " Depot =  3 \n",
      " Volume = [5, 5, 2, 1, 1, 1, 1, 1] 17 \n",
      " AvgCartLoad = 2.125 \n",
      "\n"
     ]
    },
    {
     "data": {
      "image/png": "[encoded data removed]",
      "text/plain": [
       "<Figure size 432x288 with 1 Axes>"
      ]
     },
     "metadata": {
      "needs_background": "light"
     },
     "output_type": "display_data"
    },
    {
     "name": "stdout",
     "output_type": "stream",
     "text": [
      "\n",
      "\n",
      "Distances = [40, 40, 80] \n",
      " Route = [3, 7, 11, 3] \n",
      " Distance = 160 \n",
      " time = 160 secs \n",
      "  Request = [1] \n",
      " Depot =  3 \n",
      " Volume = [1] 1 \n",
      " AvgCartLoad = 1.0 \n",
      "\n"
     ]
    },
    {
     "data": {
      "image/png": "[encoded data removed]",
      "text/plain": [
       "<Figure size 432x288 with 1 Axes>"
      ]
     },
     "metadata": {
      "needs_background": "light"
     },
     "output_type": "display_data"
    },
    {
     "name": "stdout",
     "output_type": "stream",
     "text": [
      "\n",
      "\n",
      "Distances = [20, 30, 0, 30, 20] \n",
      " Route = [3, 5, 8, 8, 5, 3] \n",
      " Distance = 100 \n",
      " time = 100 secs \n",
      "  Request = [4, 9] \n",
      " Depot =  3 \n",
      " Volume = [10, 1] 11 \n",
      " AvgCartLoad = 5.5 \n",
      "\n"
     ]
    },
    {
     "data": {
      "image/png": "[encoded data removed]",
      "text/plain": [
       "<Figure size 432x288 with 1 Axes>"
      ]
     },
     "metadata": {
      "needs_background": "light"
     },
     "output_type": "display_data"
    },
    {
     "name": "stdout",
     "output_type": "stream",
     "text": [
      "\n",
      "\n",
      "Variance = 3.403125\n"
     ]
    }
   ],
   "source": [
    "CFRSKMeans(8,cartposition,pickup,delivery,Volume)"
   ]
  },
  {
   "cell_type": "code",
   "execution_count": 135,
   "metadata": {},
   "outputs": [
    {
     "data": {
      "text/plain": [
       "2.752232142857143"
      ]
     },
     "execution_count": 135,
     "metadata": {},
     "output_type": "execute_result"
    }
   ],
   "source": [
    "statistics.variance([1,1,5.5,1,2.125,1,2.5])"
   ]
  },
  {
   "cell_type": "code",
   "execution_count": 47,
   "metadata": {},
   "outputs": [
    {
     "name": "stderr",
     "output_type": "stream",
     "text": [
      "C:\\Users\\peace\\Anaconda3\\lib\\site-packages\\sklearn_extra\\cluster\\_k_medoids.py:279: UserWarning: Cluster 1 is empty! self.labels_[self.medoid_indices_[1]] may not be labeled with its corresponding cluster (1).\n",
      "  \"its corresponding cluster ({k}).\".format(k=k)\n",
      "C:\\Users\\peace\\Anaconda3\\lib\\site-packages\\sklearn_extra\\cluster\\_k_medoids.py:279: UserWarning: Cluster 2 is empty! self.labels_[self.medoid_indices_[2]] may not be labeled with its corresponding cluster (2).\n",
      "  \"its corresponding cluster ({k}).\".format(k=k)\n",
      "C:\\Users\\peace\\Anaconda3\\lib\\site-packages\\sklearn_extra\\cluster\\_k_medoids.py:279: UserWarning: Cluster 3 is empty! self.labels_[self.medoid_indices_[3]] may not be labeled with its corresponding cluster (3).\n",
      "  \"its corresponding cluster ({k}).\".format(k=k)\n",
      "C:\\Users\\peace\\Anaconda3\\lib\\site-packages\\sklearn_extra\\cluster\\_k_medoids.py:279: UserWarning: Cluster 4 is empty! self.labels_[self.medoid_indices_[4]] may not be labeled with its corresponding cluster (4).\n",
      "  \"its corresponding cluster ({k}).\".format(k=k)\n",
      "C:\\Users\\peace\\Anaconda3\\lib\\site-packages\\sklearn_extra\\cluster\\_k_medoids.py:279: UserWarning: Cluster 5 is empty! self.labels_[self.medoid_indices_[5]] may not be labeled with its corresponding cluster (5).\n",
      "  \"its corresponding cluster ({k}).\".format(k=k)\n",
      "C:\\Users\\peace\\Anaconda3\\lib\\site-packages\\sklearn_extra\\cluster\\_k_medoids.py:279: UserWarning: Cluster 6 is empty! self.labels_[self.medoid_indices_[6]] may not be labeled with its corresponding cluster (6).\n",
      "  \"its corresponding cluster ({k}).\".format(k=k)\n",
      "C:\\Users\\peace\\Anaconda3\\lib\\site-packages\\sklearn_extra\\cluster\\_k_medoids.py:279: UserWarning: Cluster 7 is empty! self.labels_[self.medoid_indices_[7]] may not be labeled with its corresponding cluster (7).\n",
      "  \"its corresponding cluster ({k}).\".format(k=k)\n"
     ]
    },
    {
     "name": "stdout",
     "output_type": "stream",
     "text": [
      "[0 0 0 0 0 0 0 0 0 0 0 0 0 0 0 0 0 0 0 0 0 0 0]\n",
      "Distances = [10, 110, 0, 50, 0, 30, 0, 30, 10, 40, 10, 30, 0, 90, 20, 60, 10, 30, 0, 40, 0, 60, 10, 50, 0, 80, 50, 60, 60, 120, 120, 60, 60, 40, 40, 30, 30, 80, 80, 70, 80, 30, 30, 70, 70, 40, 70] \n",
      " Route = [3, 2, 13, 13, 8, 8, 5, 5, 8, 7, 11, 10, 13, 13, 4, 2, 8, 7, 10, 10, 14, 14, 8, 9, 14, 14, 6, 1, 7, 13, 1, 13, 7, 13, 9, 13, 10, 13, 5, 13, 6, 14, 11, 14, 7, 14, 10, 3] \n",
      " Distance = 2060 \n",
      " time = 2060 secs \n",
      "  Request = [1, 2, 3, 4, 5, 6, 7, 8, 9, 10, 11, 12, 13, 14, 15, 16, 17, 18, 19, 20, 21, 22, 23] \n",
      " Depot =  3 \n",
      " Volume = [1, 1, 1, 10, 1, 5, 1, 1, 1, 1, 5, 1, 2, 2, 12, 1, 1, 1, 1, 1, 1, 1, 1] 53 \n",
      " AvgCartLoad = 2.3043478260869565 \n",
      "\n",
      "\n",
      "\n"
     ]
    },
    {
     "data": {
      "image/png": "[encoded data removed]",
      "text/plain": [
       "<Figure size 432x288 with 1 Axes>"
      ]
     },
     "metadata": {
      "needs_background": "light"
     },
     "output_type": "display_data"
    },
    {
     "name": "stdout",
     "output_type": "stream",
     "text": [
      "\n",
      "\n"
     ]
    },
    {
     "ename": "IndexError",
     "evalue": "list index out of range",
     "output_type": "error",
     "traceback": [
      "\u001b[1;31m---------------------------------------------------------------------------\u001b[0m",
      "\u001b[1;31mIndexError\u001b[0m                                Traceback (most recent call last)",
      "\u001b[1;32m<ipython-input-47-75a2837680f7>\u001b[0m in \u001b[0;36m<module>\u001b[1;34m\u001b[0m\n\u001b[1;32m----> 1\u001b[1;33m \u001b[0mCFRSKMedoids\u001b[0m\u001b[1;33m(\u001b[0m\u001b[1;36m8\u001b[0m\u001b[1;33m,\u001b[0m\u001b[0mcartposition\u001b[0m\u001b[1;33m,\u001b[0m\u001b[0mpickup\u001b[0m\u001b[1;33m,\u001b[0m\u001b[0mdelivery\u001b[0m\u001b[1;33m,\u001b[0m\u001b[0mVolume\u001b[0m\u001b[1;33m)\u001b[0m\u001b[1;33m\u001b[0m\u001b[1;33m\u001b[0m\u001b[0m\n\u001b[0m",
      "\u001b[1;32m<ipython-input-2-79114fbe7b64>\u001b[0m in \u001b[0;36mCFRSKMedoids\u001b[1;34m(n_clusters, cartposition, pickup, delivery, Volume)\u001b[0m\n\u001b[0;32m    135\u001b[0m \u001b[1;33m\u001b[0m\u001b[0m\n\u001b[0;32m    136\u001b[0m         \u001b[0mdepot\u001b[0m \u001b[1;33m=\u001b[0m \u001b[0mcartposition\u001b[0m\u001b[1;33m[\u001b[0m\u001b[0mv\u001b[0m\u001b[1;33m]\u001b[0m\u001b[1;33m\u001b[0m\u001b[1;33m\u001b[0m\u001b[0m\n\u001b[1;32m--> 137\u001b[1;33m         \u001b[0mpickup\u001b[0m \u001b[1;33m=\u001b[0m \u001b[0mIndex1\u001b[0m\u001b[1;33m[\u001b[0m\u001b[0mv\u001b[0m\u001b[1;33m]\u001b[0m\u001b[1;33m\u001b[0m\u001b[1;33m\u001b[0m\u001b[0m\n\u001b[0m\u001b[0;32m    138\u001b[0m         \u001b[0mdelivery\u001b[0m \u001b[1;33m=\u001b[0m \u001b[0mIndex3\u001b[0m\u001b[1;33m[\u001b[0m\u001b[0mv\u001b[0m\u001b[1;33m]\u001b[0m\u001b[1;33m\u001b[0m\u001b[1;33m\u001b[0m\u001b[0m\n\u001b[0;32m    139\u001b[0m         \u001b[0mVolume\u001b[0m \u001b[1;33m=\u001b[0m \u001b[0mIndex5\u001b[0m\u001b[1;33m[\u001b[0m\u001b[0mv\u001b[0m\u001b[1;33m]\u001b[0m\u001b[1;33m\u001b[0m\u001b[1;33m\u001b[0m\u001b[0m\n",
      "\u001b[1;31mIndexError\u001b[0m: list index out of range"
     ]
    }
   ],
   "source": [
    "CFRSKMedoids(8,cartposition,pickup,delivery,Volume)"
   ]
  },
  {
   "cell_type": "code",
   "execution_count": 98,
   "metadata": {},
   "outputs": [
    {
     "ename": "StatisticsError",
     "evalue": "variance requires at least two data points",
     "output_type": "error",
     "traceback": [
      "\u001b[1;31m---------------------------------------------------------------------------\u001b[0m",
      "\u001b[1;31mStatisticsError\u001b[0m                           Traceback (most recent call last)",
      "\u001b[1;32m<ipython-input-98-052fb2dafefe>\u001b[0m in \u001b[0;36m<module>\u001b[1;34m\u001b[0m\n\u001b[1;32m----> 1\u001b[1;33m \u001b[0mstatistics\u001b[0m\u001b[1;33m.\u001b[0m\u001b[0mvariance\u001b[0m\u001b[1;33m(\u001b[0m\u001b[1;33m[\u001b[0m\u001b[1;36m2.3043478\u001b[0m\u001b[1;33m]\u001b[0m\u001b[1;33m)\u001b[0m\u001b[1;33m\u001b[0m\u001b[1;33m\u001b[0m\u001b[0m\n\u001b[0m",
      "\u001b[1;32m~\\Anaconda3\\lib\\statistics.py\u001b[0m in \u001b[0;36mvariance\u001b[1;34m(data, xbar)\u001b[0m\n\u001b[0;32m    585\u001b[0m     \u001b[0mn\u001b[0m \u001b[1;33m=\u001b[0m \u001b[0mlen\u001b[0m\u001b[1;33m(\u001b[0m\u001b[0mdata\u001b[0m\u001b[1;33m)\u001b[0m\u001b[1;33m\u001b[0m\u001b[1;33m\u001b[0m\u001b[0m\n\u001b[0;32m    586\u001b[0m     \u001b[1;32mif\u001b[0m \u001b[0mn\u001b[0m \u001b[1;33m<\u001b[0m \u001b[1;36m2\u001b[0m\u001b[1;33m:\u001b[0m\u001b[1;33m\u001b[0m\u001b[1;33m\u001b[0m\u001b[0m\n\u001b[1;32m--> 587\u001b[1;33m         \u001b[1;32mraise\u001b[0m \u001b[0mStatisticsError\u001b[0m\u001b[1;33m(\u001b[0m\u001b[1;34m'variance requires at least two data points'\u001b[0m\u001b[1;33m)\u001b[0m\u001b[1;33m\u001b[0m\u001b[1;33m\u001b[0m\u001b[0m\n\u001b[0m\u001b[0;32m    588\u001b[0m     \u001b[0mT\u001b[0m\u001b[1;33m,\u001b[0m \u001b[0mss\u001b[0m \u001b[1;33m=\u001b[0m \u001b[0m_ss\u001b[0m\u001b[1;33m(\u001b[0m\u001b[0mdata\u001b[0m\u001b[1;33m,\u001b[0m \u001b[0mxbar\u001b[0m\u001b[1;33m)\u001b[0m\u001b[1;33m\u001b[0m\u001b[1;33m\u001b[0m\u001b[0m\n\u001b[0;32m    589\u001b[0m     \u001b[1;32mreturn\u001b[0m \u001b[0m_convert\u001b[0m\u001b[1;33m(\u001b[0m\u001b[0mss\u001b[0m\u001b[1;33m/\u001b[0m\u001b[1;33m(\u001b[0m\u001b[0mn\u001b[0m\u001b[1;33m-\u001b[0m\u001b[1;36m1\u001b[0m\u001b[1;33m)\u001b[0m\u001b[1;33m,\u001b[0m \u001b[0mT\u001b[0m\u001b[1;33m)\u001b[0m\u001b[1;33m\u001b[0m\u001b[1;33m\u001b[0m\u001b[0m\n",
      "\u001b[1;31mStatisticsError\u001b[0m: variance requires at least two data points"
     ]
    }
   ],
   "source": [
    "statistics.variance([2.3043478])"
   ]
  },
  {
   "cell_type": "code",
   "execution_count": 48,
   "metadata": {},
   "outputs": [
    {
     "name": "stdout",
     "output_type": "stream",
     "text": [
      "[7, 7, 1, 5, 2, 13, 14, 14, 8, 9, 10, 10, 2, 10, 13, 11, 14, 14, 14, 13, 14, 11, 13, 13, 13] [11, 10, 7, 8, 8, 8, 8, 6, 5, 14, 14, 13, 14, 4, 4, 4, 11, 1, 7, 7, 9, 7, 10, 5, 6] [2, 1, 1, 11, 1, 5, 1, 1, 1, 1, 5, 2, 1, 1, 1, 2, 10, 1, 2, 1, 1, 1, 2, 1, 1]\n"
     ]
    }
   ],
   "source": [
    "import re as re\n",
    "df12 = pd.read_csv('Request_Lf_db18.csv')\n",
    "df12 = df12.reset_index()\n",
    "df12.columns=['Pickup', 'Constant1','Delivery','Constant2','Volume']\n",
    "df12 = df12[['Pickup','Delivery','Volume']]\n",
    "\n",
    "df12['Pickup'] = df12['Pickup'].apply(lambda x: \" \".join(re.findall(r'[0-9]+',x)))\n",
    "df12['Delivery'] = df12['Delivery'].apply(lambda x: \" \".join(re.findall(r'[0-9]+',x)))\n",
    "\n",
    "Volume = df12['Volume'].to_list()\n",
    "pickup = df12['Pickup'].to_list()\n",
    "delivery = df12['Delivery'].to_list()\n",
    "pickup = [int(i) for i in pickup]\n",
    "delivery = [int(j) for j in delivery]\n",
    "\n",
    "print(pickup,delivery,Volume)"
   ]
  },
  {
   "cell_type": "code",
   "execution_count": 49,
   "metadata": {},
   "outputs": [
    {
     "name": "stdout",
     "output_type": "stream",
     "text": [
      "Distances = [10, 120, 110] \n",
      " Route = [3, 2, 14, 3] \n",
      " Distance = 240 \n",
      " time = 240 secs \n",
      "  Request = [13] \n",
      " Depot =  3 \n",
      " Volume = [1] 1 \n",
      " AvgCartLoad = 1.0 \n",
      "\n"
     ]
    },
    {
     "data": {
      "image/png": "[encoded data removed]",
      "text/plain": [
       "<Figure size 432x288 with 1 Axes>"
      ]
     },
     "metadata": {
      "needs_background": "light"
     },
     "output_type": "display_data"
    },
    {
     "name": "stdout",
     "output_type": "stream",
     "text": [
      "\n",
      "\n",
      "Distances = [40, 40, 0, 70, 70, 40, 40] \n",
      " Route = [3, 7, 11, 11, 4, 11, 7, 3] \n",
      " Distance = 300 \n",
      " time = 300 secs \n",
      "  Request = [1, 16, 22] \n",
      " Depot =  3 \n",
      " Volume = [2, 2, 1] 5 \n",
      " AvgCartLoad = 1.6666666666666667 \n",
      "\n"
     ]
    },
    {
     "data": {
      "image/png": "[encoded data removed]",
      "text/plain": [
       "<Figure size 432x288 with 1 Axes>"
      ]
     },
     "metadata": {
      "needs_background": "light"
     },
     "output_type": "display_data"
    },
    {
     "name": "stdout",
     "output_type": "stream",
     "text": [
      "\n",
      "\n",
      "Distances = [70, 30, 0, 50, 50, 90, 90, 60, 60, 30, 30, 80, 80, 70, 30] \n",
      " Route = [3, 10, 13, 13, 8, 13, 4, 13, 7, 13, 10, 13, 5, 13, 6, 3] \n",
      " Distance = 820 \n",
      " time = 820 secs \n",
      "  Request = [6, 12, 15, 20, 23, 24, 25] \n",
      " Depot =  3 \n",
      " Volume = [5, 2, 1, 1, 2, 1, 1] 13 \n",
      " AvgCartLoad = 1.8571428571428572 \n",
      "\n"
     ]
    },
    {
     "data": {
      "image/png": "[encoded data removed]",
      "text/plain": [
       "<Figure size 432x288 with 1 Axes>"
      ]
     },
     "metadata": {
      "needs_background": "light"
     },
     "output_type": "display_data"
    },
    {
     "name": "stdout",
     "output_type": "stream",
     "text": [
      "\n",
      "\n",
      "Distances = [10, 60, 70, 60, 40] \n",
      " Route = [3, 2, 8, 1, 7, 3] \n",
      " Distance = 240 \n",
      " time = 240 secs \n",
      "  Request = [3, 5] \n",
      " Depot =  3 \n",
      " Volume = [1, 1] 2 \n",
      " AvgCartLoad = 1.0 \n",
      "\n"
     ]
    },
    {
     "data": {
      "image/png": "[encoded data removed]",
      "text/plain": [
       "<Figure size 432x288 with 1 Axes>"
      ]
     },
     "metadata": {
      "needs_background": "light"
     },
     "output_type": "display_data"
    },
    {
     "name": "stdout",
     "output_type": "stream",
     "text": [
      "\n",
      "\n",
      "Distances = [60, 50, 0, 60, 20, 40, 0, 80, 80, 30, 30, 70, 70, 50, 60] \n",
      " Route = [3, 9, 14, 14, 8, 10, 14, 14, 6, 14, 11, 14, 7, 14, 9, 3] \n",
      " Distance = 700 \n",
      " time = 700 secs \n",
      "  Request = [7, 8, 10, 11, 17, 19, 21] \n",
      " Depot =  3 \n",
      " Volume = [1, 1, 1, 5, 10, 2, 1] 21 \n",
      " AvgCartLoad = 3.0 \n",
      "\n"
     ]
    },
    {
     "data": {
      "image/png": "[encoded data removed]",
      "text/plain": [
       "<Figure size 432x288 with 1 Axes>"
      ]
     },
     "metadata": {
      "needs_background": "light"
     },
     "output_type": "display_data"
    },
    {
     "name": "stdout",
     "output_type": "stream",
     "text": [
      "\n",
      "\n",
      "Variance = 0.6739229024943311\n"
     ]
    }
   ],
   "source": [
    "CFRSKMeans(8,cartposition,pickup,delivery,Volume)"
   ]
  },
  {
   "cell_type": "code",
   "execution_count": 50,
   "metadata": {},
   "outputs": [
    {
     "name": "stderr",
     "output_type": "stream",
     "text": [
      "C:\\Users\\peace\\Anaconda3\\lib\\site-packages\\sklearn_extra\\cluster\\_k_medoids.py:279: UserWarning: Cluster 1 is empty! self.labels_[self.medoid_indices_[1]] may not be labeled with its corresponding cluster (1).\n",
      "  \"its corresponding cluster ({k}).\".format(k=k)\n",
      "C:\\Users\\peace\\Anaconda3\\lib\\site-packages\\sklearn_extra\\cluster\\_k_medoids.py:279: UserWarning: Cluster 2 is empty! self.labels_[self.medoid_indices_[2]] may not be labeled with its corresponding cluster (2).\n",
      "  \"its corresponding cluster ({k}).\".format(k=k)\n",
      "C:\\Users\\peace\\Anaconda3\\lib\\site-packages\\sklearn_extra\\cluster\\_k_medoids.py:279: UserWarning: Cluster 3 is empty! self.labels_[self.medoid_indices_[3]] may not be labeled with its corresponding cluster (3).\n",
      "  \"its corresponding cluster ({k}).\".format(k=k)\n",
      "C:\\Users\\peace\\Anaconda3\\lib\\site-packages\\sklearn_extra\\cluster\\_k_medoids.py:279: UserWarning: Cluster 4 is empty! self.labels_[self.medoid_indices_[4]] may not be labeled with its corresponding cluster (4).\n",
      "  \"its corresponding cluster ({k}).\".format(k=k)\n",
      "C:\\Users\\peace\\Anaconda3\\lib\\site-packages\\sklearn_extra\\cluster\\_k_medoids.py:279: UserWarning: Cluster 5 is empty! self.labels_[self.medoid_indices_[5]] may not be labeled with its corresponding cluster (5).\n",
      "  \"its corresponding cluster ({k}).\".format(k=k)\n",
      "C:\\Users\\peace\\Anaconda3\\lib\\site-packages\\sklearn_extra\\cluster\\_k_medoids.py:279: UserWarning: Cluster 6 is empty! self.labels_[self.medoid_indices_[6]] may not be labeled with its corresponding cluster (6).\n",
      "  \"its corresponding cluster ({k}).\".format(k=k)\n"
     ]
    },
    {
     "name": "stdout",
     "output_type": "stream",
     "text": [
      "[0 0 0 0 0 1 7 7 0 7 7 1 7 0 1 0 7 7 7 1 7 0 1 1 1]\n",
      "Distances = [10, 60, 0, 30, 0, 30, 10, 40, 0, 70, 30, 30, 0, 60, 30, 60, 40, 40, 40] \n",
      " Route = [3, 2, 8, 8, 5, 5, 8, 7, 11, 11, 4, 7, 10, 10, 4, 1, 7, 11, 7, 3] \n",
      " Distance = 580 \n",
      " time = 580 secs \n",
      "  Request = [1, 2, 3, 4, 5, 9, 14, 16, 22] \n",
      " Depot =  3 \n",
      " Volume = [2, 1, 1, 11, 1, 1, 1, 2, 1] 21 \n",
      " AvgCartLoad = 2.3333333333333335 \n",
      "\n",
      "\n",
      "\n"
     ]
    },
    {
     "data": {
      "image/png": "[encoded data removed]",
      "text/plain": [
       "<Figure size 432x288 with 1 Axes>"
      ]
     },
     "metadata": {
      "needs_background": "light"
     },
     "output_type": "display_data"
    },
    {
     "name": "stdout",
     "output_type": "stream",
     "text": [
      "\n",
      "\n",
      "Distances = [70, 30, 0, 50, 50, 90, 90, 60, 60, 30, 30, 80, 80, 70, 30] \n",
      " Route = [3, 10, 13, 13, 8, 13, 4, 13, 7, 13, 10, 13, 5, 13, 6, 3] \n",
      " Distance = 820 \n",
      " time = 820 secs \n",
      "  Request = [6, 12, 15, 20, 23, 24, 25] \n",
      " Depot =  3 \n",
      " Volume = [5, 2, 1, 1, 2, 1, 1] 13 \n",
      " AvgCartLoad = 1.8571428571428572 \n",
      "\n",
      "\n",
      "\n"
     ]
    },
    {
     "data": {
      "image/png": "[encoded data removed]",
      "text/plain": [
       "<Figure size 432x288 with 1 Axes>"
      ]
     },
     "metadata": {
      "needs_background": "light"
     },
     "output_type": "display_data"
    },
    {
     "name": "stdout",
     "output_type": "stream",
     "text": [
      "\n",
      "\n",
      "Distances = [10, 120, 0, 60, 10, 50, 0, 80, 40, 40, 0, 30, 30, 130, 130, 70, 70, 50, 60] \n",
      " Route = [3, 2, 14, 14, 8, 9, 14, 14, 6, 10, 14, 14, 11, 14, 1, 14, 7, 14, 9, 3] \n",
      " Distance = 980 \n",
      " time = 980 secs \n",
      "  Request = [7, 8, 10, 11, 13, 17, 18, 19, 21] \n",
      " Depot =  3 \n",
      " Volume = [1, 1, 1, 5, 1, 10, 1, 2, 1] 23 \n",
      " AvgCartLoad = 2.5555555555555554 \n",
      "\n",
      "\n",
      "\n"
     ]
    },
    {
     "data": {
      "image/png": "[encoded data removed]",
      "text/plain": [
       "<Figure size 432x288 with 1 Axes>"
      ]
     },
     "metadata": {
      "needs_background": "light"
     },
     "output_type": "display_data"
    },
    {
     "name": "stdout",
     "output_type": "stream",
     "text": [
      "\n",
      "\n"
     ]
    },
    {
     "ename": "IndexError",
     "evalue": "list index out of range",
     "output_type": "error",
     "traceback": [
      "\u001b[1;31m---------------------------------------------------------------------------\u001b[0m",
      "\u001b[1;31mIndexError\u001b[0m                                Traceback (most recent call last)",
      "\u001b[1;32m<ipython-input-50-75a2837680f7>\u001b[0m in \u001b[0;36m<module>\u001b[1;34m\u001b[0m\n\u001b[1;32m----> 1\u001b[1;33m \u001b[0mCFRSKMedoids\u001b[0m\u001b[1;33m(\u001b[0m\u001b[1;36m8\u001b[0m\u001b[1;33m,\u001b[0m\u001b[0mcartposition\u001b[0m\u001b[1;33m,\u001b[0m\u001b[0mpickup\u001b[0m\u001b[1;33m,\u001b[0m\u001b[0mdelivery\u001b[0m\u001b[1;33m,\u001b[0m\u001b[0mVolume\u001b[0m\u001b[1;33m)\u001b[0m\u001b[1;33m\u001b[0m\u001b[1;33m\u001b[0m\u001b[0m\n\u001b[0m",
      "\u001b[1;32m<ipython-input-2-79114fbe7b64>\u001b[0m in \u001b[0;36mCFRSKMedoids\u001b[1;34m(n_clusters, cartposition, pickup, delivery, Volume)\u001b[0m\n\u001b[0;32m    135\u001b[0m \u001b[1;33m\u001b[0m\u001b[0m\n\u001b[0;32m    136\u001b[0m         \u001b[0mdepot\u001b[0m \u001b[1;33m=\u001b[0m \u001b[0mcartposition\u001b[0m\u001b[1;33m[\u001b[0m\u001b[0mv\u001b[0m\u001b[1;33m]\u001b[0m\u001b[1;33m\u001b[0m\u001b[1;33m\u001b[0m\u001b[0m\n\u001b[1;32m--> 137\u001b[1;33m         \u001b[0mpickup\u001b[0m \u001b[1;33m=\u001b[0m \u001b[0mIndex1\u001b[0m\u001b[1;33m[\u001b[0m\u001b[0mv\u001b[0m\u001b[1;33m]\u001b[0m\u001b[1;33m\u001b[0m\u001b[1;33m\u001b[0m\u001b[0m\n\u001b[0m\u001b[0;32m    138\u001b[0m         \u001b[0mdelivery\u001b[0m \u001b[1;33m=\u001b[0m \u001b[0mIndex3\u001b[0m\u001b[1;33m[\u001b[0m\u001b[0mv\u001b[0m\u001b[1;33m]\u001b[0m\u001b[1;33m\u001b[0m\u001b[1;33m\u001b[0m\u001b[0m\n\u001b[0;32m    139\u001b[0m         \u001b[0mVolume\u001b[0m \u001b[1;33m=\u001b[0m \u001b[0mIndex5\u001b[0m\u001b[1;33m[\u001b[0m\u001b[0mv\u001b[0m\u001b[1;33m]\u001b[0m\u001b[1;33m\u001b[0m\u001b[1;33m\u001b[0m\u001b[0m\n",
      "\u001b[1;31mIndexError\u001b[0m: list index out of range"
     ]
    }
   ],
   "source": [
    "CFRSKMedoids(8,cartposition,pickup,delivery,Volume)"
   ]
  },
  {
   "cell_type": "code",
   "execution_count": 265,
   "metadata": {},
   "outputs": [
    {
     "data": {
      "text/plain": [
       "0.12732005786512335"
      ]
     },
     "execution_count": 265,
     "metadata": {},
     "output_type": "execute_result"
    }
   ],
   "source": [
    "statistics.variance([2.3333333,1.8571429,2.5555556])"
   ]
  },
  {
   "cell_type": "code",
   "execution_count": 51,
   "metadata": {},
   "outputs": [
    {
     "name": "stdout",
     "output_type": "stream",
     "text": [
      "[7, 7, 1, 5, 2, 13, 14, 14, 8, 9, 10, 10, 2, 10, 13, 11, 13, 14, 14, 14, 13, 14, 12] [11, 10, 7, 8, 8, 8, 8, 6, 5, 14, 14, 13, 14, 4, 4, 4, 1, 11, 1, 7, 7, 9, 7] [3, 1, 1, 11, 1, 5, 1, 1, 1, 1, 6, 1, 1, 1, 1, 2, 1, 10, 1, 2, 1, 1, 1]\n"
     ]
    }
   ],
   "source": [
    "import re as re\n",
    "df13 = pd.read_csv('Request_Lf_db19.csv')\n",
    "df13 = df13.reset_index()\n",
    "df13.columns=['Pickup', 'Constant1','Delivery','Constant2','Volume']\n",
    "df13 = df13[['Pickup','Delivery','Volume']]\n",
    "\n",
    "df13['Pickup'] = df13['Pickup'].apply(lambda x: \" \".join(re.findall(r'[0-9]+',x)))\n",
    "df13['Delivery'] = df13['Delivery'].apply(lambda x: \" \".join(re.findall(r'[0-9]+',x)))\n",
    "\n",
    "Volume = df13['Volume'].to_list()\n",
    "pickup = df13['Pickup'].to_list()\n",
    "delivery = df13['Delivery'].to_list()\n",
    "pickup = [int(i) for i in pickup]\n",
    "delivery = [int(j) for j in delivery]\n",
    "\n",
    "print(pickup,delivery,Volume)"
   ]
  },
  {
   "cell_type": "code",
   "execution_count": 52,
   "metadata": {},
   "outputs": [
    {
     "name": "stdout",
     "output_type": "stream",
     "text": [
      "Distances = [10, 120, 0, 130, 120, 120, 20] \n",
      " Route = [3, 2, 14, 14, 1, 13, 1, 3] \n",
      " Distance = 520 \n",
      " time = 520 secs \n",
      "  Request = [13, 17, 19] \n",
      " Depot =  3 \n",
      " Volume = [1, 1, 1] 3 \n",
      " AvgCartLoad = 1.0 \n",
      "\n"
     ]
    },
    {
     "data": {
      "image/png": "[encoded data removed]",
      "text/plain": [
       "<Figure size 432x288 with 1 Axes>"
      ]
     },
     "metadata": {
      "needs_background": "light"
     },
     "output_type": "display_data"
    },
    {
     "name": "stdout",
     "output_type": "stream",
     "text": [
      "\n",
      "\n",
      "Distances = [40, 30, 0, 60, 10] \n",
      " Route = [3, 7, 10, 10, 4, 3] \n",
      " Distance = 140 \n",
      " time = 140 secs \n",
      "  Request = [2, 14] \n",
      " Depot =  3 \n",
      " Volume = [1, 1] 2 \n",
      " AvgCartLoad = 1.0 \n",
      "\n"
     ]
    },
    {
     "data": {
      "image/png": "[encoded data removed]",
      "text/plain": [
       "<Figure size 432x288 with 1 Axes>"
      ]
     },
     "metadata": {
      "needs_background": "light"
     },
     "output_type": "display_data"
    },
    {
     "name": "stdout",
     "output_type": "stream",
     "text": [
      "\n",
      "\n",
      "Distances = [70, 30, 0, 50, 50, 90, 90, 60, 40] \n",
      " Route = [3, 10, 13, 13, 8, 13, 4, 13, 7, 3] \n",
      " Distance = 480 \n",
      " time = 480 secs \n",
      "  Request = [6, 12, 15, 21] \n",
      " Depot =  3 \n",
      " Volume = [5, 1, 1, 1] 8 \n",
      " AvgCartLoad = 2.0 \n",
      "\n"
     ]
    },
    {
     "data": {
      "image/png": "[encoded data removed]",
      "text/plain": [
       "<Figure size 432x288 with 1 Axes>"
      ]
     },
     "metadata": {
      "needs_background": "light"
     },
     "output_type": "display_data"
    },
    {
     "name": "stdout",
     "output_type": "stream",
     "text": [
      "\n",
      "\n",
      "Distances = [20, 30, 0, 30, 20] \n",
      " Route = [3, 5, 8, 8, 5, 3] \n",
      " Distance = 100 \n",
      " time = 100 secs \n",
      "  Request = [4, 9] \n",
      " Depot =  3 \n",
      " Volume = [11, 1] 12 \n",
      " AvgCartLoad = 6.0 \n",
      "\n"
     ]
    },
    {
     "data": {
      "image/png": "[encoded data removed]",
      "text/plain": [
       "<Figure size 432x288 with 1 Axes>"
      ]
     },
     "metadata": {
      "needs_background": "light"
     },
     "output_type": "display_data"
    },
    {
     "name": "stdout",
     "output_type": "stream",
     "text": [
      "\n",
      "\n",
      "Distances = [60, 50, 0, 60, 20, 40, 0, 80, 80, 30, 30, 70, 70, 50, 60] \n",
      " Route = [3, 9, 14, 14, 8, 10, 14, 14, 6, 14, 11, 14, 7, 14, 9, 3] \n",
      " Distance = 700 \n",
      " time = 700 secs \n",
      "  Request = [7, 8, 10, 11, 18, 20, 22] \n",
      " Depot =  3 \n",
      " Volume = [1, 1, 1, 6, 10, 2, 1] 22 \n",
      " AvgCartLoad = 3.142857142857143 \n",
      "\n"
     ]
    },
    {
     "data": {
      "image/png": "[encoded data removed]",
      "text/plain": [
       "<Figure size 432x288 with 1 Axes>"
      ]
     },
     "metadata": {
      "needs_background": "light"
     },
     "output_type": "display_data"
    },
    {
     "name": "stdout",
     "output_type": "stream",
     "text": [
      "\n",
      "\n",
      "Variance = 4.332653061224489\n"
     ]
    }
   ],
   "source": [
    "CFRSKMeans(8,cartposition,pickup,delivery,Volume)"
   ]
  },
  {
   "cell_type": "code",
   "execution_count": 53,
   "metadata": {},
   "outputs": [
    {
     "name": "stderr",
     "output_type": "stream",
     "text": [
      "C:\\Users\\peace\\Anaconda3\\lib\\site-packages\\sklearn_extra\\cluster\\_k_medoids.py:279: UserWarning: Cluster 1 is empty! self.labels_[self.medoid_indices_[1]] may not be labeled with its corresponding cluster (1).\n",
      "  \"its corresponding cluster ({k}).\".format(k=k)\n",
      "C:\\Users\\peace\\Anaconda3\\lib\\site-packages\\sklearn_extra\\cluster\\_k_medoids.py:279: UserWarning: Cluster 2 is empty! self.labels_[self.medoid_indices_[2]] may not be labeled with its corresponding cluster (2).\n",
      "  \"its corresponding cluster ({k}).\".format(k=k)\n",
      "C:\\Users\\peace\\Anaconda3\\lib\\site-packages\\sklearn_extra\\cluster\\_k_medoids.py:279: UserWarning: Cluster 3 is empty! self.labels_[self.medoid_indices_[3]] may not be labeled with its corresponding cluster (3).\n",
      "  \"its corresponding cluster ({k}).\".format(k=k)\n",
      "C:\\Users\\peace\\Anaconda3\\lib\\site-packages\\sklearn_extra\\cluster\\_k_medoids.py:279: UserWarning: Cluster 5 is empty! self.labels_[self.medoid_indices_[5]] may not be labeled with its corresponding cluster (5).\n",
      "  \"its corresponding cluster ({k}).\".format(k=k)\n",
      "C:\\Users\\peace\\Anaconda3\\lib\\site-packages\\sklearn_extra\\cluster\\_k_medoids.py:279: UserWarning: Cluster 6 is empty! self.labels_[self.medoid_indices_[6]] may not be labeled with its corresponding cluster (6).\n",
      "  \"its corresponding cluster ({k}).\".format(k=k)\n",
      "C:\\Users\\peace\\Anaconda3\\lib\\site-packages\\sklearn_extra\\cluster\\_k_medoids.py:279: UserWarning: Cluster 7 is empty! self.labels_[self.medoid_indices_[7]] may not be labeled with its corresponding cluster (7).\n",
      "  \"its corresponding cluster ({k}).\".format(k=k)\n"
     ]
    },
    {
     "name": "stdout",
     "output_type": "stream",
     "text": [
      "[0 0 0 0 0 1 4 4 0 4 4 1 4 0 1 0 4 4 4 4 1 4 1]\n",
      "Distances = [10, 60, 0, 30, 0, 30, 10, 40, 0, 70, 30, 30, 0, 60, 30, 60, 40] \n",
      " Route = [3, 2, 8, 8, 5, 5, 8, 7, 11, 11, 4, 7, 10, 10, 4, 1, 7, 3] \n",
      " Distance = 500 \n",
      " time = 500 secs \n",
      "  Request = [1, 2, 3, 4, 5, 9, 14, 16] \n",
      " Depot =  3 \n",
      " Volume = [3, 1, 1, 11, 1, 1, 1, 2] 21 \n",
      " AvgCartLoad = 2.625 \n",
      "\n",
      "\n",
      "\n"
     ]
    },
    {
     "data": {
      "image/png": "[encoded data removed]",
      "text/plain": [
       "<Figure size 432x288 with 1 Axes>"
      ]
     },
     "metadata": {
      "needs_background": "light"
     },
     "output_type": "display_data"
    },
    {
     "name": "stdout",
     "output_type": "stream",
     "text": [
      "\n",
      "\n",
      "Distances = [70, 30, 0, 50, 40, 50, 60, 90, 90, 60, 40] \n",
      " Route = [3, 10, 13, 13, 8, 12, 7, 13, 4, 13, 7, 3] \n",
      " Distance = 580 \n",
      " time = 580 secs \n",
      "  Request = [6, 12, 15, 21, 23] \n",
      " Depot =  3 \n",
      " Volume = [5, 1, 1, 1, 1] 9 \n",
      " AvgCartLoad = 1.8 \n",
      "\n",
      "\n",
      "\n"
     ]
    },
    {
     "data": {
      "image/png": "[encoded data removed]",
      "text/plain": [
       "<Figure size 432x288 with 1 Axes>"
      ]
     },
     "metadata": {
      "needs_background": "light"
     },
     "output_type": "display_data"
    },
    {
     "name": "stdout",
     "output_type": "stream",
     "text": [
      "\n",
      "\n",
      "Distances = [10, 120, 0, 60, 10, 50, 0, 80, 40, 40, 0, 30, 20, 120, 130, 130, 130, 70, 70, 50, 60] \n",
      " Route = [3, 2, 14, 14, 8, 9, 14, 14, 6, 10, 14, 14, 11, 13, 1, 14, 1, 14, 7, 14, 9, 3] \n",
      " Distance = 1220 \n",
      " time = 1220 secs \n",
      "  Request = [7, 8, 10, 11, 13, 17, 18, 19, 20, 22] \n",
      " Depot =  3 \n",
      " Volume = [1, 1, 1, 6, 1, 1, 10, 1, 2, 1] 25 \n",
      " AvgCartLoad = 2.5 \n",
      "\n",
      "\n",
      "\n"
     ]
    },
    {
     "data": {
      "image/png": "[encoded data removed]",
      "text/plain": [
       "<Figure size 432x288 with 1 Axes>"
      ]
     },
     "metadata": {
      "needs_background": "light"
     },
     "output_type": "display_data"
    },
    {
     "name": "stdout",
     "output_type": "stream",
     "text": [
      "\n",
      "\n"
     ]
    },
    {
     "ename": "IndexError",
     "evalue": "list index out of range",
     "output_type": "error",
     "traceback": [
      "\u001b[1;31m---------------------------------------------------------------------------\u001b[0m",
      "\u001b[1;31mIndexError\u001b[0m                                Traceback (most recent call last)",
      "\u001b[1;32m<ipython-input-53-75a2837680f7>\u001b[0m in \u001b[0;36m<module>\u001b[1;34m\u001b[0m\n\u001b[1;32m----> 1\u001b[1;33m \u001b[0mCFRSKMedoids\u001b[0m\u001b[1;33m(\u001b[0m\u001b[1;36m8\u001b[0m\u001b[1;33m,\u001b[0m\u001b[0mcartposition\u001b[0m\u001b[1;33m,\u001b[0m\u001b[0mpickup\u001b[0m\u001b[1;33m,\u001b[0m\u001b[0mdelivery\u001b[0m\u001b[1;33m,\u001b[0m\u001b[0mVolume\u001b[0m\u001b[1;33m)\u001b[0m\u001b[1;33m\u001b[0m\u001b[1;33m\u001b[0m\u001b[0m\n\u001b[0m",
      "\u001b[1;32m<ipython-input-2-79114fbe7b64>\u001b[0m in \u001b[0;36mCFRSKMedoids\u001b[1;34m(n_clusters, cartposition, pickup, delivery, Volume)\u001b[0m\n\u001b[0;32m    135\u001b[0m \u001b[1;33m\u001b[0m\u001b[0m\n\u001b[0;32m    136\u001b[0m         \u001b[0mdepot\u001b[0m \u001b[1;33m=\u001b[0m \u001b[0mcartposition\u001b[0m\u001b[1;33m[\u001b[0m\u001b[0mv\u001b[0m\u001b[1;33m]\u001b[0m\u001b[1;33m\u001b[0m\u001b[1;33m\u001b[0m\u001b[0m\n\u001b[1;32m--> 137\u001b[1;33m         \u001b[0mpickup\u001b[0m \u001b[1;33m=\u001b[0m \u001b[0mIndex1\u001b[0m\u001b[1;33m[\u001b[0m\u001b[0mv\u001b[0m\u001b[1;33m]\u001b[0m\u001b[1;33m\u001b[0m\u001b[1;33m\u001b[0m\u001b[0m\n\u001b[0m\u001b[0;32m    138\u001b[0m         \u001b[0mdelivery\u001b[0m \u001b[1;33m=\u001b[0m \u001b[0mIndex3\u001b[0m\u001b[1;33m[\u001b[0m\u001b[0mv\u001b[0m\u001b[1;33m]\u001b[0m\u001b[1;33m\u001b[0m\u001b[1;33m\u001b[0m\u001b[0m\n\u001b[0;32m    139\u001b[0m         \u001b[0mVolume\u001b[0m \u001b[1;33m=\u001b[0m \u001b[0mIndex5\u001b[0m\u001b[1;33m[\u001b[0m\u001b[0mv\u001b[0m\u001b[1;33m]\u001b[0m\u001b[1;33m\u001b[0m\u001b[1;33m\u001b[0m\u001b[0m\n",
      "\u001b[1;31mIndexError\u001b[0m: list index out of range"
     ]
    }
   ],
   "source": [
    "CFRSKMedoids(8,cartposition,pickup,delivery,Volume)"
   ]
  },
  {
   "cell_type": "code",
   "execution_count": 46,
   "metadata": {},
   "outputs": [
    {
     "data": {
      "text/plain": [
       "0.19770833333333332"
      ]
     },
     "execution_count": 46,
     "metadata": {},
     "output_type": "execute_result"
    }
   ],
   "source": [
    "statistics.variance([2.625,1.8,2.5])"
   ]
  },
  {
   "cell_type": "code",
   "execution_count": null,
   "metadata": {},
   "outputs": [],
   "source": []
  }
 ],
 "metadata": {
  "kernelspec": {
   "display_name": "Python 3",
   "language": "python",
   "name": "python3"
  },
  "language_info": {
   "codemirror_mode": {
    "name": "ipython",
    "version": 3
   },
   "file_extension": ".py",
   "mimetype": "text/x-python",
   "name": "python",
   "nbconvert_exporter": "python",
   "pygments_lexer": "ipython3",
   "version": "3.7.4"
  }
 },
 "nbformat": 4,
 "nbformat_minor": 2
}
